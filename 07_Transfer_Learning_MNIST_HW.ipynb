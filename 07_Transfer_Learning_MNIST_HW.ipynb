{
 "cells": [
  {
   "cell_type": "markdown",
   "metadata": {},
   "source": [
    "## Transfer Learning using MNIST data\n",
    "To illustrate the power and concept of transfer learning, we will train a CNN on just the digits 5,6,7,8,9.  Then we will train just the last layer(s) of the network on the digits 0,1,2,3,4 and see how well the features learned on 5-9 help with classifying 0-4.\n",
    "\n",
    "Adapted from https://github.com/fchollet/keras/blob/master/examples/mnist_transfer_cnn.py"
   ]
  },
  {
   "cell_type": "code",
   "execution_count": 1,
   "metadata": {},
   "outputs": [],
   "source": [
    "import os, random, numpy as np, tensorflow as tf\n",
    "os.environ['TF_DETERMINISTIC_OPS'] = '1'\n",
    "\n",
    "def set_seed(seed_value=1234):\n",
    "    random.seed(seed_value)\n",
    "    np.random.seed(seed_value)\n",
    "    tf.random.set_seed(seed_value)\n",
    "    os.environ['PYTHONHASHSEED'] = str(seed_value)\n",
    "    \n",
    "set_seed()\n",
    "    "
   ]
  },
  {
   "cell_type": "code",
   "execution_count": 2,
   "metadata": {},
   "outputs": [],
   "source": [
    "from __future__ import print_function\n",
    "\n",
    "import datetime\n",
    "import keras\n",
    "from keras.datasets import mnist\n",
    "from keras.models import Sequential\n",
    "from keras.layers import Dense, Dropout, Activation, Flatten\n",
    "from keras.layers import Conv2D, MaxPooling2D\n",
    "from keras import backend as K"
   ]
  },
  {
   "cell_type": "code",
   "execution_count": 3,
   "metadata": {},
   "outputs": [],
   "source": [
    "#used to help some of the timing functions\n",
    "now = datetime.datetime.now"
   ]
  },
  {
   "cell_type": "code",
   "execution_count": 4,
   "metadata": {},
   "outputs": [],
   "source": [
    "# set some parameters\n",
    "batch_size = 128\n",
    "num_classes = 5\n",
    "epochs = 10"
   ]
  },
  {
   "cell_type": "code",
   "execution_count": 5,
   "metadata": {},
   "outputs": [],
   "source": [
    "# set some more parameters\n",
    "img_rows, img_cols = 28, 28"
   ]
  },
  {
   "cell_type": "code",
   "execution_count": 6,
   "metadata": {},
   "outputs": [],
   "source": [
    "## This just handles some variability in how the input data is loaded\n",
    "\n",
    "if K.image_data_format() == 'channels_first':\n",
    "    input_shape = (1, img_rows, img_cols)\n",
    "else:\n",
    "    input_shape = (img_rows, img_cols, 1)"
   ]
  },
  {
   "cell_type": "code",
   "execution_count": 7,
   "metadata": {},
   "outputs": [],
   "source": [
    "## To simplify things, write a function to include all the training steps\n",
    "## As input, function takes a model, training set, test set, and the number of classes\n",
    "## Inside the model object will be the state about which layers we are freezing and which we are training\n",
    "\n",
    "def train_model(model, train, test, num_classes, epochs=5):\n",
    "    x_train = train[0].reshape((train[0].shape[0],) + input_shape)\n",
    "    x_test = test[0].reshape((test[0].shape[0],) + input_shape)\n",
    "    x_train = x_train.astype('float32')\n",
    "    x_test = x_test.astype('float32')\n",
    "    x_train /= 255\n",
    "    x_test /= 255\n",
    "    print('x_train shape:', x_train.shape)\n",
    "    print(x_train.shape[0], 'train samples')\n",
    "    print(x_test.shape[0], 'test samples')\n",
    "\n",
    "    # convert class vectors to binary class matrices\n",
    "    y_train = keras.utils.to_categorical(train[1], num_classes)\n",
    "    y_test = keras.utils.to_categorical(test[1], num_classes)\n",
    "\n",
    "    model.compile(loss='categorical_crossentropy',\n",
    "                  optimizer='sgd',\n",
    "                  metrics=['accuracy'])\n",
    "\n",
    "    t = now()\n",
    "    model.fit(x_train, y_train,\n",
    "              batch_size=batch_size,\n",
    "              epochs=epochs,\n",
    "              verbose=1,\n",
    "              validation_data=(x_test, y_test))\n",
    "    print('Training time: %s' % (now() - t))\n",
    "\n",
    "    score = model.evaluate(x_test, y_test, verbose=0)\n",
    "    print('Test score:', score[0])\n",
    "    print('Test accuracy:', score[1])"
   ]
  },
  {
   "cell_type": "code",
   "execution_count": 8,
   "metadata": {},
   "outputs": [],
   "source": [
    "# the data, shuffled and split between train and test sets\n",
    "(x_train, y_train), (x_test, y_test) = mnist.load_data()\n",
    "\n",
    "# create two datasets: one with digits below 5 and one with 5 and above\n",
    "x_train_lt5 = x_train[y_train < 5]\n",
    "y_train_lt5 = y_train[y_train < 5]\n",
    "x_test_lt5 = x_test[y_test < 5]\n",
    "y_test_lt5 = y_test[y_test < 5]\n",
    "\n",
    "x_train_gte5 = x_train[y_train >= 5]\n",
    "y_train_gte5 = y_train[y_train >= 5] - 5\n",
    "x_test_gte5 = x_test[y_test >= 5]\n",
    "y_test_gte5 = y_test[y_test >= 5] - 5"
   ]
  },
  {
   "cell_type": "code",
   "execution_count": 9,
   "metadata": {},
   "outputs": [],
   "source": [
    "# Define the \"feature\" layers.  These are the early layers that we expect will \"transfer\"\n",
    "# to a new problem.  We will freeze these layers during the fine-tuning process\n",
    "\n",
    "feature_layers = [\n",
    "    Conv2D(16, kernel_size=(3, 3),\n",
    "           padding='valid',\n",
    "           input_shape=input_shape, activation='relu'),\n",
    "    Conv2D(16, kernel_size=(3, 3), activation='relu'),\n",
    "    MaxPooling2D(pool_size=(2, 2)),\n",
    "    Dropout(0.25),\n",
    "    Flatten()\n",
    "]"
   ]
  },
  {
   "cell_type": "code",
   "execution_count": 10,
   "metadata": {},
   "outputs": [],
   "source": [
    "# Define the \"classification\" layers.  These are the later layers that predict the specific classes from the features\n",
    "# learned by the feature layers.  This is the part of the model that needs to be re-trained for a new problem\n",
    "\n",
    "classification_layers = [\n",
    "    Dense(128, activation='relu'),\n",
    "    Dropout(0.5),\n",
    "    Dense(num_classes, activation='softmax')\n",
    "]"
   ]
  },
  {
   "cell_type": "code",
   "execution_count": 11,
   "metadata": {},
   "outputs": [],
   "source": [
    "# We create our model by combining the two sets of layers as follows\n",
    "model = Sequential(feature_layers + classification_layers)"
   ]
  },
  {
   "cell_type": "code",
   "execution_count": 12,
   "metadata": {},
   "outputs": [
    {
     "name": "stdout",
     "output_type": "stream",
     "text": [
      "Model: \"sequential\"\n",
      "_________________________________________________________________\n",
      " Layer (type)                Output Shape              Param #   \n",
      "=================================================================\n",
      " conv2d (Conv2D)             (None, 26, 26, 16)        160       \n",
      "                                                                 \n",
      " conv2d_1 (Conv2D)           (None, 24, 24, 16)        2320      \n",
      "                                                                 \n",
      " max_pooling2d (MaxPooling2D  (None, 12, 12, 16)       0         \n",
      " )                                                               \n",
      "                                                                 \n",
      " dropout (Dropout)           (None, 12, 12, 16)        0         \n",
      "                                                                 \n",
      " flatten (Flatten)           (None, 2304)              0         \n",
      "                                                                 \n",
      " dense (Dense)               (None, 128)               295040    \n",
      "                                                                 \n",
      " dropout_1 (Dropout)         (None, 128)               0         \n",
      "                                                                 \n",
      " dense_1 (Dense)             (None, 5)                 645       \n",
      "                                                                 \n",
      "=================================================================\n",
      "Total params: 298,165\n",
      "Trainable params: 298,165\n",
      "Non-trainable params: 0\n",
      "_________________________________________________________________\n"
     ]
    }
   ],
   "source": [
    "# Let's take a look\n",
    "model.summary()"
   ]
  },
  {
   "cell_type": "code",
   "execution_count": 13,
   "metadata": {},
   "outputs": [
    {
     "name": "stdout",
     "output_type": "stream",
     "text": [
      "x_train shape: (29404, 28, 28, 1)\n",
      "29404 train samples\n",
      "4861 test samples\n",
      "Epoch 1/10\n",
      "230/230 [==============================] - 9s 10ms/step - loss: 0.9881 - accuracy: 0.6252 - val_loss: 0.3102 - val_accuracy: 0.9074\n",
      "Epoch 2/10\n",
      "230/230 [==============================] - 2s 7ms/step - loss: 0.4032 - accuracy: 0.8608 - val_loss: 0.2154 - val_accuracy: 0.9317\n",
      "Epoch 3/10\n",
      "230/230 [==============================] - 2s 7ms/step - loss: 0.3151 - accuracy: 0.8972 - val_loss: 0.1773 - val_accuracy: 0.9459\n",
      "Epoch 4/10\n",
      "230/230 [==============================] - 2s 7ms/step - loss: 0.2717 - accuracy: 0.9103 - val_loss: 0.1533 - val_accuracy: 0.9510\n",
      "Epoch 5/10\n",
      "230/230 [==============================] - 2s 7ms/step - loss: 0.2447 - accuracy: 0.9189 - val_loss: 0.1386 - val_accuracy: 0.9580\n",
      "Epoch 6/10\n",
      "230/230 [==============================] - 2s 7ms/step - loss: 0.2190 - accuracy: 0.9288 - val_loss: 0.1255 - val_accuracy: 0.9593\n",
      "Epoch 7/10\n",
      "230/230 [==============================] - 2s 7ms/step - loss: 0.2102 - accuracy: 0.9315 - val_loss: 0.1182 - val_accuracy: 0.9640\n",
      "Epoch 8/10\n",
      "230/230 [==============================] - 2s 7ms/step - loss: 0.1950 - accuracy: 0.9371 - val_loss: 0.1112 - val_accuracy: 0.9634\n",
      "Epoch 9/10\n",
      "230/230 [==============================] - 2s 7ms/step - loss: 0.1866 - accuracy: 0.9390 - val_loss: 0.1049 - val_accuracy: 0.9656\n",
      "Epoch 10/10\n",
      "230/230 [==============================] - 2s 7ms/step - loss: 0.1796 - accuracy: 0.9415 - val_loss: 0.1026 - val_accuracy: 0.9667\n",
      "Training time: 0:00:25.913790\n",
      "Test score: 0.102635458111763\n",
      "Test accuracy: 0.9666735529899597\n"
     ]
    }
   ],
   "source": [
    "# Now, let's train our model on the digits 5,6,7,8,9\n",
    "\n",
    "train_model(model,\n",
    "            (x_train_gte5, y_train_gte5),\n",
    "            (x_test_gte5, y_test_gte5), num_classes, epochs=epochs)"
   ]
  },
  {
   "cell_type": "markdown",
   "metadata": {},
   "source": [
    "### Freezing Layers\n",
    "Keras allows layers to be \"frozen\" during the training process.  That is, some layers would have their weights updated during the training process, while others would not.  This is a core part of transfer learning, the ability to train just the last one or several layers.\n",
    "\n",
    "Note also, that a lot of the training time is spent \"back-propagating\" the gradients back to the first layer.  Therefore, if we only need to compute the gradients back a small number of layers, the training time is much quicker per iteration.  This is in addition to the savings gained by being able to train on a smaller data set."
   ]
  },
  {
   "cell_type": "markdown",
   "metadata": {},
   "source": [
    "### Looking Inside Model"
   ]
  },
  {
   "cell_type": "markdown",
   "metadata": {},
   "source": [
    "## [Code for Viewing Layers](https://docs.google.com/document/d/1iACjBPWTWvXTSecBNHx1xEtODcHSpnU6HFY82b4b6Ys)\n",
    "\n",
    "#### Copy and Paste the code here!"
   ]
  },
  {
   "cell_type": "markdown",
   "metadata": {},
   "source": [
    "### Freeze CNN Layers (Low-level or Early Layers)"
   ]
  },
  {
   "cell_type": "code",
   "execution_count": 14,
   "metadata": {},
   "outputs": [],
   "source": [
    "# Freeze only the \n",
    "for l in feature_layers:\n",
    "    l.trainable = False"
   ]
  },
  {
   "cell_type": "markdown",
   "metadata": {},
   "source": [
    "Observe below the differences between the number of *total params*, *trainable params*, and *non-trainable params*."
   ]
  },
  {
   "cell_type": "code",
   "execution_count": 15,
   "metadata": {},
   "outputs": [
    {
     "name": "stdout",
     "output_type": "stream",
     "text": [
      "Model: \"sequential\"\n",
      "_________________________________________________________________\n",
      " Layer (type)                Output Shape              Param #   \n",
      "=================================================================\n",
      " conv2d (Conv2D)             (None, 26, 26, 16)        160       \n",
      "                                                                 \n",
      " conv2d_1 (Conv2D)           (None, 24, 24, 16)        2320      \n",
      "                                                                 \n",
      " max_pooling2d (MaxPooling2D  (None, 12, 12, 16)       0         \n",
      " )                                                               \n",
      "                                                                 \n",
      " dropout (Dropout)           (None, 12, 12, 16)        0         \n",
      "                                                                 \n",
      " flatten (Flatten)           (None, 2304)              0         \n",
      "                                                                 \n",
      " dense (Dense)               (None, 128)               295040    \n",
      "                                                                 \n",
      " dropout_1 (Dropout)         (None, 128)               0         \n",
      "                                                                 \n",
      " dense_1 (Dense)             (None, 5)                 645       \n",
      "                                                                 \n",
      "=================================================================\n",
      "Total params: 298,165\n",
      "Trainable params: 295,685\n",
      "Non-trainable params: 2,480\n",
      "_________________________________________________________________\n"
     ]
    }
   ],
   "source": [
    "model.summary()"
   ]
  },
  {
   "cell_type": "code",
   "execution_count": 16,
   "metadata": {},
   "outputs": [
    {
     "name": "stdout",
     "output_type": "stream",
     "text": [
      "x_train shape: (30596, 28, 28, 1)\n",
      "30596 train samples\n",
      "5139 test samples\n",
      "Epoch 1/2\n",
      "240/240 [==============================] - 3s 9ms/step - loss: 0.4831 - accuracy: 0.8471 - val_loss: 0.1254 - val_accuracy: 0.9659\n",
      "Epoch 2/2\n",
      "240/240 [==============================] - 1s 6ms/step - loss: 0.2344 - accuracy: 0.9295 - val_loss: 0.0916 - val_accuracy: 0.9755\n",
      "Training time: 0:00:04.043063\n",
      "Test score: 0.09161242097616196\n",
      "Test accuracy: 0.9754816293716431\n"
     ]
    }
   ],
   "source": [
    "train_model(model,\n",
    "            (x_train_lt5, y_train_lt5),\n",
    "            (x_test_lt5, y_test_lt5), num_classes, epochs=epochs//4)"
   ]
  },
  {
   "cell_type": "markdown",
   "metadata": {},
   "source": [
    "Note that after a single epoch, we are already achieving results on classifying 0-4 that are comparable to those achieved on 5-9 after 5 full epochs.  This despite the fact the we are only \"fine-tuning\" the last layer of the network, and all the early layers have never seen what the digits 0-4 look like.\n",
    "\n",
    "Also, note that even though nearly all (590K/600K) of the *parameters* were trainable, the training time per epoch was still much reduced.  This is because the unfrozen part of the network was very shallow, making backpropagation faster. "
   ]
  },
  {
   "cell_type": "markdown",
   "metadata": {},
   "source": [
    "## Exercise\n",
    "### To do:\n",
    "- Now write code to reverse this training process.  That is, you will train on the digits 0-4, and then finetune only the last layers on the digits 5-9."
   ]
  },
  {
   "cell_type": "code",
   "execution_count": 17,
   "metadata": {},
   "outputs": [
    {
     "name": "stdout",
     "output_type": "stream",
     "text": [
      "x_train shape: (30596, 28, 28, 1)\n",
      "30596 train samples\n",
      "5139 test samples\n",
      "Epoch 1/10\n",
      "240/240 [==============================] - 2s 8ms/step - loss: 0.1881 - accuracy: 0.9429 - val_loss: 0.0788 - val_accuracy: 0.9778\n",
      "Epoch 2/10\n",
      "240/240 [==============================] - 2s 7ms/step - loss: 0.1653 - accuracy: 0.9511 - val_loss: 0.0710 - val_accuracy: 0.9786\n",
      "Epoch 3/10\n",
      "240/240 [==============================] - 1s 6ms/step - loss: 0.1577 - accuracy: 0.9519 - val_loss: 0.0670 - val_accuracy: 0.9807\n",
      "Epoch 4/10\n",
      "240/240 [==============================] - 1s 6ms/step - loss: 0.1474 - accuracy: 0.9563 - val_loss: 0.0612 - val_accuracy: 0.9825\n",
      "Epoch 5/10\n",
      "240/240 [==============================] - 2s 7ms/step - loss: 0.1435 - accuracy: 0.9560 - val_loss: 0.0615 - val_accuracy: 0.9833\n",
      "Epoch 6/10\n",
      "240/240 [==============================] - 1s 6ms/step - loss: 0.1305 - accuracy: 0.9604 - val_loss: 0.0546 - val_accuracy: 0.9846\n",
      "Epoch 7/10\n",
      "240/240 [==============================] - 2s 7ms/step - loss: 0.1274 - accuracy: 0.9620 - val_loss: 0.0524 - val_accuracy: 0.9854\n",
      "Epoch 8/10\n",
      "240/240 [==============================] - 1s 6ms/step - loss: 0.1241 - accuracy: 0.9639 - val_loss: 0.0504 - val_accuracy: 0.9852\n",
      "Epoch 9/10\n",
      "240/240 [==============================] - 1s 6ms/step - loss: 0.1172 - accuracy: 0.9650 - val_loss: 0.0512 - val_accuracy: 0.9840\n",
      "Epoch 10/10\n",
      "240/240 [==============================] - 2s 6ms/step - loss: 0.1154 - accuracy: 0.9642 - val_loss: 0.0463 - val_accuracy: 0.9846\n",
      "Training time: 0:00:15.926419\n",
      "Test score: 0.04632194712758064\n",
      "Test accuracy: 0.984627366065979\n",
      "x_train shape: (29404, 28, 28, 1)\n",
      "29404 train samples\n",
      "4861 test samples\n",
      "Epoch 1/2\n",
      "230/230 [==============================] - 2s 8ms/step - loss: 0.4150 - accuracy: 0.8632 - val_loss: 0.1471 - val_accuracy: 0.9525\n",
      "Epoch 2/2\n",
      "230/230 [==============================] - 1s 6ms/step - loss: 0.2472 - accuracy: 0.9202 - val_loss: 0.1245 - val_accuracy: 0.9607\n",
      "Training time: 0:00:03.811235\n",
      "Test score: 0.12449665367603302\n",
      "Test accuracy: 0.9607076644897461\n"
     ]
    }
   ],
   "source": [
    "# Reinitialize the model\n",
    "model = Sequential(feature_layers + classification_layers)\n",
    "\n",
    "# Train on the digits 0-4\n",
    "train_model(model,\n",
    "      (x_train_lt5, y_train_lt5),\n",
    "      (x_test_lt5, y_test_lt5), num_classes, epochs=epochs)\n",
    "\n",
    "# Freeze the feature layers\n",
    "for l in feature_layers:\n",
    "  l.trainable = False\n",
    "\n",
    "# Train on the digits 5-9\n",
    "train_model(model,\n",
    "      (x_train_gte5, y_train_gte5),\n",
    "      (x_test_gte5, y_test_gte5), num_classes, epochs=epochs//4)"
   ]
  }
 ],
 "metadata": {
  "kernelspec": {
   "display_name": "dl_env",
   "language": "python",
   "name": "dl_env"
  },
  "language_info": {
   "codemirror_mode": {
    "name": "ipython",
    "version": 3
   },
   "file_extension": ".py",
   "mimetype": "text/x-python",
   "name": "python",
   "nbconvert_exporter": "python",
   "pygments_lexer": "ipython3",
   "version": "3.10.16"
  }
 },
 "nbformat": 4,
 "nbformat_minor": 1
}
