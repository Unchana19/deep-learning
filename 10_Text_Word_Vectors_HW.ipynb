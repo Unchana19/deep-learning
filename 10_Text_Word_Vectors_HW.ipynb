{
 "cells": [
  {
   "cell_type": "markdown",
   "metadata": {
    "run_control": {
     "frozen": false,
     "read_only": false
    },
    "slideshow": {
     "slide_type": "slide"
    }
   },
   "source": [
    "## Skipgrams in Keras\n",
    "\n",
    "- In this lecture, we will implement Skipgrams in `Keras`.\n",
    "\n",
    "#### Loading in and preprocessing data\n",
    "- Load the Alice in Wonderland data in Corpus using Keras utility\n",
    "- `Keras` has some nice text preprocessing features too!\n",
    "- Split the text into sentences.\n",
    "- Use `Keras`' `Tokenizer` to tokenize sentences into words."
   ]
  },
  {
   "cell_type": "code",
   "execution_count": 10,
   "metadata": {
    "init_cell": true,
    "run_control": {
     "frozen": false,
     "read_only": false
    },
    "slideshow": {
     "slide_type": "skip"
    }
   },
   "outputs": [
    {
     "name": "stderr",
     "output_type": "stream",
     "text": [
      "[nltk_data] Downloading collection 'all'\n",
      "[nltk_data]    | \n",
      "[nltk_data]    | Downloading package abc to\n",
      "[nltk_data]    |     C:\\Users\\ASUS\\AppData\\Roaming\\nltk_data...\n",
      "[nltk_data]    |   Unzipping corpora\\abc.zip.\n",
      "[nltk_data]    | Downloading package alpino to\n",
      "[nltk_data]    |     C:\\Users\\ASUS\\AppData\\Roaming\\nltk_data...\n",
      "[nltk_data]    |   Unzipping corpora\\alpino.zip.\n",
      "[nltk_data]    | Downloading package averaged_perceptron_tagger to\n",
      "[nltk_data]    |     C:\\Users\\ASUS\\AppData\\Roaming\\nltk_data...\n",
      "[nltk_data]    |   Unzipping taggers\\averaged_perceptron_tagger.zip.\n",
      "[nltk_data]    | Downloading package averaged_perceptron_tagger_eng to\n",
      "[nltk_data]    |     C:\\Users\\ASUS\\AppData\\Roaming\\nltk_data...\n",
      "[nltk_data]    |   Unzipping\n",
      "[nltk_data]    |       taggers\\averaged_perceptron_tagger_eng.zip.\n",
      "[nltk_data]    | Downloading package averaged_perceptron_tagger_ru to\n",
      "[nltk_data]    |     C:\\Users\\ASUS\\AppData\\Roaming\\nltk_data...\n",
      "[nltk_data]    |   Unzipping\n",
      "[nltk_data]    |       taggers\\averaged_perceptron_tagger_ru.zip.\n",
      "[nltk_data]    | Downloading package averaged_perceptron_tagger_rus to\n",
      "[nltk_data]    |     C:\\Users\\ASUS\\AppData\\Roaming\\nltk_data...\n",
      "[nltk_data]    |   Unzipping\n",
      "[nltk_data]    |       taggers\\averaged_perceptron_tagger_rus.zip.\n",
      "[nltk_data]    | Downloading package basque_grammars to\n",
      "[nltk_data]    |     C:\\Users\\ASUS\\AppData\\Roaming\\nltk_data...\n",
      "[nltk_data]    |   Unzipping grammars\\basque_grammars.zip.\n",
      "[nltk_data]    | Downloading package bcp47 to\n",
      "[nltk_data]    |     C:\\Users\\ASUS\\AppData\\Roaming\\nltk_data...\n",
      "[nltk_data]    | Downloading package biocreative_ppi to\n",
      "[nltk_data]    |     C:\\Users\\ASUS\\AppData\\Roaming\\nltk_data...\n",
      "[nltk_data]    |   Unzipping corpora\\biocreative_ppi.zip.\n",
      "[nltk_data]    | Downloading package bllip_wsj_no_aux to\n",
      "[nltk_data]    |     C:\\Users\\ASUS\\AppData\\Roaming\\nltk_data...\n",
      "[nltk_data]    |   Unzipping models\\bllip_wsj_no_aux.zip.\n",
      "[nltk_data]    | Downloading package book_grammars to\n",
      "[nltk_data]    |     C:\\Users\\ASUS\\AppData\\Roaming\\nltk_data...\n",
      "[nltk_data]    |   Unzipping grammars\\book_grammars.zip.\n",
      "[nltk_data]    | Downloading package brown to\n",
      "[nltk_data]    |     C:\\Users\\ASUS\\AppData\\Roaming\\nltk_data...\n",
      "[nltk_data]    |   Unzipping corpora\\brown.zip.\n",
      "[nltk_data]    | Downloading package brown_tei to\n",
      "[nltk_data]    |     C:\\Users\\ASUS\\AppData\\Roaming\\nltk_data...\n",
      "[nltk_data]    |   Unzipping corpora\\brown_tei.zip.\n",
      "[nltk_data]    | Downloading package cess_cat to\n",
      "[nltk_data]    |     C:\\Users\\ASUS\\AppData\\Roaming\\nltk_data...\n",
      "[nltk_data]    |   Unzipping corpora\\cess_cat.zip.\n",
      "[nltk_data]    | Downloading package cess_esp to\n",
      "[nltk_data]    |     C:\\Users\\ASUS\\AppData\\Roaming\\nltk_data...\n",
      "[nltk_data]    |   Unzipping corpora\\cess_esp.zip.\n",
      "[nltk_data]    | Downloading package chat80 to\n",
      "[nltk_data]    |     C:\\Users\\ASUS\\AppData\\Roaming\\nltk_data...\n",
      "[nltk_data]    |   Unzipping corpora\\chat80.zip.\n",
      "[nltk_data]    | Downloading package city_database to\n",
      "[nltk_data]    |     C:\\Users\\ASUS\\AppData\\Roaming\\nltk_data...\n",
      "[nltk_data]    |   Unzipping corpora\\city_database.zip.\n",
      "[nltk_data]    | Downloading package cmudict to\n",
      "[nltk_data]    |     C:\\Users\\ASUS\\AppData\\Roaming\\nltk_data...\n",
      "[nltk_data]    |   Unzipping corpora\\cmudict.zip.\n",
      "[nltk_data]    | Downloading package comparative_sentences to\n",
      "[nltk_data]    |     C:\\Users\\ASUS\\AppData\\Roaming\\nltk_data...\n",
      "[nltk_data]    |   Unzipping corpora\\comparative_sentences.zip.\n",
      "[nltk_data]    | Downloading package comtrans to\n",
      "[nltk_data]    |     C:\\Users\\ASUS\\AppData\\Roaming\\nltk_data...\n",
      "[nltk_data]    | Downloading package conll2000 to\n",
      "[nltk_data]    |     C:\\Users\\ASUS\\AppData\\Roaming\\nltk_data...\n",
      "[nltk_data]    |   Unzipping corpora\\conll2000.zip.\n",
      "[nltk_data]    | Downloading package conll2002 to\n",
      "[nltk_data]    |     C:\\Users\\ASUS\\AppData\\Roaming\\nltk_data...\n",
      "[nltk_data]    |   Unzipping corpora\\conll2002.zip.\n",
      "[nltk_data]    | Downloading package conll2007 to\n",
      "[nltk_data]    |     C:\\Users\\ASUS\\AppData\\Roaming\\nltk_data...\n",
      "[nltk_data]    | Downloading package crubadan to\n",
      "[nltk_data]    |     C:\\Users\\ASUS\\AppData\\Roaming\\nltk_data...\n",
      "[nltk_data]    |   Unzipping corpora\\crubadan.zip.\n",
      "[nltk_data]    | Downloading package dependency_treebank to\n",
      "[nltk_data]    |     C:\\Users\\ASUS\\AppData\\Roaming\\nltk_data...\n",
      "[nltk_data]    |   Unzipping corpora\\dependency_treebank.zip.\n",
      "[nltk_data]    | Downloading package dolch to\n",
      "[nltk_data]    |     C:\\Users\\ASUS\\AppData\\Roaming\\nltk_data...\n",
      "[nltk_data]    |   Unzipping corpora\\dolch.zip.\n",
      "[nltk_data]    | Downloading package europarl_raw to\n",
      "[nltk_data]    |     C:\\Users\\ASUS\\AppData\\Roaming\\nltk_data...\n",
      "[nltk_data]    |   Unzipping corpora\\europarl_raw.zip.\n",
      "[nltk_data]    | Downloading package extended_omw to\n",
      "[nltk_data]    |     C:\\Users\\ASUS\\AppData\\Roaming\\nltk_data...\n",
      "[nltk_data]    | Downloading package floresta to\n",
      "[nltk_data]    |     C:\\Users\\ASUS\\AppData\\Roaming\\nltk_data...\n",
      "[nltk_data]    |   Unzipping corpora\\floresta.zip.\n",
      "[nltk_data]    | Downloading package framenet_v15 to\n",
      "[nltk_data]    |     C:\\Users\\ASUS\\AppData\\Roaming\\nltk_data...\n",
      "[nltk_data]    |   Unzipping corpora\\framenet_v15.zip.\n",
      "[nltk_data]    | Downloading package framenet_v17 to\n",
      "[nltk_data]    |     C:\\Users\\ASUS\\AppData\\Roaming\\nltk_data...\n",
      "[nltk_data]    |   Unzipping corpora\\framenet_v17.zip.\n",
      "[nltk_data]    | Downloading package gazetteers to\n",
      "[nltk_data]    |     C:\\Users\\ASUS\\AppData\\Roaming\\nltk_data...\n",
      "[nltk_data]    |   Unzipping corpora\\gazetteers.zip.\n",
      "[nltk_data]    | Downloading package genesis to\n",
      "[nltk_data]    |     C:\\Users\\ASUS\\AppData\\Roaming\\nltk_data...\n",
      "[nltk_data]    |   Unzipping corpora\\genesis.zip.\n",
      "[nltk_data]    | Downloading package gutenberg to\n",
      "[nltk_data]    |     C:\\Users\\ASUS\\AppData\\Roaming\\nltk_data...\n",
      "[nltk_data]    |   Unzipping corpora\\gutenberg.zip.\n",
      "[nltk_data]    | Downloading package ieer to\n",
      "[nltk_data]    |     C:\\Users\\ASUS\\AppData\\Roaming\\nltk_data...\n",
      "[nltk_data]    |   Unzipping corpora\\ieer.zip.\n",
      "[nltk_data]    | Downloading package inaugural to\n",
      "[nltk_data]    |     C:\\Users\\ASUS\\AppData\\Roaming\\nltk_data...\n",
      "[nltk_data]    |   Unzipping corpora\\inaugural.zip.\n",
      "[nltk_data]    | Downloading package indian to\n",
      "[nltk_data]    |     C:\\Users\\ASUS\\AppData\\Roaming\\nltk_data...\n",
      "[nltk_data]    |   Unzipping corpora\\indian.zip.\n",
      "[nltk_data]    | Downloading package jeita to\n",
      "[nltk_data]    |     C:\\Users\\ASUS\\AppData\\Roaming\\nltk_data...\n",
      "[nltk_data]    | Downloading package kimmo to\n",
      "[nltk_data]    |     C:\\Users\\ASUS\\AppData\\Roaming\\nltk_data...\n",
      "[nltk_data]    |   Unzipping corpora\\kimmo.zip.\n",
      "[nltk_data]    | Downloading package knbc to\n",
      "[nltk_data]    |     C:\\Users\\ASUS\\AppData\\Roaming\\nltk_data...\n",
      "[nltk_data]    | Downloading package large_grammars to\n",
      "[nltk_data]    |     C:\\Users\\ASUS\\AppData\\Roaming\\nltk_data...\n",
      "[nltk_data]    |   Unzipping grammars\\large_grammars.zip.\n",
      "[nltk_data]    | Downloading package lin_thesaurus to\n",
      "[nltk_data]    |     C:\\Users\\ASUS\\AppData\\Roaming\\nltk_data...\n",
      "[nltk_data]    |   Unzipping corpora\\lin_thesaurus.zip.\n",
      "[nltk_data]    | Downloading package mac_morpho to\n",
      "[nltk_data]    |     C:\\Users\\ASUS\\AppData\\Roaming\\nltk_data...\n",
      "[nltk_data]    |   Unzipping corpora\\mac_morpho.zip.\n",
      "[nltk_data]    | Downloading package machado to\n",
      "[nltk_data]    |     C:\\Users\\ASUS\\AppData\\Roaming\\nltk_data...\n",
      "[nltk_data]    | Downloading package masc_tagged to\n",
      "[nltk_data]    |     C:\\Users\\ASUS\\AppData\\Roaming\\nltk_data...\n",
      "[nltk_data]    | Downloading package maxent_ne_chunker to\n",
      "[nltk_data]    |     C:\\Users\\ASUS\\AppData\\Roaming\\nltk_data...\n",
      "[nltk_data]    |   Unzipping chunkers\\maxent_ne_chunker.zip.\n",
      "[nltk_data]    | Downloading package maxent_ne_chunker_tab to\n",
      "[nltk_data]    |     C:\\Users\\ASUS\\AppData\\Roaming\\nltk_data...\n",
      "[nltk_data]    |   Unzipping chunkers\\maxent_ne_chunker_tab.zip.\n",
      "[nltk_data]    | Downloading package maxent_treebank_pos_tagger to\n",
      "[nltk_data]    |     C:\\Users\\ASUS\\AppData\\Roaming\\nltk_data...\n",
      "[nltk_data]    |   Unzipping taggers\\maxent_treebank_pos_tagger.zip.\n",
      "[nltk_data]    | Downloading package maxent_treebank_pos_tagger_tab to\n",
      "[nltk_data]    |     C:\\Users\\ASUS\\AppData\\Roaming\\nltk_data...\n",
      "[nltk_data]    |   Unzipping\n",
      "[nltk_data]    |       taggers\\maxent_treebank_pos_tagger_tab.zip.\n",
      "[nltk_data]    | Downloading package moses_sample to\n",
      "[nltk_data]    |     C:\\Users\\ASUS\\AppData\\Roaming\\nltk_data...\n",
      "[nltk_data]    |   Unzipping models\\moses_sample.zip.\n",
      "[nltk_data]    | Downloading package movie_reviews to\n",
      "[nltk_data]    |     C:\\Users\\ASUS\\AppData\\Roaming\\nltk_data...\n",
      "[nltk_data]    |   Unzipping corpora\\movie_reviews.zip.\n",
      "[nltk_data]    | Downloading package mte_teip5 to\n",
      "[nltk_data]    |     C:\\Users\\ASUS\\AppData\\Roaming\\nltk_data...\n",
      "[nltk_data]    |   Unzipping corpora\\mte_teip5.zip.\n",
      "[nltk_data]    | Downloading package mwa_ppdb to\n",
      "[nltk_data]    |     C:\\Users\\ASUS\\AppData\\Roaming\\nltk_data...\n",
      "[nltk_data]    |   Unzipping misc\\mwa_ppdb.zip.\n",
      "[nltk_data]    | Downloading package names to\n",
      "[nltk_data]    |     C:\\Users\\ASUS\\AppData\\Roaming\\nltk_data...\n",
      "[nltk_data]    |   Unzipping corpora\\names.zip.\n",
      "[nltk_data]    | Downloading package nombank.1.0 to\n",
      "[nltk_data]    |     C:\\Users\\ASUS\\AppData\\Roaming\\nltk_data...\n",
      "[nltk_data]    | Downloading package nonbreaking_prefixes to\n",
      "[nltk_data]    |     C:\\Users\\ASUS\\AppData\\Roaming\\nltk_data...\n",
      "[nltk_data]    |   Unzipping corpora\\nonbreaking_prefixes.zip.\n",
      "[nltk_data]    | Downloading package nps_chat to\n",
      "[nltk_data]    |     C:\\Users\\ASUS\\AppData\\Roaming\\nltk_data...\n",
      "[nltk_data]    |   Unzipping corpora\\nps_chat.zip.\n",
      "[nltk_data]    | Downloading package omw to\n",
      "[nltk_data]    |     C:\\Users\\ASUS\\AppData\\Roaming\\nltk_data...\n",
      "[nltk_data]    | Downloading package omw-1.4 to\n",
      "[nltk_data]    |     C:\\Users\\ASUS\\AppData\\Roaming\\nltk_data...\n",
      "[nltk_data]    | Downloading package opinion_lexicon to\n",
      "[nltk_data]    |     C:\\Users\\ASUS\\AppData\\Roaming\\nltk_data...\n",
      "[nltk_data]    |   Unzipping corpora\\opinion_lexicon.zip.\n",
      "[nltk_data]    | Downloading package panlex_swadesh to\n",
      "[nltk_data]    |     C:\\Users\\ASUS\\AppData\\Roaming\\nltk_data...\n",
      "[nltk_data]    | Downloading package paradigms to\n",
      "[nltk_data]    |     C:\\Users\\ASUS\\AppData\\Roaming\\nltk_data...\n",
      "[nltk_data]    |   Unzipping corpora\\paradigms.zip.\n",
      "[nltk_data]    | Downloading package pe08 to\n",
      "[nltk_data]    |     C:\\Users\\ASUS\\AppData\\Roaming\\nltk_data...\n",
      "[nltk_data]    |   Unzipping corpora\\pe08.zip.\n",
      "[nltk_data]    | Downloading package perluniprops to\n",
      "[nltk_data]    |     C:\\Users\\ASUS\\AppData\\Roaming\\nltk_data...\n",
      "[nltk_data]    |   Unzipping misc\\perluniprops.zip.\n",
      "[nltk_data]    | Downloading package pil to\n",
      "[nltk_data]    |     C:\\Users\\ASUS\\AppData\\Roaming\\nltk_data...\n",
      "[nltk_data]    |   Unzipping corpora\\pil.zip.\n",
      "[nltk_data]    | Downloading package pl196x to\n",
      "[nltk_data]    |     C:\\Users\\ASUS\\AppData\\Roaming\\nltk_data...\n",
      "[nltk_data]    |   Unzipping corpora\\pl196x.zip.\n",
      "[nltk_data]    | Downloading package porter_test to\n",
      "[nltk_data]    |     C:\\Users\\ASUS\\AppData\\Roaming\\nltk_data...\n",
      "[nltk_data]    |   Unzipping stemmers\\porter_test.zip.\n",
      "[nltk_data]    | Downloading package ppattach to\n",
      "[nltk_data]    |     C:\\Users\\ASUS\\AppData\\Roaming\\nltk_data...\n",
      "[nltk_data]    |   Unzipping corpora\\ppattach.zip.\n",
      "[nltk_data]    | Downloading package problem_reports to\n",
      "[nltk_data]    |     C:\\Users\\ASUS\\AppData\\Roaming\\nltk_data...\n",
      "[nltk_data]    |   Unzipping corpora\\problem_reports.zip.\n",
      "[nltk_data]    | Downloading package product_reviews_1 to\n",
      "[nltk_data]    |     C:\\Users\\ASUS\\AppData\\Roaming\\nltk_data...\n",
      "[nltk_data]    |   Unzipping corpora\\product_reviews_1.zip.\n",
      "[nltk_data]    | Downloading package product_reviews_2 to\n",
      "[nltk_data]    |     C:\\Users\\ASUS\\AppData\\Roaming\\nltk_data...\n",
      "[nltk_data]    |   Unzipping corpora\\product_reviews_2.zip.\n",
      "[nltk_data]    | Downloading package propbank to\n",
      "[nltk_data]    |     C:\\Users\\ASUS\\AppData\\Roaming\\nltk_data...\n",
      "[nltk_data]    | Downloading package pros_cons to\n",
      "[nltk_data]    |     C:\\Users\\ASUS\\AppData\\Roaming\\nltk_data...\n",
      "[nltk_data]    |   Unzipping corpora\\pros_cons.zip.\n",
      "[nltk_data]    | Downloading package ptb to\n",
      "[nltk_data]    |     C:\\Users\\ASUS\\AppData\\Roaming\\nltk_data...\n",
      "[nltk_data]    |   Unzipping corpora\\ptb.zip.\n",
      "[nltk_data]    | Downloading package punkt to\n",
      "[nltk_data]    |     C:\\Users\\ASUS\\AppData\\Roaming\\nltk_data...\n",
      "[nltk_data]    |   Package punkt is already up-to-date!\n",
      "[nltk_data]    | Downloading package punkt_tab to\n",
      "[nltk_data]    |     C:\\Users\\ASUS\\AppData\\Roaming\\nltk_data...\n",
      "[nltk_data]    |   Unzipping tokenizers\\punkt_tab.zip.\n",
      "[nltk_data]    | Downloading package qc to\n",
      "[nltk_data]    |     C:\\Users\\ASUS\\AppData\\Roaming\\nltk_data...\n",
      "[nltk_data]    |   Unzipping corpora\\qc.zip.\n",
      "[nltk_data]    | Downloading package reuters to\n",
      "[nltk_data]    |     C:\\Users\\ASUS\\AppData\\Roaming\\nltk_data...\n",
      "[nltk_data]    | Downloading package rslp to\n",
      "[nltk_data]    |     C:\\Users\\ASUS\\AppData\\Roaming\\nltk_data...\n",
      "[nltk_data]    |   Unzipping stemmers\\rslp.zip.\n",
      "[nltk_data]    | Downloading package rte to\n",
      "[nltk_data]    |     C:\\Users\\ASUS\\AppData\\Roaming\\nltk_data...\n",
      "[nltk_data]    |   Unzipping corpora\\rte.zip.\n",
      "[nltk_data]    | Downloading package sample_grammars to\n",
      "[nltk_data]    |     C:\\Users\\ASUS\\AppData\\Roaming\\nltk_data...\n",
      "[nltk_data]    |   Unzipping grammars\\sample_grammars.zip.\n",
      "[nltk_data]    | Downloading package semcor to\n",
      "[nltk_data]    |     C:\\Users\\ASUS\\AppData\\Roaming\\nltk_data...\n",
      "[nltk_data]    | Downloading package senseval to\n",
      "[nltk_data]    |     C:\\Users\\ASUS\\AppData\\Roaming\\nltk_data...\n",
      "[nltk_data]    |   Unzipping corpora\\senseval.zip.\n",
      "[nltk_data]    | Downloading package sentence_polarity to\n",
      "[nltk_data]    |     C:\\Users\\ASUS\\AppData\\Roaming\\nltk_data...\n",
      "[nltk_data]    |   Unzipping corpora\\sentence_polarity.zip.\n",
      "[nltk_data]    | Downloading package sentiwordnet to\n",
      "[nltk_data]    |     C:\\Users\\ASUS\\AppData\\Roaming\\nltk_data...\n",
      "[nltk_data]    |   Unzipping corpora\\sentiwordnet.zip.\n",
      "[nltk_data]    | Downloading package shakespeare to\n",
      "[nltk_data]    |     C:\\Users\\ASUS\\AppData\\Roaming\\nltk_data...\n",
      "[nltk_data]    |   Unzipping corpora\\shakespeare.zip.\n",
      "[nltk_data]    | Downloading package sinica_treebank to\n",
      "[nltk_data]    |     C:\\Users\\ASUS\\AppData\\Roaming\\nltk_data...\n",
      "[nltk_data]    |   Unzipping corpora\\sinica_treebank.zip.\n",
      "[nltk_data]    | Downloading package smultron to\n",
      "[nltk_data]    |     C:\\Users\\ASUS\\AppData\\Roaming\\nltk_data...\n",
      "[nltk_data]    |   Unzipping corpora\\smultron.zip.\n",
      "[nltk_data]    | Downloading package snowball_data to\n",
      "[nltk_data]    |     C:\\Users\\ASUS\\AppData\\Roaming\\nltk_data...\n",
      "[nltk_data]    | Downloading package spanish_grammars to\n",
      "[nltk_data]    |     C:\\Users\\ASUS\\AppData\\Roaming\\nltk_data...\n",
      "[nltk_data]    |   Unzipping grammars\\spanish_grammars.zip.\n",
      "[nltk_data]    | Downloading package state_union to\n",
      "[nltk_data]    |     C:\\Users\\ASUS\\AppData\\Roaming\\nltk_data...\n",
      "[nltk_data]    |   Unzipping corpora\\state_union.zip.\n",
      "[nltk_data]    | Downloading package stopwords to\n",
      "[nltk_data]    |     C:\\Users\\ASUS\\AppData\\Roaming\\nltk_data...\n",
      "[nltk_data]    |   Unzipping corpora\\stopwords.zip.\n",
      "[nltk_data]    | Downloading package subjectivity to\n",
      "[nltk_data]    |     C:\\Users\\ASUS\\AppData\\Roaming\\nltk_data...\n",
      "[nltk_data]    |   Unzipping corpora\\subjectivity.zip.\n",
      "[nltk_data]    | Downloading package swadesh to\n",
      "[nltk_data]    |     C:\\Users\\ASUS\\AppData\\Roaming\\nltk_data...\n",
      "[nltk_data]    |   Unzipping corpora\\swadesh.zip.\n",
      "[nltk_data]    | Downloading package switchboard to\n",
      "[nltk_data]    |     C:\\Users\\ASUS\\AppData\\Roaming\\nltk_data...\n",
      "[nltk_data]    |   Unzipping corpora\\switchboard.zip.\n",
      "[nltk_data]    | Downloading package tagsets to\n",
      "[nltk_data]    |     C:\\Users\\ASUS\\AppData\\Roaming\\nltk_data...\n",
      "[nltk_data]    |   Unzipping help\\tagsets.zip.\n",
      "[nltk_data]    | Downloading package tagsets_json to\n",
      "[nltk_data]    |     C:\\Users\\ASUS\\AppData\\Roaming\\nltk_data...\n",
      "[nltk_data]    |   Unzipping help\\tagsets_json.zip.\n",
      "[nltk_data]    | Downloading package timit to\n",
      "[nltk_data]    |     C:\\Users\\ASUS\\AppData\\Roaming\\nltk_data...\n",
      "[nltk_data]    |   Unzipping corpora\\timit.zip.\n",
      "[nltk_data]    | Downloading package toolbox to\n",
      "[nltk_data]    |     C:\\Users\\ASUS\\AppData\\Roaming\\nltk_data...\n",
      "[nltk_data]    |   Unzipping corpora\\toolbox.zip.\n",
      "[nltk_data]    | Downloading package treebank to\n",
      "[nltk_data]    |     C:\\Users\\ASUS\\AppData\\Roaming\\nltk_data...\n",
      "[nltk_data]    |   Unzipping corpora\\treebank.zip.\n",
      "[nltk_data]    | Downloading package twitter_samples to\n",
      "[nltk_data]    |     C:\\Users\\ASUS\\AppData\\Roaming\\nltk_data...\n",
      "[nltk_data]    |   Unzipping corpora\\twitter_samples.zip.\n",
      "[nltk_data]    | Downloading package udhr to\n",
      "[nltk_data]    |     C:\\Users\\ASUS\\AppData\\Roaming\\nltk_data...\n",
      "[nltk_data]    |   Unzipping corpora\\udhr.zip.\n",
      "[nltk_data]    | Downloading package udhr2 to\n",
      "[nltk_data]    |     C:\\Users\\ASUS\\AppData\\Roaming\\nltk_data...\n",
      "[nltk_data]    |   Unzipping corpora\\udhr2.zip.\n",
      "[nltk_data]    | Downloading package unicode_samples to\n",
      "[nltk_data]    |     C:\\Users\\ASUS\\AppData\\Roaming\\nltk_data...\n",
      "[nltk_data]    |   Unzipping corpora\\unicode_samples.zip.\n",
      "[nltk_data]    | Downloading package universal_tagset to\n",
      "[nltk_data]    |     C:\\Users\\ASUS\\AppData\\Roaming\\nltk_data...\n",
      "[nltk_data]    |   Unzipping taggers\\universal_tagset.zip.\n",
      "[nltk_data]    | Downloading package universal_treebanks_v20 to\n",
      "[nltk_data]    |     C:\\Users\\ASUS\\AppData\\Roaming\\nltk_data...\n",
      "[nltk_data]    | Downloading package vader_lexicon to\n",
      "[nltk_data]    |     C:\\Users\\ASUS\\AppData\\Roaming\\nltk_data...\n",
      "[nltk_data]    | Downloading package verbnet to\n",
      "[nltk_data]    |     C:\\Users\\ASUS\\AppData\\Roaming\\nltk_data...\n",
      "[nltk_data]    |   Unzipping corpora\\verbnet.zip.\n",
      "[nltk_data]    | Downloading package verbnet3 to\n",
      "[nltk_data]    |     C:\\Users\\ASUS\\AppData\\Roaming\\nltk_data...\n",
      "[nltk_data]    |   Unzipping corpora\\verbnet3.zip.\n",
      "[nltk_data]    | Downloading package webtext to\n",
      "[nltk_data]    |     C:\\Users\\ASUS\\AppData\\Roaming\\nltk_data...\n",
      "[nltk_data]    |   Unzipping corpora\\webtext.zip.\n",
      "[nltk_data]    | Downloading package wmt15_eval to\n",
      "[nltk_data]    |     C:\\Users\\ASUS\\AppData\\Roaming\\nltk_data...\n",
      "[nltk_data]    |   Unzipping models\\wmt15_eval.zip.\n",
      "[nltk_data]    | Downloading package word2vec_sample to\n",
      "[nltk_data]    |     C:\\Users\\ASUS\\AppData\\Roaming\\nltk_data...\n",
      "[nltk_data]    |   Unzipping models\\word2vec_sample.zip.\n",
      "[nltk_data]    | Downloading package wordnet to\n",
      "[nltk_data]    |     C:\\Users\\ASUS\\AppData\\Roaming\\nltk_data...\n",
      "[nltk_data]    | Downloading package wordnet2021 to\n",
      "[nltk_data]    |     C:\\Users\\ASUS\\AppData\\Roaming\\nltk_data...\n",
      "[nltk_data]    | Downloading package wordnet2022 to\n",
      "[nltk_data]    |     C:\\Users\\ASUS\\AppData\\Roaming\\nltk_data...\n",
      "[nltk_data]    |   Unzipping corpora\\wordnet2022.zip.\n",
      "[nltk_data]    | Downloading package wordnet31 to\n",
      "[nltk_data]    |     C:\\Users\\ASUS\\AppData\\Roaming\\nltk_data...\n",
      "[nltk_data]    | Downloading package wordnet_ic to\n",
      "[nltk_data]    |     C:\\Users\\ASUS\\AppData\\Roaming\\nltk_data...\n",
      "[nltk_data]    |   Unzipping corpora\\wordnet_ic.zip.\n",
      "[nltk_data]    | Downloading package words to\n",
      "[nltk_data]    |     C:\\Users\\ASUS\\AppData\\Roaming\\nltk_data...\n",
      "[nltk_data]    |   Unzipping corpora\\words.zip.\n",
      "[nltk_data]    | Downloading package ycoe to\n",
      "[nltk_data]    |     C:\\Users\\ASUS\\AppData\\Roaming\\nltk_data...\n",
      "[nltk_data]    |   Unzipping corpora\\ycoe.zip.\n",
      "[nltk_data]    | \n",
      "[nltk_data]  Done downloading collection all\n"
     ]
    }
   ],
   "source": [
    "# Imports\n",
    "# Basics\n",
    "from __future__ import print_function, division\n",
    "import pandas as pd \n",
    "import numpy as np\n",
    "import random\n",
    "from IPython.display import SVG\n",
    "%matplotlib inline\n",
    "\n",
    "# nltk\n",
    "from nltk import sent_tokenize\n",
    "import nltk\n",
    "nltk.download('all')\n",
    "\n",
    "# keras\n",
    "from tensorflow import keras\n",
    "from keras.models import Sequential\n",
    "from keras.layers import Dense, Embedding, Reshape, Activation\n",
    "from keras.utils import get_file\n",
    "from keras.preprocessing.text import Tokenizer\n",
    "from keras.utils import model_to_dot \n",
    "from keras.preprocessing.sequence import skipgrams\n",
    "\n",
    "np.random.seed(1234)"
   ]
  },
  {
   "cell_type": "code",
   "execution_count": 11,
   "metadata": {
    "run_control": {
     "frozen": false,
     "read_only": false
    },
    "slideshow": {
     "slide_type": "fragment"
    }
   },
   "outputs": [],
   "source": [
    "# We'll use Alice in Wonderland\n",
    "\n",
    "path = get_file('carrol-alice.txt', origin=\"http://www.gutenberg.org/files/11/11-0.txt\")\n",
    "corpus = open(path, encoding='utf-8').read()"
   ]
  },
  {
   "cell_type": "code",
   "execution_count": 12,
   "metadata": {
    "run_control": {
     "frozen": false,
     "read_only": false
    },
    "scrolled": true,
    "slideshow": {
     "slide_type": "fragment"
    }
   },
   "outputs": [
    {
     "name": "stdout",
     "output_type": "stream",
     "text": [
      "985 985\n"
     ]
    }
   ],
   "source": [
    "from nltk.tokenize import sent_tokenize, word_tokenize\n",
    "from keras.preprocessing.text import Tokenizer\n",
    "\n",
    "# Split document into sentences first\n",
    "corpus = corpus[corpus.index('\\n\\n')+2:]  # remove header.\n",
    "sentences = sent_tokenize(corpus)\n",
    "\n",
    "# Tokenize using Keras\n",
    "base_filter='!\"#$%&()*+,-./:;`<=>?@[\\\\]^_{|}~\\t\\n“”' + \"'\"\n",
    "tokenizer = Tokenizer(filters=base_filter)\n",
    "tokenizer.fit_on_texts(sentences)  # tokenizer assigns a unique integer index to each unique word in the text\n",
    "                                   # also characters in base_filter will be removed from the text\n",
    "\n",
    "# Convert tokenized sentences to sequence format\n",
    "sequences = tokenizer.texts_to_sequences(sentences)\n",
    "nb_samples = sum(len(s) for s in corpus)\n",
    "\n",
    "print(len(sequences), tokenizer.document_count)"
   ]
  },
  {
   "cell_type": "code",
   "execution_count": 13,
   "metadata": {},
   "outputs": [
    {
     "name": "stdout",
     "output_type": "stream",
     "text": [
      "Word Index: {'the': 1, 'and': 2, 'to': 3, 'a': 4, 'she': 5, 'it': 6, 'of': 7, 'said': 8, 'i': 9, 'alice': 10, 'in': 11, 'you': 12, 'was': 13, 'that': 14, 'as': 15, 'her': 16, 'at': 17, 'on': 18, 'with': 19, 'all': 20, 'had': 21, 'but': 22, 'for': 23, 'so': 24, 'be': 25, 'very': 26, 'not': 27, 'what': 28, 'this': 29, 'little': 30, 'they': 31, 'he': 32, 'out': 33, 'down': 34, 'is': 35, 'one': 36, 'up': 37, 'his': 38, 'about': 39, 'if': 40, 'then': 41, 'no': 42, 'were': 43, 'like': 44, 'would': 45, 'went': 46, 'herself': 47, 'them': 48, 'again': 49, 'know': 50, 'do': 51, 'have': 52, 'when': 53, 'could': 54, 'or': 55, 'there': 56, 'thought': 57, 'off': 58, 'time': 59, 'me': 60, 'queen': 61, 'into': 62, 'see': 63, 'how': 64, 'did': 65, 'your': 66, 'who': 67, 'king': 68, 'well': 69, 'don’t': 70, 'by': 71, 'began': 72, 'my': 73, 'now': 74, 'mock': 75, 'its': 76, 'an': 77, 'i’m': 78, 'turtle': 79, 'way': 80, 'quite': 81, 'hatter': 82, 'gryphon': 83, 'it’s': 84, 'are': 85, 'their': 86, 'much': 87, 'just': 88, 'some': 89, 'think': 90, 'say': 91, 'go': 92, 'rabbit': 93, 'first': 94, 'which': 95, 'only': 96, 'thing': 97, 'here': 98, 'more': 99, 'head': 100, 'voice': 101, 'never': 102, 'get': 103, 'looked': 104, 'got': 105, 'must': 106, 'after': 107, 'come': 108, 'round': 109, 'him': 110, 'over': 111, 'such': 112, 'came': 113, 'two': 114, 'tone': 115, 'great': 116, 'why': 117, 'mouse': 118, 'other': 119, 'any': 120, 'back': 121, 'duchess': 122, 'dormouse': 123, 'oh': 124, 'before': 125, 'been': 126, 'from': 127, 'cat': 128, 'nothing': 129, 'i’ve': 130, 'can': 131, 'long': 132, 'large': 133, 'that’s': 134, 'last': 135, 'march': 136, 'once': 137, 'right': 138, 'tell': 139, 'looking': 140, 'found': 141, 'put': 142, 'will': 143, 'hare': 144, 'made': 145, 'white': 146, 'next': 147, 'heard': 148, 'dear': 149, 'moment': 150, 'look': 151, 'i’ll': 152, 'we': 153, 'replied': 154, 'caterpillar': 155, 'day': 156, 'eyes': 157, 'things': 158, 'might': 159, 'door': 160, 'three': 161, '’': 162, 'can’t': 163, 'seemed': 164, 'going': 165, 'good': 166, 'should': 167, 'poor': 168, 'make': 169, 'too': 170, 'upon': 171, 'without': 172, 'shall': 173, 'rather': 174, 'soon': 175, 'away': 176, 'course': 177, 'chapter': 178, 'took': 179, 'than': 180, 'while': 181, 'there’s': 182, 'same': 183, 'sure': 184, 'won’t': 185, 'you’re': 186, 'felt': 187, 'half': 188, 'added': 189, 'getting': 190, 'another': 191, 'ever': 192, '—': 193, 'yet': 194, 'take': 195, 'words': 196, 'wish': 197, 'hand': 198, 'find': 199, 'minute': 200, 'till': 201, 'jury': 202, 'sort': 203, 'however': 204, 'cried': 205, 'feet': 206, 'tried': 207, 'anything': 208, 'end': 209, 'please': 210, 'curious': 211, 'being': 212, 'old': 213, 'tea': 214, 'use': 215, 'wonder': 216, 'even': 217, 'house': 218, 'table': 219, 'something': 220, 'soup': 221, 'court': 222, 'perhaps': 223, 'talking': 224, 'eat': 225, 'question': 226, 'side': 227, 'sat': 228, 'enough': 229, 'asked': 230, 'ran': 231, 'under': 232, 'let': 233, 'bit': 234, 'turned': 235, 'high': 236, 'indeed': 237, 'hastily': 238, 'doesn’t': 239, 'spoke': 240, 'mad': 241, 'near': 242, 'idea': 243, 'air': 244, 'saying': 245, 'low': 246, 'garden': 247, 'knew': 248, 'because': 249, 'gave': 250, 'am': 251, 'done': 252, 'called': 253, 'arm': 254, 'hear': 255, 'itself': 256, 'ought': 257, 'seen': 258, 'saw': 259, 'through': 260, 'didn’t': 261, 'remember': 262, 'certainly': 263, 'face': 264, 'left': 265, 'anxiously': 266, 'set': 267, 'speak': 268, 'these': 269, 'suppose': 270, 'talk': 271, 'us': 272, 'better': 273, 'silence': 274, 'both': 275, 'alice’s': 276, 'bill': 277, 'beginning': 278, 'suddenly': 279, 'close': 280, 'wouldn’t': 281, 'still': 282, 'people': 283, 'cats': 284, 'behind': 285, 'trying': 286, 'begin': 287, 'really': 288, 'size': 289, 'grow': 290, 'far': 291, 'kept': 292, 'change': 293, 'sea': 294, 'dodo': 295, 'whole': 296, 'room': 297, 'gone': 298, 'may': 299, 'they’re': 300, 'beautiful': 301, 'footman': 302, 'baby': 303, 'cook': 304, 'dance': 305, 'tears': 306, 'pig': 307, 'many': 308, 'among': 309, 'afraid': 310, 'every': 311, 'finished': 312, 'best': 313, 'game': 314, 'hardly': 315, 'life': 316, 'deal': 317, 'give': 318, 'queer': 319, 'try': 320, 'used': 321, 'hands': 322, 'always': 323, 'turning': 324, 'yes': 325, 'where': 326, 'pigeon': 327, 'majesty': 328, 'pool': 329, 'party': 330, 'book': 331, 'whether': 332, 'hurried': 333, 'though': 334, 'glad': 335, 'ask': 336, 'dinah': 337, 'hurry': 338, 'read': 339, 'waited': 340, 'minutes': 341, 'child': 342, 'makes': 343, 'growing': 344, 'thinking': 345, 'nearly': 346, 'i’d': 347, 'wasn’t': 348, 'turn': 349, 'croquet': 350, 'sitting': 351, 'having': 352, 'own': 353, 'mind': 354, 'either': 355, 'lessons': 356, 'heads': 357, 'word': 358, 'name': 359, 'else': 360, 'sight': 361, 'walked': 362, 'glass': 363, 'small': 364, 'opened': 365, 'those': 366, 'bottle': 367, 'children': 368, 'hold': 369, 'foot': 370, 'yourself': 371, 'gloves': 372, 'fan': 373, 'everything': 374, 'you’d': 375, 'offended': 376, 'creatures': 377, 'explain': 378, 'rest': 379, 'mean': 380, 'keep': 381, 'mouth': 382, 'repeated': 383, 'remarked': 384, 'remark': 385, 'soldiers': 386, 'witness': 387, 'pepper': 388, 'story': 389, 'couldn’t': 390, 'answer': 391, 'matter': 392, 'hall': 393, 'key': 394, 'rate': 395, 'few': 396, 'waiting': 397, 'leave': 398, 'box': 399, 'against': 400, 'want': 401, 'help': 402, 'different': 403, 'mine': 404, 'tail': 405, 'conversation': 406, 'birds': 407, 'continued': 408, 'believe': 409, 'call': 410, 'angrily': 411, 'shook': 412, 'does': 413, 'reason': 414, 'together': 415, 'shouted': 416, 'timidly': 417, 'serpent': 418, 'puzzled': 419, 'tree': 420, 'interrupted': 421, 'knave': 422, 'join': 423, 'queen’s': 424, 'ground': 425, 'tarts': 426, 'evidence': 427, 'sister': 428, 'feel': 429, 'making': 430, 'watch': 431, 'slowly': 432, 'happen': 433, 'coming': 434, 'noticed': 435, 'top': 436, 'four': 437, 'opportunity': 438, 'it’ll': 439, 'seem': 440, 'dry': 441, 'bright': 442, 'fact': 443, 'followed': 444, 'lying': 445, 'work': 446, 'ready': 447, 'hard': 448, 'changed': 449, 'five': 450, 'live': 451, 'play': 452, 'hadn’t': 453, 'beg': 454, 'our': 455, 'eagerly': 456, 'sit': 457, 'meaning': 458, 'running': 459, 'everybody': 460, 'exactly': 461, 'nobody': 462, 'window': 463, 'least': 464, 'place': 465, 'appeared': 466, 'each': 467, 'mushroom': 468, 'haven’t': 469, 'most': 470, 'fish': 471, 'asleep': 472, 'butter': 473, 'hearts': 474, 'gardeners': 475, 'whiting': 476, 'race': 477, 'lobster': 478, 'tired': 479, 'hot': 480, 'pocket': 481, 'world': 482, 'deep': 483, 'somebody': 484, 'fall': 485, 'listen': 486, 'manage': 487, 'begun': 488, 'dream': 489, 'middle': 490, 'wondering': 491, 'golden': 492, 'open': 493, 'larger': 494, 'happened': 495, 'neck': 496, 'drink': 497, 'feeling': 498, 'generally': 499, 'eye': 500, 'surprised': 501, 'shoes': 502, 'myself': 503, 'kind': 504, 'nonsense': 505, 'distance': 506, 'hair': 507, 'goes': 508, 'she’s': 509, 'repeat': 510, 'learn': 511, 'frightened': 512, 'chin': 513, 'history': 514, 'fetch': 515, 'lory': 516, 'important': 517, 'has': 518, 'trial': 519, 'others': 520, 'stood': 521, 'grown': 522, 'business': 523, 'wood': 524, 'trees': 525, 'isn’t': 526, 'draw': 527, 'silent': 528, 'nose': 529, 'cheshire': 530, 'pleased': 531, 'song': 532, 'bread': 533, 'treacle': 534, 'hedgehog': 535, 'moral': 536, 'lobsters': 537, 'soo—oop': 538, 'slates': 539, 'adventures': 540, 'stupid': 541, 'trouble': 542, 'late': 543, 'fell': 544, 'nice': 545, 'written': 546, 'leaves': 547, 'jumped': 548, 'roof': 549, 'inches': 550, 'marked': 551, '‘': 552, 'forgotten': 553, 'almost': 554, 'ten': 555, 'english': 556, 'shan’t': 557, 'stop': 558, 'himself': 559, 'times': 560, 'seven': 561, 'grin': 562, 'understand': 563, 'william': 564, 'sentence': 565, 'pardon': 566, 'trembling': 567, 'subject': 568, 'you’ll': 569, 'politely': 570, 'melancholy': 571, 'liked': 572, 'chorus': 573, 'piece': 574, 'sir': 575, 'executed': 576, 'broken': 577, 'chimney': 578, 'full': 579, 'write': 580, 'loud': 581, 'sharp': 582, 'guinea': 583, 'pigs': 584, 'puppy': 585, 'arms': 586, 'father': 587, 'stand': 588, 'youth': 589, 'you’ve': 590, 'sneezing': 591, 'between': 592, 'told': 593, 'ear': 594, 'wow': 595, 'dreadfully': 596, 'writing': 597, '‘i': 598, 'sing': 599, 'twinkle': 600, 'exclaimed': 601, 'school': 602, 'hole': 603, 'tale': 604, 'quadrille': 605, 'sleepy': 606, 'across': 607, 'curiosity': 608, 'passed': 609, 'home': 610, 'aloud': 611, 'walk': 612, 'new': 613, 'asking': 614, 'night': 615, 'sometimes': 616, 'walking': 617, 'sadly': 618, 'along': 619, 'shut': 620, 'simple': 621, 'cut': 622, 'finger': 623, 'nervous': 624, 'altogether': 625, 'fancy': 626, 'remembered': 627, 'happens': 628, 'pair': 629, 'nine': 630, 'until': 631, 'kid': 632, 'dropped': 633, 'usual': 634, 'morning': 635, 'ah': 636, 'let’s': 637, 'wrong': 638, 'sounded': 639, 'strange': 640, 'seems': 641, 'stay': 642, 'sudden': 643, 'water': 644, 'case': 645, 'number': 646, 'swam': 647, 'nearer': 648, 'speaking': 649, 'shrill': 650, 'angry': 651, 'crowded': 652, 'notice': 653, 'what’s': 654, 'prizes': 655, 'dare': 656, 'confusion': 657, 'reply': 658, 'finish': 659, 'impatiently': 660, 'sighed': 661, 'temper': 662, 'young': 663, 'moved': 664, 'swim': 665, 'doing': 666, 'direction': 667, 'interesting': 668, 'become': 669, 'shouldn’t': 670, 'taking': 671, 'shriek': 672, 'drew': 673, 'sky': 674, 'instantly': 675, 'surprise': 676, 'lizard': 677, 'height': 678, 'quietly': 679, 'hookah': 680, 'man': 681, 'often': 682, 'eggs': 683, 'sleep': 684, 'meant': 685, 'waving': 686, 'rose': 687, 'faces': 688, 'procession': 689, 'rule': 690, 'pack': 691, 'knee': 692, 'whispered': 693, 'flamingo': 694, 'executioner': 695, 'caucus': 696, 'twice': 697, 'pictures': 698, 'worth': 699, 'natural': 700, 'sides': 701, 'fear': 702, 'managed': 703, 'they’ll': 704, 'likely': 705, 'true': 706, 'fallen': 707, 'earth': 708, 'several': 709, 'sound': 710, 'girl': 711, 'catch': 712, 'bats': 713, 'passage': 714, 'ears': 715, 'except': 716, 'tiny': 717, 'alas': 718, 'second': 719, 'led': 720, 'shoulders': 721, 'paper': 722, 'taught': 723, 'deeply': 724, 'ventured': 725, 'reach': 726, 'sharply': 727, 'severely': 728, 'person': 729, 'care': 730, 'boots': 731, 'savage': 732, 'violently': 733, 'age': 734, 'mabel': 735, 'besides': 736, 'puzzling': 737, 'twelve': 738, 'capital': 739, '—’': 740, 'alone': 741, 'shrinking': 742, 'escape': 743, 'digging': 744, 'fire': 745, 'paws': 746, 'says': 747, 'pale': 748, 'animals': 749, 'duck': 750, 'uncomfortable': 751, 'argument': 752, 'wanted': 753, 'frowning': 754, 'means': 755, 'solemnly': 756, 'pointing': 757, 'confused': 758, 'thimble': 759, 'short': 760, 'bowed': 761, 'judge': 762, 'breath': 763, 'tongue': 764, 'since': 765, 'vanished': 766, 'mary': 767, 'ann': 768, 'run': 769, 'they’d': 770, 'chance': 771, 'ordered': 772, 'answered': 773, 'outside': 774, 'yer': 775, 'honour': 776, 'sounds': 777, 'hearing': 778, 'master': 779, 'fellow': 780, 'thank': 781, 'dead': 782, 'doubt': 783, 'lay': 784, 'crowd': 785, 'held': 786, 'plan': 787, 'difficulty': 788, 'stick': 789, 'grass': 790, 'perfectly': 791, 'none': 792, 'questions': 793, 'stuff': 794, 'decidedly': 795, 'thoughtfully': 796, 'green': 797, 'screamed': 798, 'indignantly': 799, 'taken': 800, 'lives': 801, 'otherwise': 802, 'dish': 803, 'days': 804, 'kitchen': 805, 'jumping': 806, 'carried': 807, 'hours': 808, 'busily': 809, 'beat': 810, 'verse': 811, 'creature': 812, 'grunted': 813, 'less': 814, 'fast': 815, 'crumbs': 816, 'shoulder': 817, 'twinkling': 818, 'know—': 819, 'sigh': 820, 'bottom': 821, 'begins': 822, 'consider': 823, 'arches': 824, 'players': 825, '’tis': 826, 'sobs': 827, 'porpoise': 828, 'beau—ootiful': 829, 'jurors': 830, 'officers': 831, 'suppressed': 832, 'jurymen': 833, 'verses': 834, 'wonderland': 835, 'advice': 836, 'turtle’s': 837, 'stole': 838, 'peeped': 839, 'reading': 840, 'considering': 841, 'nor': 842, 'dark': 843, 'filled': 844, 'past': 845, 'stairs': 846, 'miles': 847, 'somewhere': 848, 'think—': 849, 'knowledge': 850, 'grand': 851, 'funny': 852, 'listening': 853, 'she’ll': 854, 'miss': 855, 'hope': 856, 'mice': 857, 'bat': 858, 'hurt': 859, 'lost': 860, 'corner': 861, 'whiskers': 862, 'longer': 863, 'hanging': 864, 'delight': 865, 'telescope': 866, 'impossible': 867, 'hoping': 868, 'rules': 869, 'poison': 870, 'red': 871, 'knife': 872, 'certain': 873, 'later': 874, 'finding': 875, 'further': 876, 'candle': 877, 'decided': 878, 'possibly': 879, 'legs': 880, 'bring': 881, 'fond': 882, 'cake': 883, 'smaller': 884, 'holding': 885, 'remained': 886, 'expecting': 887, 'dull': 888, 'opening': 889, 'dears': 890, 'directions': 891, 'love': 892, 'cry': 893, 'pattering': 894, 'muttering': 895, 'timid': 896, 'yesterday': 897, 'sorts': 898, 'twenty': 899, 'doth': 900, 'crossed': 901, 'hoarse': 902, 'spread': 903, 'gently': 904, 'putting': 905, 'rabbit’s': 906, 'guess': 907, 'cause': 908, 'worse': 909, 'slipped': 910, 'general': 911, 'french': 912, 'notion': 913, 'lesson': 914, 'show': 915, 'washing': 916, 'dogs': 917, 'throw': 918, 'passion': 919, 'shore': 920, 'eaglet': 921, 'fur': 922, 'cross': 923, 'sulky': 924, 'allow': 925, 'frog': 926, 'crown': 927, 'move': 928, 'pressed': 929, 'handed': 930, 'gravely': 931, 'speech': 932, 'cheered': 933, 'grave': 934, 'solemn': 935, 'noise': 936, 'choked': 937, 'whisper': 938, 'sad': 939, 'sighing': 940, 'fury': 941, 'met': 942, 'attending': 943, 'pleaded': 944, 'easily': 945, 'joined': 946, 'pity': 947, 'crab': 948, 'particular': 949, 'venture': 950, 'carefully': 951, 'remarking': 952, 'suit': 953, 'mentioned': 954, 'guessed': 955, 'hunting': 956, 'mistake': 957, 'plate': 958, 'knocking': 959, 'real': 960, 'floor': 961, 'effect': 962, 'elbow': 963, 'whatever': 964, 'stopped': 965, 'forgetting': 966, 'crash': 967, 'pat': 968, 'bill’s': 969, '’em': 970, 'below': 971, 'kick': 972, 'above': 973, 'sense': 974, 'moving': 975, 'cakes': 976, 'paw': 977, 'hungry': 978, 'picked': 979, 'edge': 980, 'immediately': 981, 'folded': 982, 'confusing': 983, 'brought': 984, 'remarks': 985, 'pray': 986, 'free': 987, 'shaking': 988, 'succeeded': 989, 'serpents': 990, 'girls': 991, 'yours': 992, 'settled': 993, 'pieces': 994, 'nibbling': 995, 'bringing': 996, 'livery': 997, 'considered': 998, '—and': 999, 'loudly': 1000, 'letter': 1001, 'order': 1002, 'staring': 1003, 'howling': 1004, 'instance': 1005, 'repeating': 1006, 'nursing': 1007, 'courage': 1008, 'grinned': 1009, 'growl': 1010, 'faster': 1011, 'advantage': 1012, 'tossing': 1013, 'caught': 1014, 'shaped': 1015, 'proper': 1016, 'sobbing': 1017, 'instead': 1018, 'civil': 1019, 'fun': 1020, 'o’clock': 1021, 'cautiously': 1022, 'music': 1023, 'fly': 1024, 'lady': 1025, 'lived': 1026, 'upset': 1027, 'roses': 1028, 'beheaded': 1029, 'watching': 1030, 'checked': 1031, 'themselves': 1032, 'eager': 1033, 'guests': 1034, 'cards': 1035, 'needn’t': 1036, 'unfortunate': 1037, 'hush': 1038, 'said—': 1039, 'hedgehogs': 1040, 'tucked': 1041, 'turns': 1042, 'alive': 1043, 'friend': 1044, 'anxious': 1045, 'mustard': 1046, 'duchess’s': 1047, 'hers': 1048, 'week': 1049, 'advance': 1050, 'figure': 1051, 'toes': 1052, 'mark': 1053, 'snail': 1054, 'tails': 1055, 'mouths': 1056, 'obliged': 1057, 'follows': 1058, 'around': 1059, 'owl': 1060, 'panther': 1061, 'e—e—evening': 1062, 'trial’s': 1063, 'trumpet': 1064, 'spectacles': 1065, 'slate': 1066, 'verdict': 1067, 'teacup': 1068, 'wrote': 1069, 'list': 1070, 'fit': 1071, 'ii': 1072, 'iii': 1073, 'iv': 1074, 'sends': 1075, 'v': 1076, 'vi': 1077, 'vii': 1078, 'viii': 1079, 'ix': 1080, 'x': 1081, 'xi': 1082, 'xii': 1083, 'bank': 1084, 'conversations': 1085, 'pleasure': 1086, 'picking': 1087, 'remarkable': 1088, 'afterwards': 1089, 'occurred': 1090, 'waistcoat': 1091, 'started': 1092, 'hedge': 1093, 'straight': 1094, 'dipped': 1095, 'falling': 1096, 'plenty': 1097, 'cupboards': 1098, 'shelves': 1099, 'jar': 1100, 'underneath': 1101, 'tumbling': 1102, 'thousand': 1103, 'learnt': 1104, 'showing': 1105, 'latitude': 1106, 'longitude': 1107, 'presently': 1108, '—but': 1109, 'dinah’ll': 1110, 'milk': 1111, 'earnestly': 1112, 'thump': 1113, 'wind': 1114, 'row': 1115, 'doors': 1116, 'legged': 1117, 'locks': 1118, 'longed': 1119, 'beds': 1120, 'flowers': 1121, 'cool': 1122, 'fountains': 1123, 'shutting': 1124, 'label': 1125, 'beautifully': 1126, 'wise': 1127, 'wild': 1128, 'beasts': 1129, 'unpleasant': 1130, 'friends': 1131, 'burn': 1132, 'usually': 1133, 'sooner': 1134, 'taste': 1135, 'mixed': 1136, 'brightened': 1137, 'lovely': 1138, 'crying': 1139, 'playing': 1140, 'curiouser': 1141, 'forgot': 1142, 'bye': 1143, 'sending': 1144, 'presents': 1145, 'struck': 1146, 'ashamed': 1147, 'trotting': 1148, 'ringlets': 1149, 'knows': 1150, 'and—oh': 1151, 'six': 1152, 'paris': 1153, 'lap': 1154, 'neatly': 1155, 'claws': 1156, 'smiling': 1157, 'jaws': 1158, '‘come': 1159, 'rapidly': 1160, 'narrow': 1161, 'declare': 1162, 'bad': 1163, 'salt': 1164, 'railway': 1165, 'conclusion': 1166, 'wherever': 1167, 'splashing': 1168, 'o': 1169, 'swimming': 1170, 'wink': 1171, 'conqueror': 1172, 'clear': 1173, 'ago': 1174, 'ma': 1175, 'fright': 1176, 'feelings': 1177, 'quiet': 1178, 'purring': 1179, 'nicely': 1180, 'catching': 1181, 'dog': 1182, 'brown': 1183, 'dinner': 1184, 'them—and': 1185, 'belongs': 1186, 'useful': 1187, 'sorrowful': 1188, 'assembled': 1189, 'wet': 1190, 'older': 1191, 'knowing': 1192, 'authority': 1193, 'ring': 1194, 'whose': 1195, 'morcar': 1196, 'earls': 1197, 'mercia': 1198, 'ugh': 1199, '—i': 1200, 'proceed': 1201, 'archbishop': 1202, '‘it’': 1203, 'hurriedly': 1204, 'meet': 1205, 'offer': 1206, 'smile': 1207, 'easy': 1208, 'hour': 1209, 'panting': 1210, 'won': 1211, 'forehead': 1212, 'position': 1213, 'voices': 1214, 'comfits': 1215, 'luckily': 1216, 'absurd': 1217, 'simply': 1218, 'caused': 1219, 'law': 1220, 'wasting': 1221, '‘i’ll': 1222, 'humbly': 1223, 'bend': 1224, 'knot': 1225, 'she’d': 1226, 'bird': 1227, 'sensation': 1228, 'throat': 1229, 'lonely': 1230, 'footsteps': 1231, 'ferrets': 1232, 'nowhere': 1233, 'quick': 1234, 'messages': 1235, 'directly': 1236, 'nurse': 1237, 'ordering': 1238, 'drunk': 1239, 'stoop': 1240, 'curled': 1241, 'unhappy': 1242, 'fancied': 1243, 'books': 1244, 'trembled': 1245, 'proved': 1246, 'snatch': 1247, 'concluded': 1248, 'cucumber': 1249, 'apples': 1250, 'goose': 1251, 'bear': 1252, '—it': 1253, 'feeble': 1254, 'squeaking': 1255, 'comes': 1256, 'barrowful': 1257, 'shower': 1258, 'pebbles': 1259, 'rattling': 1260, 'hit': 1261, 'delighted': 1262, 'giving': 1263, 'rush': 1264, 'safe': 1265, 'wandered': 1266, 'excellent': 1267, 'smallest': 1268, 'bark': 1269, 'stretching': 1270, 'coaxing': 1271, 'thistle': 1272, 'stretched': 1273, 'tiptoe': 1274, 'smoking': 1275, 'addressed': 1276, 'encouraging': 1277, 'contemptuously': 1278, 'anger': 1279, 'unfolded': 1280, 'busy': 1281, 'somersault': 1282, 'sell': 1283, 'weak': 1284, 'lasted': 1285, 'eel': 1286, 'clever': 1287, 'changing': 1288, 'wretched': 1289, 'patiently': 1290, 'chose': 1291, 'yawned': 1292, 'merely': 1293, 'taller': 1294, 'shorter': 1295, 'difficult': 1296, 'broke': 1297, 'nibbled': 1298, 'violent': 1299, 'blow': 1300, 'lefthand': 1301, 'alarm': 1302, 'follow': 1303, 'distant': 1304, 'wandering': 1305, 'beating': 1306, 'roots': 1307, 'doubtfully': 1308, 'changes': 1309, 'telling': 1310, 'tasted': 1311, 'matters': 1312, 'entangled': 1313, 'branches': 1314, 'invitation': 1315, 'laughed': 1316, 'secondly': 1317, 'inside': 1318, 'extraordinary': 1319, 'constant': 1320, 'dreadful': 1321, 'muttered': 1322, 'drive': 1323, 'he’s': 1324, 'leaning': 1325, 'stirring': 1326, 'cauldron': 1327, 'moment’s': 1328, 'pause': 1329, 'sneeze': 1330, 'introduce': 1331, 'throwing': 1332, 'plates': 1333, 'dishes': 1334, 'already': 1335, 'takes': 1336, 'hint': 1337, 'singing': 1338, 'line': 1339, 'boy': 1340, 'sneezes': 1341, 'sang': 1342, 'thoroughly': 1343, 'threw': 1344, 'missed': 1345, 'twist': 1346, 'also': 1347, 'neither': 1348, 'ugly': 1349, 'them—': 1350, 'startled': 1351, '—so': 1352, 'explanation': 1353, 'denied': 1354, 'we’re': 1355, 'invited': 1356, 'became': 1357, 'appear': 1358, 'raving': 1359, 'giddy': 1360, 'ending': 1361, 'raised': 1362, 'front': 1363, 'using': 1364, 'cushion': 1365, 'resting': 1366, 'wine': 1367, 'laid': 1368, 'wants': 1369, 'personal': 1370, 'rude': 1371, 'wide': 1372, 'riddles': 1373, 'breathe': 1374, 'break': 1375, 'month': 1376, 'uneasily': 1377, 'meekly': 1378, 'cup': 1379, 'tells': 1380, 'year': 1381, 'clock': 1382, 'spoon': 1383, 'concert': 1384, 'pinch': 1385, 'we’ve': 1386, 'wash': 1387, 'yawning': 1388, 'wake': 1389, 'pinched': 1390, 'names': 1391, 'ill': 1392, 'living': 1393, 'triumphantly': 1394, 'sh': 1395, 'sulkily': 1396, 'learning': 1397, 'interrupting': 1398, 'rubbing': 1399, 'manner': 1400, 'm—': 1401, 'm': 1402, 'closed': 1403, 'muchness': 1404, 'everything’s': 1405, 'flower': 1406, 'painting': 1407, 'flat': 1408, 'carrying': 1409, 'courtiers': 1410, 'ornamented': 1411, 'royal': 1412, 'mostly': 1413, 'king’s': 1414, 'crimson': 1415, 'doubtful': 1416, 'lie': 1417, 'smiled': 1418, 'fine': 1419, 'execution': 1420, '‘what': 1421, 'scream': 1422, 'flamingoes': 1423, 'body': 1424, 'laughing': 1425, 'unrolled': 1426, 'quarrelling': 1427, 'stamping': 1428, 'shouting': 1429, 'dispute': 1430, 'cat’s': 1431, 'removed': 1432, 'fight': 1433, 'collected': 1434, 'unless': 1435, 'entirely': 1436, 'disappeared': 1437, 'wildly': 1438, 'tempered': 1439, 'sugar': 1440, 'forget': 1441, 'hasn’t': 1442, 'tut': 1443, 'keeping': 1444, 'experiment': 1445, 'bite': 1446, 'agree': 1447, 'imagine': 1448, 'present': 1449, 'choice': 1450, 'custody': 1451, 'executions': 1452, 'sun': 1453, 'watched': 1454, 'heart': 1455, 'sorrow': 1456, 'heavy': 1457, 'tortoise': 1458, 'proud': 1459, 'relief': 1460, 'regular': 1461, 'drawling': 1462, 'recovered': 1463, 'delightful': 1464, 'turtles': 1465, 'dancing': 1466, 'treading': 1467, 'kindly': 1468, 'thoughts': 1469, 'part': 1470, 'editions': 1471, 'tones': 1472, 'persisted': 1473, 'pie': 1474, 'evening': 1475, 'cares': 1476, 'scroll': 1477, 'parchment': 1478, 'wig': 1479, 'pencil': 1480, 'quickly': 1481, 'blew': 1482, 'blasts': 1483, 'summer': 1484, 'sent': 1485, 'fashion': 1486, 'singers': 1487, 'deny': 1488, 'miserable': 1489, 'examine': 1490, 'undertone': 1491, 'goldfish': 1492, 'accident': 1493, 'un': 1494, 'note': 1495, 'mile': 1496, 'directed': 1497, 'signed': 1498, 'proves': 1499, 'returned': 1500, 'atom': 1501, 'wonderful': 1502, 'teacups': 1503, 'lewis': 1504, 'carroll': 1505, 'millennium': 1506, 'fulcrum': 1507, 'edition': 1508, '3': 1509, '0': 1510, 'contents': 1511, 'daisy': 1512, 'chain': 1513, 'daisies': 1514, 'pink': 1515, 'wondered': 1516, 'actually': 1517, 'flashed': 1518, 'burning': 1519, 'field': 1520, 'fortunately': 1521, 'pop': 1522, 'tunnel': 1523, 'stopping': 1524, 'maps': 1525, 'hung': 1526, 'pegs': 1527, 'labelled': 1528, 'orange': 1529, 'marmalade': 1530, 'disappointment': 1531, 'empty': 1532, 'drop': 1533, 'killing': 1534, 'brave': 1535, 'centre': 1536, 'schoolroom': 1537, 'practice': 1538, '—yes': 1539, 'distance—but': 1540, 'downward': 1541, 'antipathies': 1542, 'country': 1543, 'ma’am': 1544, 'zealand': 1545, 'australia': 1546, 'curtsey': 1547, 'spoke—fancy': 1548, 'curtseying': 1549, 'ignorant': 1550, 'saucer': 1551, 'dreamy': 1552, 'dozing': 1553, 'truth': 1554, 'heap': 1555, 'sticks': 1556, 'overhead': 1557, 'hurrying': 1558, 'lit': 1559, 'lamps': 1560, 'locked': 1561, 'solid': 1562, 'belong': 1563, 'curtain': 1564, 'fifteen': 1565, 'lock': 1566, 'fitted': 1567, 'rat': 1568, 'knelt': 1569, 'loveliest': 1570, 'wander': 1571, 'doorway': 1572, 'lately': 1573, 'telescopes': 1574, 'printed': 1575, 'letters': 1576, 'histories': 1577, 'burnt': 1578, 'eaten': 1579, 'poker': 1580, 'bleeds': 1581, 'disagree': 1582, 'flavour': 1583, 'cherry': 1584, 'tart': 1585, 'custard': 1586, 'pine': 1587, 'apple': 1588, 'roast': 1589, 'turkey': 1590, 'toffee': 1591, 'buttered': 1592, 'toast': 1593, 'shrink': 1594, 'flame': 1595, 'blown': 1596, 'plainly': 1597, 'climb': 1598, 'slippery': 1599, 'advise': 1600, 'seldom': 1601, 'scolded': 1602, 'cheated': 1603, 'pretending': 1604, 'pretend': 1605, 'respectable': 1606, 'currants': 1607, 'creep': 1608, 'ate': 1609, 'eats': 1610, 'common': 1611, 'largest': 1612, 'stockings': 1613, 'able': 1614, 'christmas': 1615, 'planning': 1616, 'carrier': 1617, 'one’s': 1618, 'odd': 1619, 'esq': 1620, 'hearthrug': 1621, 'fender': 1622, 'hopeless': 1623, 'shedding': 1624, 'gallons': 1625, 'reaching': 1626, 'dried': 1627, 'returning': 1628, 'splendidly': 1629, 'dressed': 1630, 'desperate': 1631, 'sir—': 1632, 'skurried': 1633, 'darkness': 1634, 'fanning': 1635, 'puzzle': 1636, 'ada': 1637, 'thirteen': 1638, 'is—oh': 1639, 'multiplication': 1640, 'signify': 1641, 'geography': 1642, 'london': 1643, 'rome': 1644, 'rome—no': 1645, 'crocodile': 1646, 'improve': 1647, 'shining': 1648, 'pour': 1649, 'waters': 1650, 'nile': 1651, 'scale': 1652, 'cheerfully': 1653, 'welcome': 1654, 'fishes': 1655, 'poky': 1656, 'toys': 1657, '‘who': 1658, 'else’—but': 1659, 'burst': 1660, 'measure': 1661, 'avoid': 1662, 'existence': 1663, 'speed': 1664, 'splash': 1665, 'somehow': 1666, 'seaside': 1667, 'coast': 1668, 'bathing': 1669, 'machines': 1670, 'sand': 1671, 'wooden': 1672, 'spades': 1673, 'lodging': 1674, 'houses': 1675, 'station': 1676, 'wept': 1677, 'punished': 1678, 'drowned': 1679, 'walrus': 1680, 'hippopotamus': 1681, 'harm': 1682, 'brother’s': 1683, 'latin': 1684, 'grammar': 1685, 'mouse—of': 1686, 'mouse—to': 1687, 'mouse—a': 1688, 'mouse—o': 1689, 'inquisitively': 1690, 'daresay': 1691, 'où': 1692, 'est': 1693, 'chatte': 1694, 'leap': 1695, 'quiver': 1696, 'animal’s': 1697, 'passionate': 1698, 'soothing': 1699, 'lazily': 1700, 'sits': 1701, 'licking': 1702, 'face—and': 1703, 'soft': 1704, 'nurse—and': 1705, 'mice—oh': 1706, 'bristling': 1707, 'family': 1708, 'hated': 1709, 'nasty': 1710, 'vulgar': 1711, 'you—are': 1712, 'fond—of—of': 1713, 'eyed': 1714, 'terrier': 1715, 'curly': 1716, 'things—i': 1717, 'farmer': 1718, 'hundred': 1719, 'pounds': 1720, 'kills': 1721, 'rats': 1722, 'commotion': 1723, 'softly': 1724, 'hate': 1725, 'bank—the': 1726, 'draggled': 1727, 'feathers': 1728, 'clinging': 1729, 'dripping': 1730, 'consultation': 1731, 'familiarly': 1732, 'known': 1733, 'positively': 1734, 'refused': 1735, 'fixed': 1736, 'cold': 1737, 'ahem': 1738, 'driest': 1739, '‘william': 1740, 'favoured': 1741, 'pope': 1742, 'submitted': 1743, 'leaders': 1744, 'accustomed': 1745, 'usurpation': 1746, 'conquest': 1747, 'edwin': 1748, 'northumbria—’': 1749, 'shiver': 1750, '‘edwin': 1751, 'northumbria': 1752, 'declared': 1753, 'stigand': 1754, 'patriotic': 1755, 'canterbury': 1756, 'advisable—’': 1757, 'crossly': 1758, 'worm': 1759, '‘—found': 1760, 'advisable': 1761, 'edgar': 1762, 'atheling': 1763, 'william’s': 1764, 'conduct': 1765, 'moderate': 1766, 'insolence': 1767, 'normans—’': 1768, 'rising': 1769, 'meeting': 1770, 'adjourn': 1771, 'immediate': 1772, 'adoption': 1773, 'energetic': 1774, 'remedies—': 1775, 'bent': 1776, 'hide': 1777, 'tittered': 1778, 'audibly': 1779, 'paused': 1780, 'inclined': 1781, 'winter': 1782, 'circle': 1783, 'exact': 1784, 'shape': 1785, 'placed': 1786, 'shakespeare': 1787, 'calling': 1788, 'despair': 1789, 'pulled': 1790, 'prize': 1791, 'presented': 1792, 'acceptance': 1793, 'elegant': 1794, 'laugh': 1795, 'complained': 1796, 'theirs': 1797, 'ones': 1798, 'patted': 1799, 'begged': 1800, 'promised': 1801, 'hate—c': 1802, 'd': 1803, 'mouse’s': 1804, '‘let': 1805, 'prosecute': 1806, '—come': 1807, 'denial': 1808, 'cur': 1809, '‘such': 1810, 'cunning': 1811, 'condemn': 1812, 'death': 1813, 'fifth': 1814, 'undo': 1815, 'insult': 1816, 'growled': 1817, 'quicker': 1818, 'daughter': 1819, 'lose': 1820, 'snappishly': 1821, 'patience': 1822, 'oyster': 1823, 'addressing': 1824, 'pet': 1825, 'dinah’s': 1826, 'magpie': 1827, 'wrapping': 1828, 'canary': 1829, 'bed': 1830, 'various': 1831, 'pretexts': 1832, 'spirited': 1833, 'naturedly': 1834, 'seen—everything': 1835, 'completely': 1836, 'pointed': 1837, 'housemaid': 1838, 'he’ll': 1839, 'finds': 1840, 'gloves—that': 1841, 'neat': 1842, 'brass': 1843, 'w': 1844, 'engraved': 1845, 'upstairs': 1846, 'lest': 1847, 'fancying': 1848, '‘miss': 1849, '‘coming': 1850, 'tidy': 1851, 'hoped': 1852, 'pairs': 1853, 'nevertheless': 1854, 'uncorked': 1855, 'lips': 1856, 'whenever': 1857, 'expected': 1858, 'pressing': 1859, 'ceiling': 1860, 'save': 1861, 'enough—i': 1862, 'more—as': 1863, 'door—i': 1864, 'kneel': 1865, 'resource': 1866, 'magic': 1867, 'grew': 1868, 'pleasanter': 1869, 'rabbits': 1870, 'hole—and': 1871, 'yet—and': 1872, 'yet—it’s': 1873, 'fairy': 1874, 'tales': 1875, 'one—but': 1876, 'that’ll': 1877, 'comfort': 1878, 'way—never': 1879, 'woman—but': 1880, 'then—always': 1881, 'foolish': 1882, 'inwards': 1883, 'attempt': 1884, 'failure': 1885, 'possible': 1886, 'frame': 1887, 'voice—the': 1888, 'rabbit’s—': 1889, 'pronounced': 1890, 'arrum': 1891, 'fills': 1892, 'whispers': 1893, 'coward': 1894, 'shrieks': 1895, 'frames': 1896, 'pulling': 1897, 'rumbling': 1898, 'cartwheels': 1899, 'where’s': 1900, 'ladder': 1901, '—why': 1902, 'other—bill': 1903, 'lad': 1904, '—here': 1905, 'corner—no': 1906, 'tie': 1907, 'first—they': 1908, 'yet—oh': 1909, 'particular—here': 1910, 'rope—will': 1911, '—mind': 1912, 'loose': 1913, 'slate—oh': 1914, 'fancy—who’s': 1915, '—nay': 1916, '—bill’s': 1917, 'down—here': 1918, 'shy': 1919, 'fireplace': 1920, 'animal': 1921, 'scratching': 1922, 'scrambling': 1923, 'along—': 1924, 'voices—': 1925, 'head—brandy': 1926, 'now—don’t': 1927, 'choke': 1928, 'him—how': 1929, 'know—no': 1930, 'ye': 1931, 'now—but': 1932, 'flustered': 1933, 'you—all': 1934, 'jack': 1935, 'rocket': 1936, 'produced': 1937, 'swallowed': 1938, 'thick': 1939, 'arranged': 1940, 'peering': 1941, 'enormous': 1942, 'feebly': 1943, 'touch': 1944, 'whistle': 1945, 'terribly': 1946, 'spite': 1947, 'whereupon': 1948, 'yelp': 1949, 'rushed': 1950, 'worry': 1951, 'dodged': 1952, 'tumbled': 1953, 'heels': 1954, 'cart': 1955, 'horse': 1956, 'trampled': 1957, 'series': 1958, 'charges': 1959, 'forwards': 1960, 'barking': 1961, 'hoarsely': 1962, 'puppy’s': 1963, 'faint': 1964, 'leant': 1965, 'buttercup': 1966, 'fanned': 1967, 'teaching': 1968, 'tricks': 1969, 'if—if': 1970, 'see—how': 1971, 'blades': 1972, 'circumstances': 1973, 'blue': 1974, 'languid': 1975, 'shyly': 1976, 'i—i': 1977, 'present—at': 1978, 'sternly': 1979, 'clearly': 1980, 'sizes': 1981, 'chrysalis—you': 1982, 'know—and': 1983, 'butterfly': 1984, 'irritated': 1985, 'caterpillar’s': 1986, 'state': 1987, 'promising': 1988, 'swallowing': 1989, 'wait': 1990, 'puffed': 1991, 'used—and': 1992, 'bee': 1993, 'incessantly': 1994, 'head—': 1995, 'son': 1996, 'feared': 1997, 'injure': 1998, 'brain': 1999, 'uncommonly': 2000, 'fat': 2001, 'door—': 2002, 'sage': 2003, 'grey': 2004, 'limbs': 2005, 'supple': 2006, 'ointment—one': 2007, 'shilling': 2008, 'box—': 2009, 'couple': 2010, 'tougher': 2011, 'suet': 2012, 'bones': 2013, 'beak—': 2014, 'argued': 2015, 'wife': 2016, 'muscular': 2017, 'strength': 2018, 'jaw': 2019, 'steady': 2020, 'balanced': 2021, 'nose—': 2022, 'awfully': 2023, 'airs': 2024, 'altered': 2025, 'contradicted': 2026, 'losing': 2027, 'content': 2028, 'rearing': 2029, 'upright': 2030, 'piteous': 2031, 'crawled': 2032, 'closely': 2033, 'swallow': 2034, 'morsel': 2035, 'head’s': 2036, 'immense': 2037, 'length': 2038, 'rise': 2039, 'stalk': 2040, 'result': 2041, 'curving': 2042, 'graceful': 2043, 'zigzag': 2044, 'dive': 2045, 'tops': 2046, 'hiss': 2047, 'flown': 2048, 'wings': 2049, 'subdued': 2050, 'sob': 2051, 'banks': 2052, 'hedges': 2053, 'pleasing': 2054, 'hatching': 2055, 'weeks': 2056, 'sorry': 2057, 'annoyed': 2058, 'highest': 2059, 'raising': 2060, 'needs': 2061, 'wriggling': 2062, 'a—i’m': 2063, 'a—': 2064, 'invent': 2065, 'i—i’m': 2066, 'deepest': 2067, 'contempt': 2068, 'denying': 2069, 'egg': 2070, 'truthful': 2071, 'adding': 2072, 'raw': 2073, 'nest': 2074, 'crouched': 2075, 'untwist': 2076, 'garden—how': 2077, 'whoever': 2078, 'frighten': 2079, 'wits': 2080, 'righthand': 2081, 'wood—': 2082, 'judging': 2083, 'rapped': 2084, 'knuckles': 2085, 'footmen': 2086, 'powdered': 2087, 'crept': 2088, 'producing': 2089, 'curls': 2090, 'stupidly': 2091, 'knocked': 2092, 'reasons': 2093, 'within—a': 2094, 'kettle': 2095, 'knock': 2096, 'uncivil': 2097, '—how': 2098, 'tomorrow—': 2099, 'skimming': 2100, 'footman’s': 2101, 'grazed': 2102, '—or': 2103, 'maybe': 2104, 'louder': 2105, 'argue': 2106, 'crazy': 2107, 'variations': 2108, 'whistling': 2109, 'desperately': 2110, 'idiotic': 2111, 'smoke': 2112, 'stool': 2113, 'sneezed': 2114, 'occasionally': 2115, 'alternately': 2116, 'hearth': 2117, 'grinning': 2118, 'manners': 2119, 'grins': 2120, 'violence': 2121, 'fix': 2122, 'within': 2123, 'baby—the': 2124, 'irons': 2125, 'saucepans': 2126, 'blows': 2127, 'agony': 2128, 'terror': 2129, 'precious': 2130, 'unusually': 2131, 'saucepan': 2132, 'flew': 2133, 'minded': 2134, 'axis—': 2135, 'axes': 2136, 'chop': 2137, 'glanced': 2138, 'i—': 2139, 'bother': 2140, 'abide': 2141, 'figures': 2142, 'lullaby': 2143, 'shake': 2144, 'roughly': 2145, 'annoy': 2146, 'teases': 2147, 'howled': 2148, 'enjoy': 2149, 'pleases': 2150, 'flinging': 2151, 'frying': 2152, 'pan': 2153, 'star': 2154, 'snorting': 2155, 'steam': 2156, 'engine': 2157, 'doubling': 2158, 'straightening': 2159, 'tight': 2160, 'prevent': 2161, 'undoing': 2162, 'kill': 2163, 'murder': 2164, 'grunt': 2165, 'expressing': 2166, 'snout': 2167, 'extremely': 2168, 'seriously': 2169, 'sobbed': 2170, 'carry': 2171, 'relieved': 2172, 'trot': 2173, 'handsome': 2174, 'seeing': 2175, 'bough': 2176, 'yards': 2177, 'natured': 2178, 'teeth': 2179, 'treated': 2180, 'respect': 2181, 'puss': 2182, 'wider': 2183, 'depends': 2184, 'where—': 2185, 'visit': 2186, 'dog’s': 2187, 'grant': 2188, 'growls': 2189, 'wags': 2190, 'wag': 2191, 'therefore': 2192, 'growling': 2193, 'happening': 2194, 'hatters': 2195, 'mad—at': 2196, 'branch': 2197, 'fig': 2198, 'appearing': 2199, 'vanishing': 2200, 'farther': 2201, 'chimneys': 2202, 'thatched': 2203, 'towards': 2204, 'elbows': 2205, 'chair': 2206, 'cutting': 2207, 'severity': 2208, 'raven': 2209, 'desk': 2210, 'they’ve': 2211, 'least—at': 2212, 'say—that’s': 2213, 'eat’': 2214, 'see’': 2215, 'get’': 2216, 'like’': 2217, 'sleep’': 2218, 'breathe’': 2219, 'ravens': 2220, 'desks': 2221, 'fourth': 2222, 'works': 2223, 'grumbled': 2224, 'gloomily': 2225, 'readily': 2226, 'stays': 2227, 'hatter’s': 2228, 'poured': 2229, 'riddle': 2230, 'slightest': 2231, 'wearily': 2232, 'waste': 2233, 'answers': 2234, 'accounts': 2235, 'terms': 2236, 'he’d': 2237, 'then—i': 2238, 'mournfully': 2239, 'quarrelled': 2240, 'march—just': 2241, 'given': 2242, '‘twinkle': 2243, '‘up': 2244, 'tray': 2245, 'twinkle—’': 2246, 'bawled': 2247, '‘he’s': 2248, 'murdering': 2249, 'mournful': 2250, 'whiles': 2251, 'vote': 2252, 'alarmed': 2253, 'proposal': 2254, 'fellows': 2255, 'sisters': 2256, 'elsie': 2257, 'lacie': 2258, 'tillie': 2259, 'well—': 2260, 'interest': 2261, 'eating': 2262, 'drinking': 2263, 'opinion': 2264, 'who’s': 2265, 'helped': 2266, 'interrupt': 2267, 'consented': 2268, 'sisters—they': 2269, 'promise': 2270, 'clean': 2271, 'dormouse’s': 2272, 'unwillingly': 2273, 'jug': 2274, 'offend': 2275, 'well—eh': 2276, 'choosing': 2277, '—well': 2278, 'things—everything': 2279, 'doze': 2280, 'woke': 2281, '—that': 2282, 'traps': 2283, 'moon': 2284, 'memory': 2285, 'muchness—you': 2286, '—did': 2287, 'drawing': 2288, 'rudeness': 2289, 'disgust': 2290, 'teapot': 2291, 'stupidest': 2292, 'leading': 2293, 'today': 2294, 'unlocking': 2295, '—she': 2296, 'entrance': 2297, 'paint': 2298, 'jogged': 2299, 'blame': 2300, 'deserved': 2301, 'spoken': 2302, 'him—it': 2303, 'tulip': 2304, 'onions': 2305, 'flung': 2306, 'brush': 2307, 'unjust': 2308, 'things—': 2309, 'chanced': 2310, 'afore': 2311, 'to—': 2312, 'clubs': 2313, 'oblong': 2314, 'corners': 2315, 'diamonds': 2316, 'merrily': 2317, 'couples': 2318, 'kings': 2319, 'queens': 2320, 'recognised': 2321, 'noticing': 2322, 'velvet': 2323, 'processions': 2324, 'opposite': 2325, 'idiot': 2326, 'pattern': 2327, 'backs': 2328, 'glaring': 2329, 'beast': 2330, 'off—': 2331, 'bowing': 2332, 'humble': 2333, 'trying—': 2334, 'meanwhile': 2335, 'examining': 2336, 'remaining': 2337, 'execute': 2338, 'protection': 2339, 'pot': 2340, 'marched': 2341, 'evidently': 2342, 'roared': 2343, 'it’s—it’s': 2344, 'peeping': 2345, '—where’s': 2346, 'boxed': 2347, 'ears—': 2348, 'laughter': 2349, 'places': 2350, 'thunder': 2351, 'ridges': 2352, 'furrows': 2353, 'balls': 2354, 'mallets': 2355, 'double': 2356, 'chief': 2357, 'managing': 2358, 'comfortably': 2359, 'straightened': 2360, 'expression': 2361, 'bursting': 2362, 'provoking': 2363, 'act': 2364, 'crawling': 2365, 'ridge': 2366, 'furrow': 2367, 'send': 2368, 'doubled': 2369, 'parts': 2370, 'played': 2371, 'fighting': 2372, 'furious': 2373, 'uneasy': 2374, 'beheading': 2375, 'appearance': 2376, 'nodded': 2377, 'account': 2378, 'someone': 2379, 'fairly': 2380, 'complaining': 2381, 'quarrel': 2382, 'oneself': 2383, 'speak—and': 2384, 'attends': 2385, 'arch': 2386, 'ground—and': 2387, 'croqueted': 2388, 'extremely—': 2389, '—likely': 2390, 'win': 2391, 'finishing': 2392, 'mine—a': 2393, 'kiss': 2394, 'likes': 2395, 'impertinent': 2396, 'passing': 2397, 'settling': 2398, 'difficulties': 2399, 'screaming': 2400, 'search': 2401, 'engaged': 2402, 'croqueting': 2403, 'helpless': 2404, 'appealed': 2405, 'settle': 2406, 'arguments': 2407, 'executioner’s': 2408, 'weren’t': 2409, 'prison': 2410, 'arrow': 2411, 'fading': 2412, 'affectionately': 2413, 'pleasant': 2414, 'hopeful': 2415, 'without—maybe': 2416, 'vinegar': 2417, 'sour—and': 2418, 'camomile': 2419, 'bitter—and—and': 2420, 'barley': 2421, 'sweet': 2422, 'stingy': 2423, 'squeezed': 2424, 'closer': 2425, 'uncomfortably': 2426, 'bore': 2427, 'game’s': 2428, 'is—‘oh': 2429, 'minding': 2430, 'is—‘take': 2431, 'morals': 2432, 'waist': 2433, 'is—‘birds': 2434, 'feather': 2435, 'flock': 2436, 'mineral': 2437, 'is—‘the': 2438, 'attended': 2439, 'vegetable': 2440, 'is—‘be': 2441, 'be’—or': 2442, 'simply—‘never': 2443, 'cheap': 2444, 'birthday': 2445, 'dig': 2446, 'worried': 2447, 'died': 2448, 'favourite': 2449, '‘moral': 2450, 'linked': 2451, 'tremble': 2452, 'thunderstorm': 2453, 'fair': 2454, 'warning': 2455, 'absence': 2456, 'shade': 2457, 'delay': 2458, 'cost': 2459, 'whom': 2460, 'sentenced': 2461, 'company': 2462, 'pardoned': 2463, 'picture': 2464, 'lazy': 2465, 'leaving': 2466, 'rubbed': 2467, 'chuckled': 2468, 'executes': 2469, 'ledge': 2470, 'rock': 2471, 'pitied': 2472, 'hollow': 2473, 'occasional': 2474, 'exclamation': 2475, 'hjckrrh': 2476, 'calmly': 2477, 'turtle—we': 2478, 'tortoise—': 2479, 'sink': 2480, 'mayn’t': 2481, 'it—': 2482, 'educations—in': 2483, 'day—': 2484, 'extras': 2485, 'learned': 2486, 'ours': 2487, '‘french': 2488, '—extra': 2489, 'afford': 2490, 'inquired': 2491, 'reeling': 2492, 'writhing': 2493, 'arithmetic—ambition': 2494, 'distraction': 2495, 'uglification': 2496, 'derision': 2497, '‘uglification': 2498, 'lifted': 2499, 'uglifying': 2500, 'beautify': 2501, 'means—to—make—anything—prettier': 2502, 'uglify': 2503, 'simpleton': 2504, 'encouraged': 2505, 'mystery': 2506, 'counting': 2507, 'subjects': 2508, 'flappers': 2509, '—mystery': 2510, 'ancient': 2511, 'modern': 2512, 'seaography': 2513, 'drawling—the': 2514, 'conger': 2515, 'fainting': 2516, 'coils': 2517, 'stiff': 2518, 'classics': 2519, 'grief': 2520, 'hid': 2521, 'lessen': 2522, 'eleventh': 2523, 'holiday': 2524, 'twelfth': 2525, 'games': 2526, 'flapper': 2527, 'bone': 2528, 'punching': 2529, 'cheeks': 2530, 'sea—': 2531, 'introduced': 2532, 'lobster—': 2533, 'tasted—': 2534, 'form': 2535, 'shore—': 2536, 'lines': 2537, 'seals': 2538, 'salmon': 2539, 'cleared': 2540, 'jelly': 2541, 'way—': 2542, '—you': 2543, 'twice—': 2544, 'partner': 2545, 'partners—': 2546, '—change': 2547, 'retire': 2548, 'the—': 2549, 'bound': 2550, '—as': 2551, 'can—': 2552, 'capering': 2553, 'yelled': 2554, 'land': 2555, 'dropping': 2556, 'pretty': 2557, 'forepaws': 2558, 'shingle—will': 2559, 'askance—': 2560, 'thanked': 2561, 'scaly': 2562, 'england': 2563, 'france—': 2564, 'beloved': 2565, 'they—you’ve': 2566, 'dinn—': 2567, 'dinn': 2568, 'mouths—and': 2569, 'is—': 2570, 'thrown': 2571, 'shiny': 2572, 'blacking': 2573, 'soles': 2574, 'eels': 2575, 'shrimp': 2576, '‘keep': 2577, 'anywhere': 2578, 'journey': 2579, '‘with': 2580, '‘purpose’': 2581, 'adventures—beginning': 2582, 'impatient': 2583, 'explanations': 2584, 'gained': 2585, 'listeners': 2586, '‘’': 2587, 'tis': 2588, 'sluggard': 2589, 'baked': 2590, 'eyelids': 2591, 'trims': 2592, 'belt': 2593, 'buttons': 2594, 'sands': 2595, 'gay': 2596, 'lark': 2597, 'contemptuous': 2598, 'shark': 2599, 'tide': 2600, 'rises': 2601, 'sharks': 2602, 'tremulous': 2603, 'uncommon': 2604, 'explained': 2605, 'disobey': 2606, 'sharing': 2607, 'pie—': 2608, 'crust': 2609, 'gravy': 2610, 'meat': 2611, 'share': 2612, 'treat': 2613, 'boon': 2614, 'permitted': 2615, 'received': 2616, 'fork': 2617, 'banquet—': 2618, 'hm': 2619, 'accounting': 2620, 'tastes': 2621, 'rich': 2622, 'tureen': 2623, 'dainties': 2624, 'p': 2625, 'ennyworth': 2626, 'pennyworth': 2627, 'beauti—ful': 2628, 'panted': 2629, 'faintly': 2630, 'breeze': 2631, 'seated': 2632, 'throne': 2633, 'arrived': 2634, 'them—all': 2635, 'standing': 2636, 'chains': 2637, 'soldier': 2638, 'guard': 2639, 'refreshments': 2640, 'pass': 2641, 'justice': 2642, 'wore': 2643, 'frontispiece': 2644, 'comfortable': 2645, 'becoming': 2646, 'rightly': 2647, 'men': 2648, 'indignant': 2649, 'spell': 2650, 'neighbour': 2651, 'muddle': 2652, 'slates’ll': 2653, 'squeaked': 2654, 'juror': 2655, 'herald': 2656, 'accusation': 2657, 'fourteenth': 2658, 'fifteenth': 2659, 'sixteenth': 2660, 'dates': 2661, 'reduced': 2662, 'shillings': 2663, 'pence': 2664, 'hat': 2665, 'stolen': 2666, 'memorandum': 2667, 'fidgeted': 2668, 'spot': 2669, 'encourage': 2670, 'shifting': 2671, 'remain': 2672, 'squeeze': 2673, 'boldly': 2674, 'reasonable': 2675, 'pace': 2676, 'ridiculous': 2677, 'tea—not': 2678, 'so—and': 2679, 'thin—and': 2680, 'tea—': 2681, 't': 2682, 'dunce': 2683, 'twinkled': 2684, 'that—only': 2685, 'denies': 2686, 'butter—': 2687, 'speaker': 2688, 'canvas': 2689, 'bag': 2690, 'tied': 2691, 'strings': 2692, 'newspapers': 2693, 'trials': 2694, 'attempts': 2695, 'applause': 2696, 'understood': 2697, 'lower': 2698, 'officer': 2699, 'folding': 2700, 'collar': 2701, 'shrieked': 2702, 'behead': 2703, 'suppress': 2704, 'ache': 2705, 'fumbled': 2706, '—for': 2707, 'flurry': 2708, 'tipped': 2709, 'skirt': 2710, 'upsetting': 2711, 'sprawling': 2712, 'reminding': 2713, 'globe': 2714, 'accidentally': 2715, 'dismay': 2716, 'vague': 2717, 'die': 2718, 'cannot': 2719, 'places—': 2720, 'emphasis': 2721, 'haste': 2722, 'downwards': 2723, 'unable': 2724, 'signifies': 2725, 'shock': 2726, 'pencils': 2727, 'diligently': 2728, 'overcome': 2729, 'gazing': 2730, 'respectful': 2731, 'important—unimportant—unimportant—important—': 2732, 'unimportant': 2733, 'cackled': 2734, 'forty': 2735, 'persons': 2736, 'invented': 2737, 'oldest': 2738, 'prisoner': 2739, 'to—to': 2740, 'prisoner’s': 2741, 'handwriting': 2742, 'queerest': 2743, 'imitated': 2744, 'else’s': 2745, 'prove': 2746, 'sign': 2747, 'mischief': 2748, 'honest': 2749, 'clapping': 2750, 'guilt': 2751, 'character': 2752, 'push': 2753, 'involved': 2754, 'affair': 2755, 'trusts': 2756, 'obstacle': 2757, 'ourselves': 2758, 'secret': 2759, 'jury—': 2760, 'sixpence': 2761, 'attempted': 2762, 'saves': 2763, 'spreading': 2764, 'cardboard': 2765, 'course—‘': 2766, 'clearer': 2767, 'again—‘': 2768, 'fits': 2769, 'furiously': 2770, 'inkstand': 2771, 'ink': 2772, 'trickling': 2773, 'pun': 2774, 'twentieth': 2775, 'first—verdict': 2776, 'purple': 2777, 'flying': 2778, 'brushing': 2779, 'fluttered': 2780, 'kissed': 2781, 'setting': 2782, 'dreaming': 2783, 'dreamed': 2784, 'clasped': 2785, 'hers—she': 2786, 'toss': 2787, 'eyes—and': 2788, 'listened': 2789, 'sister’s': 2790, 'rustled': 2791, 'by—the': 2792, 'splashed': 2793, 'neighbouring': 2794, 'pool—she': 2795, 'rattle': 2796, 'shared': 2797, 'meal': 2798, 'execution—once': 2799, 'crashed': 2800, 'it—once': 2801, 'lizard’s': 2802, 'choking': 2803, 'believed': 2804, 'reality—the': 2805, 'rustling': 2806, 'rippling': 2807, 'reeds—the': 2808, 'tinkling': 2809, 'sheep': 2810, 'bells': 2811, 'cries': 2812, 'shepherd': 2813, 'boy—and': 2814, 'noises': 2815, 'clamour': 2816, 'farm': 2817, 'yard—while': 2818, 'lowing': 2819, 'cattle': 2820, 'lastly': 2821, 'pictured': 2822, 'woman': 2823, 'riper': 2824, 'years': 2825, 'loving': 2826, 'childhood': 2827, 'gather': 2828, 'sorrows': 2829, 'joys': 2830, 'remembering': 2831, 'happy': 2832, 'project': 2833, 'gutenberg': 2834, 'ebook': 2835, '11': 2836}\n",
      "Word Counts: OrderedDict([('alice’s', 13), ('adventures', 6), ('in', 369), ('wonderland', 3), ('by', 58), ('lewis', 1), ('carroll', 1), ('the', 1643), ('millennium', 1), ('fulcrum', 1), ('edition', 1), ('3', 1), ('0', 1), ('contents', 1), ('chapter', 24), ('i', 395), ('down', 102), ('rabbit', 49), ('hole', 5), ('ii', 2), ('pool', 11), ('of', 513), ('tears', 12), ('iii', 2), ('a', 632), ('caucus', 4), ('race', 7), ('and', 851), ('long', 33), ('tale', 5), ('iv', 2), ('sends', 2), ('little', 129), ('bill', 13), ('v', 2), ('advice', 3), ('from', 37), ('caterpillar', 28), ('vi', 2), ('pig', 12), ('pepper', 9), ('vii', 2), ('mad', 15), ('tea', 18), ('party', 11), ('viii', 2), ('queen’s', 8), ('croquet', 10), ('ground', 8), ('ix', 2), ('mock', 57), ('turtle’s', 3), ('story', 9), ('x', 2), ('lobster', 7), ('quadrille', 5), ('xi', 2), ('who', 61), ('stole', 3), ('tarts', 8), ('xii', 2), ('evidence', 8), ('alice', 386), ('was', 357), ('beginning', 13), ('to', 724), ('get', 45), ('very', 144), ('tired', 7), ('sitting', 10), ('her', 248), ('sister', 8), ('on', 193), ('bank', 2), ('having', 10), ('nothing', 34), ('do', 80), ('once', 32), ('or', 75), ('twice', 4), ('she', 538), ('had', 178), ('peeped', 3), ('into', 67), ('book', 11), ('reading', 3), ('but', 163), ('it', 523), ('no', 87), ('pictures', 4), ('conversations', 2), ('what', 134), ('is', 101), ('use', 18), ('thought', 74), ('without', 25), ('so', 149), ('considering', 3), ('own', 10), ('mind', 10), ('as', 261), ('well', 60), ('could', 77), ('for', 152), ('hot', 7), ('day', 28), ('made', 30), ('feel', 8), ('sleepy', 5), ('stupid', 6), ('whether', 11), ('pleasure', 2), ('making', 8), ('daisy', 1), ('chain', 1), ('would', 83), ('be', 146), ('worth', 4), ('trouble', 6), ('getting', 22), ('up', 99), ('picking', 2), ('daisies', 1), ('when', 79), ('suddenly', 13), ('white', 30), ('with', 180), ('pink', 1), ('eyes', 28), ('ran', 16), ('close', 13), ('there', 75), ('remarkable', 2), ('that', 277), ('nor', 3), ('did', 62), ('think', 50), ('much', 51), ('out', 117), ('way', 55), ('hear', 14), ('say', 50), ('itself', 14), ('oh', 38), ('dear', 29), ('shall', 25), ('late', 6), ('over', 40), ('afterwards', 2), ('occurred', 2), ('ought', 14), ('have', 80), ('wondered', 1), ('at', 209), ('this', 134), ('time', 71), ('all', 180), ('seemed', 27), ('quite', 55), ('natural', 4), ('actually', 1), ('took', 24), ('watch', 8), ('its', 57), ('waistcoat', 2), ('pocket', 7), ('looked', 45), ('then', 92), ('hurried', 11), ('started', 2), ('feet', 19), ('flashed', 1), ('across', 5), ('never', 46), ('before', 38), ('seen', 14), ('either', 10), ('take', 21), ('burning', 1), ('curiosity', 5), ('field', 1), ('after', 43), ('fortunately', 1), ('just', 51), ('see', 65), ('pop', 1), ('large', 33), ('under', 16), ('hedge', 2), ('another', 22), ('moment', 29), ('went', 83), ('how', 64), ('world', 7), ('again', 82), ('straight', 2), ('like', 84), ('tunnel', 1), ('some', 51), ('dipped', 2), ('not', 144), ('about', 94), ('stopping', 1), ('herself', 83), ('found', 31), ('falling', 2), ('deep', 7), ('fell', 6), ('slowly', 8), ('plenty', 2), ('look', 29), ('wonder', 18), ('going', 27), ('happen', 8), ('next', 30), ('first', 49), ('tried', 19), ('make', 26), ('coming', 8), ('too', 26), ('dark', 3), ('anything', 19), ('sides', 4), ('noticed', 8), ('they', 127), ('were', 85), ('filled', 3), ('cupboards', 2), ('shelves', 2), ('here', 48), ('saw', 14), ('maps', 1), ('hung', 1), ('upon', 26), ('pegs', 1), ('jar', 2), ('one', 101), ('passed', 5), ('labelled', 1), ('orange', 1), ('marmalade', 1), ('great', 39), ('disappointment', 1), ('empty', 1), ('drop', 1), ('fear', 4), ('killing', 1), ('somebody', 7), ('underneath', 2), ('managed', 4), ('put', 31), ('past', 3), ('such', 40), ('fall', 7), ('tumbling', 2), ('stairs', 3), ('brave', 1), ('they’ll', 4), ('me', 68), ('home', 5), ('why', 39), ('wouldn’t', 13), ('even', 18), ('if', 94), ('off', 72), ('top', 8), ('house', 18), ('which', 49), ('likely', 4), ('true', 4), ('come', 43), ('an', 57), ('end', 19), ('many', 12), ('miles', 3), ('i’ve', 34), ('fallen', 4), ('said', 459), ('aloud', 5), ('must', 44), ('somewhere', 3), ('near', 15), ('centre', 1), ('earth', 4), ('let', 16), ('four', 8), ('thousand', 2), ('think—', 3), ('you', 360), ('learnt', 2), ('several', 4), ('things', 28), ('sort', 20), ('lessons', 10), ('schoolroom', 1), ('though', 11), ('good', 27), ('opportunity', 8), ('showing', 2), ('knowledge', 3), ('listen', 7), ('still', 13), ('practice', 1), ('—yes', 1), ('that’s', 33), ('right', 32), ('distance—but', 1), ('latitude', 2), ('longitude', 2), ('got', 45), ('idea', 15), ('nice', 6), ('grand', 3), ('words', 21), ('presently', 2), ('began', 58), ('through', 14), ('funny', 3), ('it’ll', 8), ('seem', 8), ('among', 12), ('people', 13), ('walk', 5), ('their', 52), ('heads', 10), ('downward', 1), ('antipathies', 1), ('rather', 25), ('glad', 11), ('listening', 3), ('didn’t', 14), ('sound', 4), ('word', 10), ('—but', 2), ('ask', 11), ('them', 83), ('name', 10), ('country', 1), ('know', 81), ('please', 19), ('ma’am', 1), ('new', 5), ('zealand', 1), ('australia', 1), ('curtsey', 1), ('spoke—fancy', 1), ('curtseying', 1), ('you’re', 23), ('air', 15), ('manage', 7), ('ignorant', 1), ('girl', 4), ('she’ll', 3), ('asking', 5), ('perhaps', 17), ('written', 6), ('else', 10), ('soon', 25), ('talking', 17), ('dinah’ll', 2), ('miss', 3), ('night', 5), ('should', 27), ('dinah', 11), ('cat', 35), ('hope', 3), ('remember', 14), ('saucer', 1), ('milk', 2), ('my', 58), ('wish', 21), ('are', 53), ('mice', 3), ('i’m', 57), ('afraid', 12), ('might', 28), ('catch', 4), ('bat', 3), ('mouse', 39), ('cats', 13), ('eat', 17), ('bats', 4), ('saying', 15), ('dreamy', 1), ('sometimes', 5), ('couldn’t', 9), ('answer', 9), ('question', 17), ('matter', 9), ('felt', 23), ('dozing', 1), ('begun', 7), ('dream', 7), ('walking', 5), ('hand', 21), ('earnestly', 2), ('now', 58), ('tell', 32), ('truth', 1), ('ever', 22), ('thump', 2), ('came', 40), ('heap', 1), ('sticks', 1), ('dry', 8), ('leaves', 6), ('bit', 16), ('hurt', 3), ('jumped', 6), ('overhead', 1), ('passage', 4), ('sight', 10), ('hurrying', 1), ('lost', 3), ('away', 25), ('wind', 2), ('turned', 16), ('corner', 3), ('ears', 4), ('whiskers', 3), ('it’s', 54), ('behind', 13), ('longer', 3), ('low', 15), ('hall', 9), ('lit', 1), ('row', 2), ('lamps', 1), ('hanging', 3), ('roof', 6), ('doors', 2), ('round', 41), ('locked', 1), ('been', 38), ('side', 17), ('other', 39), ('trying', 13), ('every', 12), ('door', 28), ('walked', 10), ('sadly', 5), ('middle', 7), ('wondering', 7), ('three', 28), ('legged', 2), ('table', 18), ('solid', 1), ('glass', 10), ('except', 4), ('tiny', 4), ('golden', 7), ('key', 9), ('belong', 1), ('alas', 4), ('locks', 2), ('small', 10), ('any', 39), ('rate', 9), ('open', 7), ('however', 20), ('second', 4), ('curtain', 1), ('fifteen', 1), ('inches', 6), ('high', 16), ('lock', 1), ('delight', 3), ('fitted', 1), ('opened', 10), ('led', 4), ('larger', 7), ('than', 24), ('rat', 1), ('knelt', 1), ('along', 5), ('loveliest', 1), ('garden', 15), ('longed', 2), ('wander', 1), ('those', 10), ('beds', 2), ('bright', 8), ('flowers', 2), ('cool', 2), ('fountains', 2), ('head', 47), ('doorway', 1), ('go', 50), ('poor', 27), ('shoulders', 4), ('shut', 5), ('telescope', 3), ('only', 49), ('knew', 15), ('begin', 13), ('happened', 7), ('lately', 1), ('few', 9), ('indeed', 16), ('really', 13), ('impossible', 3), ('waiting', 9), ('back', 39), ('half', 23), ('hoping', 3), ('find', 21), ('rules', 3), ('shutting', 2), ('telescopes', 1), ('bottle', 10), ('certainly', 14), ('neck', 7), ('paper', 4), ('label', 2), ('drink', 7), ('beautifully', 2), ('printed', 1), ('letters', 1), ('wise', 2), ('hurry', 11), ('i’ll', 29), ('marked', 6), ('‘', 6), ('poison', 3), ('’', 28), ('read', 11), ('histories', 1), ('children', 10), ('burnt', 1), ('eaten', 1), ('wild', 2), ('beasts', 2), ('unpleasant', 2), ('because', 15), ('simple', 5), ('friends', 2), ('taught', 4), ('red', 3), ('poker', 1), ('will', 31), ('burn', 2), ('hold', 10), ('cut', 5), ('your', 62), ('finger', 5), ('deeply', 4), ('knife', 3), ('usually', 2), ('bleeds', 1), ('forgotten', 6), ('almost', 6), ('certain', 3), ('disagree', 1), ('sooner', 2), ('later', 3), ('ventured', 4), ('taste', 2), ('finding', 3), ('fact', 8), ('mixed', 2), ('flavour', 1), ('cherry', 1), ('tart', 1), ('custard', 1), ('pine', 1), ('apple', 1), ('roast', 1), ('turkey', 1), ('toffee', 1), ('buttered', 1), ('toast', 1), ('finished', 12), ('curious', 19), ('feeling', 7), ('ten', 6), ('face', 14), ('brightened', 2), ('size', 13), ('lovely', 2), ('waited', 11), ('minutes', 11), ('shrink', 1), ('further', 3), ('nervous', 5), ('altogether', 5), ('candle', 3), ('fancy', 5), ('flame', 1), ('blown', 1), ('thing', 49), ('while', 24), ('more', 48), ('decided', 3), ('possibly', 3), ('reach', 4), ('plainly', 1), ('best', 12), ('climb', 1), ('legs', 3), ('slippery', 1), ('sat', 17), ('cried', 20), ('there’s', 24), ('crying', 2), ('sharply', 4), ('advise', 1), ('leave', 9), ('minute', 21), ('generally', 7), ('gave', 15), ('seldom', 1), ('followed', 8), ('scolded', 1), ('severely', 4), ('bring', 3), ('remembered', 5), ('box', 9), ('cheated', 1), ('game', 12), ('playing', 2), ('against', 9), ('child', 11), ('fond', 3), ('pretending', 1), ('two', 40), ('pretend', 1), ('hardly', 12), ('enough', 17), ('left', 14), ('respectable', 1), ('person', 4), ('eye', 7), ('lying', 8), ('cake', 3), ('currants', 1), ('makes', 11), ('grow', 13), ('can', 34), ('smaller', 3), ('creep', 1), ('don’t', 60), ('care', 4), ('happens', 5), ('ate', 1), ('anxiously', 14), ('holding', 3), ('growing', 11), ('surprised', 7), ('remained', 3), ('same', 24), ('sure', 24), ('eats', 1), ('expecting', 3), ('dull', 3), ('life', 12), ('common', 1), ('set', 14), ('work', 8), ('curiouser', 2), ('forgot', 2), ('speak', 14), ('english', 6), ('opening', 3), ('largest', 1), ('bye', 2), ('far', 13), ('shoes', 7), ('stockings', 1), ('dears', 3), ('shan’t', 6), ('able', 1), ('deal', 12), ('myself', 7), ('kind', 7), ('won’t', 24), ('want', 9), ('give', 12), ('pair', 5), ('boots', 4), ('christmas', 1), ('planning', 1), ('carrier', 1), ('sending', 2), ('presents', 2), ('one’s', 1), ('odd', 1), ('directions', 3), ('foot', 10), ('esq', 1), ('hearthrug', 1), ('fender', 1), ('love', 3), ('nonsense', 7), ('struck', 2), ('nine', 5), ('hopeless', 1), ('cry', 3), ('ashamed', 2), ('yourself', 10), ('stop', 6), ('shedding', 1), ('gallons', 1), ('until', 5), ('reaching', 1), ('heard', 30), ('pattering', 3), ('distance', 7), ('hastily', 16), ('dried', 1), ('returning', 1), ('splendidly', 1), ('dressed', 1), ('kid', 5), ('gloves', 10), ('fan', 10), ('he', 120), ('trotting', 2), ('muttering', 3), ('himself', 6), ('duchess', 39), ('savage', 4), ('kept', 13), ('desperate', 1), ('ready', 8), ('help', 9), ('timid', 3), ('voice', 47), ('sir—', 1), ('violently', 4), ('dropped', 5), ('skurried', 1), ('darkness', 1), ('hard', 8), ('fanning', 1), ('queer', 12), ('everything', 10), ('yesterday', 3), ('usual', 5), ('changed', 8), ('morning', 5), ('different', 9), ('am', 15), ('ah', 5), ('puzzle', 1), ('thinking', 11), ('age', 4), ('ada', 1), ('hair', 7), ('goes', 7), ('ringlets', 2), ('mine', 9), ('doesn’t', 16), ('can’t', 28), ('mabel', 4), ('sorts', 3), ('knows', 2), ('besides', 4), ('she’s', 7), ('and—oh', 2), ('puzzling', 4), ('try', 12), ('used', 12), ('times', 6), ('five', 8), ('twelve', 4), ('six', 2), ('thirteen', 1), ('seven', 6), ('is—oh', 1), ('twenty', 3), ('multiplication', 1), ('signify', 1), ('let’s', 5), ('geography', 1), ('london', 1), ('capital', 4), ('paris', 2), ('rome', 1), ('rome—no', 1), ('wrong', 5), ('doth', 3), ('—’', 4), ('crossed', 3), ('hands', 12), ('lap', 2), ('repeat', 7), ('sounded', 5), ('hoarse', 3), ('strange', 5), ('—', 22), ('crocodile', 1), ('improve', 1), ('his', 96), ('shining', 1), ('tail', 9), ('pour', 1), ('waters', 1), ('nile', 1), ('scale', 1), ('cheerfully', 1), ('seems', 5), ('grin', 6), ('neatly', 2), ('spread', 3), ('claws', 2), ('welcome', 1), ('fishes', 1), ('gently', 3), ('smiling', 2), ('jaws', 2), ('live', 8), ('poky', 1), ('toys', 1), ('play', 8), ('learn', 7), ('stay', 5), ('putting', 3), ('‘come', 2), ('‘who', 1), ('being', 19), ('till', 21), ('else’—but', 1), ('sudden', 5), ('burst', 1), ('alone', 4), ('rabbit’s', 3), ('done', 15), ('measure', 1), ('nearly', 11), ('guess', 3), ('shrinking', 4), ('rapidly', 2), ('cause', 3), ('avoid', 1), ('narrow', 2), ('escape', 4), ('frightened', 7), ('change', 13), ('existence', 1), ('speed', 1), ('worse', 3), ('declare', 2), ('bad', 2), ('these', 14), ('slipped', 3), ('splash', 1), ('chin', 7), ('salt', 2), ('water', 5), ('somehow', 1), ('sea', 13), ('case', 5), ('railway', 2), ('seaside', 1), ('general', 3), ('conclusion', 2), ('wherever', 2), ('coast', 1), ('number', 5), ('bathing', 1), ('machines', 1), ('digging', 4), ('sand', 1), ('wooden', 1), ('spades', 1), ('lodging', 1), ('houses', 1), ('station', 1), ('wept', 1), ('hadn’t', 8), ('swam', 5), ('punished', 1), ('suppose', 14), ('drowned', 1), ('something', 18), ('splashing', 2), ('nearer', 5), ('walrus', 1), ('hippopotamus', 1), ('talk', 14), ('harm', 1), ('o', 2), ('swimming', 2), ('speaking', 5), ('brother’s', 1), ('latin', 1), ('grammar', 1), ('mouse—of', 1), ('mouse—to', 1), ('mouse—a', 1), ('mouse—o', 1), ('inquisitively', 1), ('wink', 2), ('understand', 6), ('daresay', 1), ('french', 3), ('william', 6), ('conqueror', 2), ('history', 7), ('clear', 2), ('notion', 3), ('ago', 2), ('où', 1), ('est', 1), ('ma', 2), ('chatte', 1), ('sentence', 6), ('lesson', 3), ('leap', 1), ('quiver', 1), ('fright', 2), ('beg', 8), ('pardon', 6), ('animal’s', 1), ('feelings', 2), ('shrill', 5), ('passionate', 1), ('soothing', 1), ('tone', 40), ('angry', 5), ('yet', 22), ('show', 3), ('our', 8), ('you’d', 10), ('quiet', 2), ('lazily', 1), ('sits', 1), ('purring', 2), ('nicely', 2), ('fire', 4), ('licking', 1), ('paws', 4), ('washing', 3), ('face—and', 1), ('soft', 1), ('nurse—and', 1), ('catching', 2), ('mice—oh', 1), ('bristling', 1), ('offended', 10), ('we', 29), ('trembling', 6), ('subject', 6), ('family', 1), ('always', 12), ('hated', 1), ('nasty', 1), ('vulgar', 1), ('conversation', 9), ('you—are', 1), ('fond—of—of', 1), ('dogs', 3), ('eagerly', 8), ('dog', 2), ('eyed', 1), ('terrier', 1), ('curly', 1), ('brown', 2), ('fetch', 7), ('throw', 3), ('sit', 8), ('dinner', 2), ('things—i', 1), ('them—and', 2), ('belongs', 2), ('farmer', 1), ('says', 4), ('useful', 2), ('hundred', 1), ('pounds', 1), ('kills', 1), ('rats', 1), ('sorrowful', 2), ('commotion', 1), ('called', 15), ('softly', 1), ('pale', 4), ('passion', 3), ('us', 14), ('shore', 3), ('you’ll', 6), ('hate', 1), ('crowded', 5), ('birds', 9), ('animals', 4), ('duck', 4), ('dodo', 13), ('lory', 7), ('eaglet', 3), ('creatures', 10), ('whole', 13), ('looking', 32), ('assembled', 2), ('bank—the', 1), ('draggled', 1), ('feathers', 1), ('fur', 3), ('clinging', 1), ('dripping', 1), ('wet', 2), ('cross', 3), ('uncomfortable', 4), ('course', 25), ('consultation', 1), ('familiarly', 1), ('known', 1), ('argument', 4), ('last', 33), ('sulky', 3), ('older', 2), ('better', 14), ('allow', 3), ('knowing', 2), ('old', 19), ('positively', 1), ('refused', 1), ('authority', 2), ('ring', 2), ('fixed', 1), ('cold', 1), ('ahem', 1), ('important', 7), ('driest', 1), ('silence', 14), ('‘william', 1), ('whose', 2), ('favoured', 1), ('pope', 1), ('submitted', 1), ('wanted', 4), ('leaders', 1), ('accustomed', 1), ('usurpation', 1), ('conquest', 1), ('edwin', 1), ('morcar', 2), ('earls', 2), ('mercia', 2), ('northumbria—’', 1), ('ugh', 2), ('shiver', 1), ('frowning', 4), ('politely', 6), ('—i', 2), ('proceed', 2), ('‘edwin', 1), ('northumbria', 1), ('declared', 1), ('him', 41), ('stigand', 1), ('patriotic', 1), ('archbishop', 2), ('canterbury', 1), ('advisable—’', 1), ('replied', 29), ('crossly', 1), ('‘it’', 2), ('means', 4), ('frog', 3), ('worm', 1), ('notice', 5), ('hurriedly', 2), ('‘—found', 1), ('advisable', 1), ('edgar', 1), ('atheling', 1), ('meet', 2), ('offer', 2), ('crown', 3), ('william’s', 1), ('conduct', 1), ('moderate', 1), ('insolence', 1), ('normans—’', 1), ('continued', 9), ('turning', 12), ('spoke', 16), ('melancholy', 6), ('solemnly', 4), ('rising', 1), ('move', 3), ('meeting', 1), ('adjourn', 1), ('immediate', 1), ('adoption', 1), ('energetic', 1), ('remedies—', 1), ('meaning', 8), ('what’s', 5), ('believe', 9), ('bent', 1), ('hide', 1), ('smile', 2), ('tittered', 1), ('audibly', 1), ('paused', 1), ('inclined', 1), ('explain', 10), ('winter', 1), ('circle', 1), ('exact', 1), ('shape', 1), ('placed', 1), ('running', 8), ('liked', 6), ('easy', 2), ('hour', 2), ('panting', 2), ('has', 7), ('won', 2), ('pressed', 3), ('forehead', 2), ('position', 2), ('shakespeare', 1), ('rest', 10), ('everybody', 8), ('prizes', 5), ('chorus', 6), ('voices', 2), ('asked', 17), ('pointing', 4), ('calling', 1), ('confused', 4), ('despair', 1), ('pulled', 1), ('comfits', 2), ('luckily', 2), ('handed', 3), ('exactly', 8), ('piece', 6), ('prize', 1), ('gravely', 3), ('thimble', 4), ('presented', 1), ('acceptance', 1), ('elegant', 1), ('short', 4), ('speech', 3), ('cheered', 3), ('absurd', 2), ('grave', 3), ('dare', 5), ('laugh', 1), ('simply', 2), ('bowed', 4), ('solemn', 3), ('caused', 2), ('noise', 3), ('confusion', 5), ('complained', 1), ('theirs', 1), ('ones', 1), ('choked', 3), ('patted', 1), ('begged', 1), ('promised', 1), ('hate—c', 1), ('d', 1), ('added', 23), ('whisper', 3), ('sad', 3), ('sighing', 3), ('mouse’s', 1), ('call', 9), ('fury', 3), ('met', 3), ('‘let', 1), ('both', 14), ('law', 2), ('prosecute', 1), ('—come', 1), ('denial', 1), ('trial', 7), ('cur', 1), ('‘such', 1), ('sir', 6), ('jury', 21), ('judge', 4), ('wasting', 2), ('breath', 4), ('‘i’ll', 2), ('cunning', 1), ('condemn', 1), ('death', 1), ('attending', 3), ('humbly', 2), ('fifth', 1), ('bend', 2), ('angrily', 9), ('knot', 2), ('undo', 1), ('insult', 1), ('mean', 10), ('pleaded', 3), ('easily', 3), ('growled', 1), ('reply', 5), ('finish', 5), ('others', 7), ('joined', 3), ('yes', 12), ('shook', 9), ('impatiently', 5), ('quicker', 1), ('pity', 3), ('sighed', 5), ('crab', 3), ('daughter', 1), ('lose', 1), ('temper', 5), ('tongue', 4), ('young', 5), ('snappishly', 1), ('patience', 1), ('oyster', 1), ('addressing', 1), ('nobody', 8), ('particular', 3), ('she’d', 2), ('venture', 3), ('pet', 1), ('dinah’s', 1), ('bird', 2), ('sensation', 2), ('magpie', 1), ('wrapping', 1), ('carefully', 3), ('remarking', 3), ('suit', 3), ('throat', 2), ('canary', 1), ('bed', 1), ('various', 1), ('pretexts', 1), ('moved', 5), ('mentioned', 3), ('lonely', 2), ('spirited', 1), ('footsteps', 2), ('executed', 6), ('ferrets', 2), ('where', 12), ('guessed', 3), ('naturedly', 1), ('hunting', 3), ('nowhere', 2), ('seen—everything', 1), ('since', 4), ('swim', 5), ('vanished', 4), ('completely', 1), ('mary', 4), ('ann', 4), ('doing', 5), ('run', 4), ('quick', 2), ('direction', 5), ('pointed', 1), ('mistake', 3), ('housemaid', 1), ('he’ll', 1), ('finds', 1), ('i’d', 11), ('gloves—that', 1), ('neat', 1), ('brass', 1), ('plate', 3), ('w', 1), ('engraved', 1), ('knocking', 3), ('upstairs', 1), ('lest', 1), ('real', 3), ('messages', 2), ('fancying', 1), ('‘miss', 1), ('directly', 2), ('‘coming', 1), ('nurse', 2), ('they’d', 4), ('ordering', 2), ('tidy', 1), ('room', 13), ('window', 8), ('hoped', 1), ('pairs', 1), ('stood', 7), ('nevertheless', 1), ('uncorked', 1), ('lips', 1), ('interesting', 5), ('whenever', 1), ('does', 9), ('expected', 1), ('drunk', 2), ('pressing', 1), ('ceiling', 1), ('stoop', 2), ('save', 1), ('broken', 6), ('enough—i', 1), ('more—as', 1), ('door—i', 1), ('kneel', 1), ('floor', 3), ('effect', 3), ('elbow', 3), ('arm', 15), ('curled', 2), ('resource', 1), ('chimney', 6), ('whatever', 3), ('become', 5), ('magic', 1), ('full', 6), ('grew', 1), ('chance', 4), ('unhappy', 2), ('pleasanter', 1), ('wasn’t', 11), ('ordered', 4), ('rabbits', 1), ('gone', 13), ('hole—and', 1), ('yet—and', 1), ('yet—it’s', 1), ('fairy', 1), ('tales', 1), ('fancied', 2), ('write', 6), ('one—but', 1), ('grown', 7), ('least', 8), ('that’ll', 1), ('comfort', 1), ('way—never', 1), ('woman—but', 1), ('then—always', 1), ('shouldn’t', 5), ('foolish', 1), ('answered', 4), ('books', 2), ('taking', 5), ('outside', 4), ('stopped', 3), ('trembled', 2), ('forgetting', 3), ('reason', 9), ('inwards', 1), ('attempt', 1), ('proved', 2), ('failure', 1), ('snatch', 2), ('shriek', 5), ('crash', 3), ('concluded', 2), ('possible', 1), ('cucumber', 2), ('frame', 1), ('voice—the', 1), ('rabbit’s—', 1), ('pat', 3), ('apples', 2), ('yer', 4), ('honour', 4), ('sounds', 4), ('pronounced', 1), ('arrum', 1), ('goose', 2), ('fills', 1), ('business', 7), ('whispers', 1), ('coward', 1), ('shrieks', 1), ('frames', 1), ('pulling', 1), ('hearing', 4), ('rumbling', 1), ('cartwheels', 1), ('together', 9), ('where’s', 1), ('ladder', 1), ('—why', 1), ('bill’s', 3), ('other—bill', 1), ('lad', 1), ('—here', 1), ('’em', 3), ('corner—no', 1), ('tie', 1), ('first—they', 1), ('yet—oh', 1), ('particular—here', 1), ('rope—will', 1), ('bear', 2), ('—mind', 1), ('loose', 1), ('slate—oh', 1), ('below', 3), ('loud', 6), ('—it', 2), ('fancy—who’s', 1), ('—nay', 1), ('—bill’s', 1), ('down—here', 1), ('master', 4), ('shy', 1), ('place', 8), ('fireplace', 1), ('kick', 3), ('drew', 5), ('animal', 1), ('scratching', 1), ('scrambling', 1), ('above', 3), ('sharp', 6), ('along—', 1), ('voices—', 1), ('head—brandy', 1), ('now—don’t', 1), ('choke', 1), ('him—how', 1), ('fellow', 4), ('feeble', 2), ('squeaking', 2), ('know—no', 1), ('thank', 4), ('ye', 1), ('now—but', 1), ('flustered', 1), ('you—all', 1), ('comes', 2), ('jack', 1), ('sky', 5), ('rocket', 1), ('dead', 4), ('instantly', 5), ('sense', 3), ('moving', 3), ('barrowful', 2), ('doubt', 4), ('shower', 2), ('pebbles', 2), ('rattling', 2), ('hit', 2), ('shouted', 9), ('produced', 1), ('surprise', 5), ('cakes', 3), ('lay', 4), ('swallowed', 1), ('delighted', 2), ('crowd', 4), ('lizard', 5), ('held', 4), ('guinea', 6), ('pigs', 6), ('giving', 2), ('rush', 2), ('appeared', 8), ('safe', 2), ('thick', 1), ('wood', 7), ('wandered', 2), ('plan', 4), ('excellent', 2), ('arranged', 1), ('difficulty', 4), ('smallest', 2), ('peering', 1), ('trees', 7), ('bark', 2), ('enormous', 1), ('puppy', 6), ('feebly', 1), ('stretching', 2), ('paw', 3), ('touch', 1), ('coaxing', 2), ('whistle', 1), ('terribly', 1), ('hungry', 3), ('spite', 1), ('picked', 3), ('stick', 4), ('whereupon', 1), ('yelp', 1), ('rushed', 1), ('worry', 1), ('dodged', 1), ('thistle', 2), ('keep', 10), ('tumbled', 1), ('heels', 1), ('cart', 1), ('horse', 1), ('trampled', 1), ('series', 1), ('charges', 1), ('forwards', 1), ('each', 8), ('barking', 1), ('hoarsely', 1), ('mouth', 10), ('puppy’s', 1), ('faint', 1), ('leant', 1), ('buttercup', 1), ('fanned', 1), ('teaching', 1), ('tricks', 1), ('if—if', 1), ('see—how', 1), ('blades', 1), ('grass', 4), ('circumstances', 1), ('mushroom', 8), ('height', 5), ('stretched', 2), ('tiptoe', 2), ('edge', 3), ('immediately', 3), ('blue', 1), ('arms', 6), ('folded', 3), ('quietly', 5), ('smoking', 2), ('hookah', 5), ('addressed', 2), ('languid', 1), ('encouraging', 2), ('shyly', 1), ('i—i', 1), ('present—at', 1), ('sternly', 1), ('clearly', 1), ('sizes', 1), ('confusing', 3), ('isn’t', 7), ('haven’t', 8), ('turn', 11), ('chrysalis—you', 1), ('know—and', 1), ('butterfly', 1), ('may', 13), ('contemptuously', 2), ('brought', 3), ('irritated', 1), ('caterpillar’s', 1), ('remarks', 3), ('state', 1), ('promising', 1), ('swallowing', 1), ('anger', 2), ('wait', 1), ('puffed', 1), ('unfolded', 2), ('used—and', 1), ('busy', 2), ('bee', 1), ('father', 6), ('man', 5), ('incessantly', 1), ('stand', 6), ('head—', 1), ('youth', 6), ('son', 1), ('feared', 1), ('injure', 1), ('brain', 1), ('perfectly', 4), ('none', 4), ('most', 8), ('uncommonly', 1), ('fat', 1), ('somersault', 2), ('door—', 1), ('pray', 3), ('sage', 1), ('grey', 1), ('limbs', 1), ('supple', 1), ('ointment—one', 1), ('shilling', 1), ('box—', 1), ('sell', 2), ('couple', 1), ('weak', 2), ('tougher', 1), ('suet', 1), ('bones', 1), ('beak—', 1), ('argued', 1), ('wife', 1), ('muscular', 1), ('strength', 1), ('jaw', 1), ('lasted', 2), ('steady', 1), ('balanced', 1), ('eel', 2), ('nose—', 1), ('awfully', 1), ('clever', 2), ('questions', 4), ('airs', 1), ('stuff', 4), ('timidly', 9), ('altered', 1), ('decidedly', 4), ('changing', 2), ('often', 5), ('contradicted', 1), ('losing', 1), ('content', 1), ('wretched', 2), ('rearing', 1), ('upright', 1), ('piteous', 1), ('patiently', 2), ('chose', 2), ('yawned', 2), ('crawled', 1), ('merely', 2), ('taller', 2), ('shorter', 2), ('thoughtfully', 4), ('difficult', 2), ('broke', 2), ('nibbled', 2), ('violent', 2), ('blow', 2), ('closely', 1), ('swallow', 1), ('morsel', 1), ('lefthand', 2), ('head’s', 1), ('free', 3), ('alarm', 2), ('immense', 1), ('length', 1), ('rise', 1), ('stalk', 1), ('green', 4), ('result', 1), ('follow', 2), ('shaking', 3), ('distant', 2), ('serpent', 9), ('succeeded', 3), ('curving', 1), ('graceful', 1), ('zigzag', 1), ('dive', 1), ('tops', 1), ('wandering', 2), ('hiss', 1), ('draw', 7), ('pigeon', 12), ('flown', 1), ('beating', 2), ('wings', 1), ('screamed', 4), ('indignantly', 4), ('repeated', 10), ('subdued', 1), ('sob', 1), ('roots', 2), ('banks', 1), ('hedges', 1), ('serpents', 3), ('pleasing', 1), ('puzzled', 9), ('hatching', 1), ('eggs', 5), ('sleep', 5), ('weeks', 1), ('sorry', 1), ('you’ve', 6), ('annoyed', 1), ('taken', 4), ('highest', 1), ('tree', 9), ('raising', 1), ('needs', 1), ('wriggling', 1), ('a—i’m', 1), ('a—', 1), ('invent', 1), ('i—i’m', 1), ('doubtfully', 2), ('changes', 2), ('deepest', 1), ('contempt', 1), ('girls', 3), ('denying', 1), ('telling', 2), ('tasted', 2), ('egg', 1), ('truthful', 1), ('they’re', 13), ('silent', 7), ('adding', 1), ('matters', 2), ('yours', 3), ('raw', 1), ('settled', 3), ('nest', 1), ('crouched', 1), ('entangled', 2), ('branches', 2), ('untwist', 1), ('pieces', 3), ('nibbling', 3), ('bringing', 3), ('beautiful', 13), ('garden—how', 1), ('whoever', 1), ('lives', 4), ('frighten', 1), ('wits', 1), ('righthand', 1), ('footman', 13), ('livery', 3), ('wood—', 1), ('considered', 3), ('otherwise', 4), ('judging', 1), ('fish', 8), ('—and', 3), ('rapped', 1), ('loudly', 3), ('knuckles', 1), ('footmen', 1), ('powdered', 1), ('crept', 1), ('producing', 1), ('letter', 3), ('invitation', 2), ('queen', 68), ('order', 3), ('curls', 1), ('laughed', 2), ('staring', 3), ('stupidly', 1), ('knocked', 1), ('reasons', 1), ('secondly', 2), ('inside', 2), ('extraordinary', 2), ('within—a', 1), ('constant', 2), ('howling', 3), ('sneezing', 6), ('dish', 4), ('kettle', 1), ('between', 6), ('instance', 3), ('knock', 1), ('uncivil', 1), ('—how', 1), ('remarked', 10), ('tomorrow—', 1), ('skimming', 1), ('footman’s', 1), ('grazed', 1), ('nose', 7), ('—or', 1), ('maybe', 1), ('louder', 1), ('told', 6), ('dreadful', 2), ('muttered', 2), ('argue', 1), ('drive', 2), ('crazy', 1), ('repeating', 3), ('remark', 10), ('variations', 1), ('days', 4), ('whistling', 1), ('desperately', 1), ('he’s', 2), ('idiotic', 1), ('kitchen', 4), ('smoke', 1), ('stool', 1), ('nursing', 3), ('baby', 13), ('cook', 13), ('leaning', 2), ('stirring', 2), ('cauldron', 2), ('soup', 18), ('sneezed', 1), ('occasionally', 1), ('alternately', 1), ('moment’s', 2), ('pause', 2), ('sneeze', 2), ('hearth', 1), ('grinning', 1), ('ear', 6), ('manners', 1), ('grins', 1), ('cheshire', 7), ('violence', 1), ('courage', 3), ('grinned', 3), ('pleased', 7), ('introduce', 2), ('fix', 1), ('throwing', 2), ('within', 1), ('baby—the', 1), ('irons', 1), ('saucepans', 1), ('plates', 2), ('dishes', 2), ('already', 2), ('blows', 1), ('jumping', 4), ('agony', 1), ('terror', 1), ('precious', 1), ('unusually', 1), ('saucepan', 1), ('flew', 1), ('carried', 4), ('minded', 1), ('growl', 3), ('faster', 3), ('advantage', 3), ('takes', 2), ('hours', 4), ('axis—', 1), ('axes', 1), ('chop', 1), ('glanced', 1), ('meant', 5), ('hint', 2), ('busily', 4), ('i—', 1), ('bother', 1), ('abide', 1), ('figures', 1), ('singing', 2), ('lullaby', 1), ('shake', 1), ('line', 2), ('roughly', 1), ('boy', 2), ('beat', 4), ('sneezes', 2), ('annoy', 1), ('teases', 1), ('wow', 6), ('sang', 2), ('verse', 4), ('song', 7), ('tossing', 3), ('howled', 1), ('thoroughly', 2), ('enjoy', 1), ('pleases', 1), ('flinging', 1), ('threw', 2), ('frying', 1), ('pan', 1), ('missed', 2), ('caught', 3), ('shaped', 3), ('creature', 4), ('star', 1), ('snorting', 1), ('steam', 1), ('engine', 1), ('doubling', 1), ('straightening', 1), ('proper', 3), ('twist', 2), ('tight', 1), ('prevent', 1), ('undoing', 1), ('kill', 1), ('murder', 1), ('grunted', 4), ('grunt', 1), ('expressing', 1), ('snout', 1), ('also', 2), ('extremely', 1), ('sobbing', 3), ('seriously', 1), ('sobbed', 1), ('neither', 2), ('less', 4), ('carry', 1), ('relieved', 1), ('trot', 1), ('dreadfully', 6), ('ugly', 2), ('handsome', 1), ('them—', 2), ('startled', 2), ('seeing', 1), ('bough', 1), ('yards', 1), ('natured', 1), ('teeth', 1), ('treated', 1), ('respect', 1), ('puss', 1), ('wider', 1), ('depends', 1), ('where—', 1), ('—so', 2), ('explanation', 2), ('denied', 2), ('waving', 5), ('hatter', 55), ('march', 33), ('hare', 31), ('visit', 1), ('we’re', 2), ('dog’s', 1), ('grant', 1), ('growls', 1), ('wags', 1), ('wag', 1), ('therefore', 1), ('growling', 1), ('invited', 2), ('happening', 1), ('became', 2), ('appear', 2), ('hatters', 1), ('raving', 2), ('mad—at', 1), ('branch', 1), ('fig', 1), ('appearing', 1), ('vanishing', 1), ('giddy', 2), ('ending', 2), ('farther', 1), ('chimneys', 1), ('thatched', 1), ('raised', 2), ('towards', 1), ('instead', 3), ('front', 2), ('dormouse', 39), ('fast', 4), ('asleep', 8), ('using', 2), ('cushion', 2), ('resting', 2), ('elbows', 1), ('chair', 1), ('wine', 2), ('civil', 3), ('laid', 2), ('wants', 2), ('cutting', 1), ('personal', 2), ('severity', 1), ('rude', 2), ('wide', 2), ('raven', 1), ('writing', 6), ('desk', 1), ('fun', 3), ('they’ve', 1), ('riddles', 2), ('least—at', 1), ('say—that’s', 1), ('‘i', 6), ('eat’', 1), ('see’', 1), ('get’', 1), ('like’', 1), ('breathe', 2), ('sleep’', 1), ('breathe’', 1), ('ravens', 1), ('desks', 1), ('break', 2), ('month', 2), ('uneasily', 2), ('fourth', 1), ('butter', 8), ('works', 1), ('meekly', 2), ('crumbs', 4), ('grumbled', 1), ('bread', 7), ('gloomily', 1), ('cup', 2), ('shoulder', 4), ('tells', 2), ('o’clock', 3), ('year', 2), ('readily', 1), ('stays', 1), ('hatter’s', 1), ('poured', 1), ('riddle', 1), ('slightest', 1), ('wearily', 1), ('waste', 1), ('answers', 1), ('cautiously', 3), ('music', 3), ('accounts', 1), ('terms', 1), ('he’d', 1), ('clock', 2), ('twinkling', 4), ('then—i', 1), ('mournfully', 1), ('quarrelled', 1), ('march—just', 1), ('know—', 4), ('spoon', 2), ('concert', 2), ('given', 1), ('hearts', 8), ('sing', 6), ('‘twinkle', 1), ('twinkle', 6), ('‘up', 1), ('fly', 3), ('tray', 1), ('twinkle—’', 1), ('pinch', 2), ('bawled', 1), ('‘he’s', 1), ('murdering', 1), ('exclaimed', 6), ('mournful', 1), ('sigh', 4), ('we’ve', 2), ('wash', 2), ('whiles', 1), ('interrupted', 9), ('yawning', 2), ('vote', 1), ('lady', 3), ('alarmed', 1), ('proposal', 1), ('wake', 2), ('pinched', 2), ('fellows', 1), ('sisters', 1), ('names', 2), ('elsie', 1), ('lacie', 1), ('tillie', 1), ('lived', 3), ('bottom', 4), ('well—', 1), ('interest', 1), ('eating', 1), ('drinking', 1), ('treacle', 7), ('ill', 2), ('living', 2), ('opinion', 1), ('who’s', 1), ('triumphantly', 2), ('helped', 1), ('sh', 2), ('sulkily', 2), ('interrupt', 1), ('consented', 1), ('sisters—they', 1), ('learning', 2), ('promise', 1), ('clean', 1), ('dormouse’s', 1), ('unwillingly', 1), ('upset', 3), ('jug', 1), ('offend', 1), ('well—eh', 1), ('choosing', 1), ('—well', 1), ('interrupting', 2), ('rubbing', 2), ('manner', 2), ('things—everything', 1), ('begins', 4), ('m—', 2), ('m', 2), ('closed', 2), ('doze', 1), ('woke', 1), ('—that', 1), ('traps', 1), ('moon', 1), ('memory', 1), ('muchness—you', 1), ('muchness', 2), ('—did', 1), ('drawing', 1), ('rudeness', 1), ('disgust', 1), ('teapot', 1), ('stupidest', 1), ('leading', 1), ('everything’s', 2), ('today', 1), ('unlocking', 1), ('—she', 1), ('flower', 2), ('rose', 5), ('entrance', 1), ('roses', 3), ('gardeners', 8), ('painting', 2), ('paint', 1), ('jogged', 1), ('blame', 1), ('deserved', 1), ('beheaded', 3), ('spoken', 1), ('him—it', 1), ('tulip', 1), ('onions', 1), ('flung', 1), ('brush', 1), ('unjust', 1), ('things—', 1), ('chanced', 1), ('watching', 3), ('checked', 3), ('afore', 1), ('to—', 1), ('themselves', 3), ('flat', 2), ('faces', 5), ('eager', 3), ('soldiers', 10), ('carrying', 2), ('clubs', 1), ('oblong', 1), ('corners', 1), ('courtiers', 2), ('ornamented', 2), ('diamonds', 1), ('royal', 2), ('merrily', 1), ('couples', 1), ('guests', 3), ('mostly', 2), ('kings', 1), ('queens', 1), ('recognised', 1), ('noticing', 1), ('knave', 9), ('king’s', 2), ('crimson', 2), ('velvet', 1), ('procession', 5), ('king', 61), ('doubtful', 2), ('lie', 2), ('rule', 5), ('processions', 1), ('opposite', 1), ('smiled', 2), ('idiot', 1), ('majesty', 12), ('pack', 5), ('cards', 3), ('needn’t', 3), ('pattern', 1), ('backs', 1), ('glaring', 1), ('beast', 1), ('off—', 1), ('consider', 4), ('bowing', 1), ('humble', 1), ('knee', 5), ('trying—', 1), ('meanwhile', 1), ('examining', 1), ('remaining', 1), ('execute', 1), ('unfortunate', 3), ('protection', 1), ('pot', 1), ('marched', 1), ('evidently', 1), ('roared', 1), ('it’s—it’s', 1), ('fine', 2), ('peeping', 1), ('—where’s', 1), ('hush', 3), ('whispered', 5), ('execution', 2), ('‘what', 2), ('boxed', 1), ('ears—', 1), ('scream', 2), ('laughter', 1), ('said—', 3), ('places', 1), ('thunder', 1), ('ridges', 1), ('furrows', 1), ('balls', 1), ('hedgehogs', 3), ('mallets', 1), ('flamingoes', 2), ('double', 1), ('arches', 4), ('chief', 1), ('managing', 1), ('flamingo', 5), ('body', 2), ('tucked', 3), ('comfortably', 1), ('straightened', 1), ('hedgehog', 7), ('expression', 1), ('bursting', 1), ('laughing', 2), ('provoking', 1), ('unrolled', 2), ('act', 1), ('crawling', 1), ('ridge', 1), ('furrow', 1), ('send', 1), ('doubled', 1), ('parts', 1), ('players', 4), ('played', 1), ('turns', 3), ('quarrelling', 2), ('fighting', 1), ('furious', 1), ('stamping', 2), ('shouting', 2), ('uneasy', 1), ('dispute', 2), ('beheading', 1), ('alive', 3), ('appearance', 1), ('nodded', 1), ('account', 1), ('someone', 1), ('fairly', 1), ('complaining', 1), ('quarrel', 1), ('oneself', 1), ('speak—and', 1), ('attends', 1), ('arch', 1), ('ground—and', 1), ('croqueted', 1), ('extremely—', 1), ('—likely', 1), ('win', 1), ('finishing', 1), ('cat’s', 2), ('friend', 3), ('mine—a', 1), ('kiss', 1), ('likes', 1), ('impertinent', 1), ('removed', 2), ('passing', 1), ('settling', 1), ('difficulties', 1), ('executioner', 5), ('screaming', 1), ('search', 1), ('engaged', 1), ('fight', 2), ('croqueting', 1), ('helpless', 1), ('collected', 2), ('appealed', 1), ('settle', 1), ('arguments', 1), ('executioner’s', 1), ('unless', 2), ('weren’t', 1), ('anxious', 3), ('prison', 1), ('arrow', 1), ('fading', 1), ('entirely', 2), ('disappeared', 2), ('wildly', 2), ('affectionately', 1), ('pleasant', 1), ('hopeful', 1), ('without—maybe', 1), ('tempered', 2), ('vinegar', 1), ('sour—and', 1), ('camomile', 1), ('bitter—and—and', 1), ('barley', 1), ('sugar', 2), ('sweet', 1), ('stingy', 1), ('forget', 2), ('moral', 7), ('hasn’t', 2), ('tut', 2), ('squeezed', 1), ('closer', 1), ('keeping', 2), ('uncomfortably', 1), ('bore', 1), ('game’s', 1), ('’tis', 4), ('is—‘oh', 1), ('minding', 1), ('is—‘take', 1), ('morals', 1), ('waist', 1), ('experiment', 2), ('bite', 2), ('mustard', 3), ('is—‘birds', 1), ('feather', 1), ('flock', 1), ('mineral', 1), ('agree', 2), ('is—‘the', 1), ('attended', 1), ('vegetable', 1), ('is—‘be', 1), ('be’—or', 1), ('simply—‘never', 1), ('imagine', 2), ('present', 2), ('cheap', 1), ('birthday', 1), ('dig', 1), ('worried', 1), ('duchess’s', 3), ('died', 1), ('favourite', 1), ('‘moral', 1), ('linked', 1), ('hers', 3), ('tremble', 1), ('thunderstorm', 1), ('fair', 1), ('warning', 1), ('choice', 2), ('absence', 1), ('shade', 1), ('delay', 1), ('cost', 1), ('whom', 1), ('sentenced', 1), ('custody', 2), ('turtle', 56), ('company', 1), ('pardoned', 1), ('executions', 2), ('gryphon', 55), ('sun', 2), ('picture', 1), ('lazy', 1), ('leaving', 1), ('rubbed', 1), ('watched', 2), ('chuckled', 1), ('executes', 1), ('ledge', 1), ('rock', 1), ('heart', 2), ('pitied', 1), ('sorrow', 2), ('hollow', 1), ('occasional', 1), ('exclamation', 1), ('hjckrrh', 1), ('heavy', 2), ('calmly', 1), ('school', 6), ('turtle—we', 1), ('tortoise—', 1), ('tortoise', 2), ('sink', 1), ('mayn’t', 1), ('it—', 1), ('educations—in', 1), ('day—', 1), ('proud', 2), ('extras', 1), ('learned', 1), ('relief', 2), ('ours', 1), ('‘french', 1), ('—extra', 1), ('afford', 1), ('regular', 2), ('inquired', 1), ('reeling', 1), ('writhing', 1), ('arithmetic—ambition', 1), ('distraction', 1), ('uglification', 1), ('derision', 1), ('‘uglification', 1), ('lifted', 1), ('uglifying', 1), ('beautify', 1), ('means—to—make—anything—prettier', 1), ('uglify', 1), ('simpleton', 1), ('encouraged', 1), ('mystery', 1), ('counting', 1), ('subjects', 1), ('flappers', 1), ('—mystery', 1), ('ancient', 1), ('modern', 1), ('seaography', 1), ('drawling—the', 1), ('drawling', 2), ('conger', 1), ('week', 3), ('fainting', 1), ('coils', 1), ('stiff', 1), ('classics', 1), ('grief', 1), ('hid', 1), ('lessen', 1), ('eleventh', 1), ('holiday', 1), ('twelfth', 1), ('games', 1), ('flapper', 1), ('sobs', 4), ('bone', 1), ('punching', 1), ('recovered', 2), ('cheeks', 1), ('sea—', 1), ('introduced', 1), ('lobster—', 1), ('tasted—', 1), ('delightful', 2), ('dance', 13), ('form', 1), ('shore—', 1), ('lines', 1), ('seals', 1), ('turtles', 2), ('salmon', 1), ('cleared', 1), ('jelly', 1), ('way—', 1), ('—you', 1), ('advance', 3), ('twice—', 1), ('partner', 1), ('partners—', 1), ('—change', 1), ('lobsters', 7), ('retire', 1), ('the—', 1), ('bound', 1), ('—as', 1), ('can—', 1), ('capering', 1), ('yelled', 1), ('land', 1), ('figure', 3), ('dropping', 1), ('pretty', 1), ('dancing', 2), ('treading', 2), ('toes', 3), ('forepaws', 1), ('mark', 3), ('whiting', 8), ('snail', 3), ('porpoise', 4), ('shingle—will', 1), ('join', 9), ('askance—', 1), ('thanked', 1), ('kindly', 2), ('scaly', 1), ('england', 1), ('france—', 1), ('beloved', 1), ('they—you’ve', 1), ('dinn—', 1), ('dinn', 1), ('tails', 3), ('mouths—and', 1), ('mouths', 3), ('is—', 1), ('thrown', 1), ('shiny', 1), ('blacking', 1), ('soles', 1), ('eels', 1), ('shrimp', 1), ('thoughts', 2), ('‘keep', 1), ('obliged', 3), ('anywhere', 1), ('journey', 1), ('‘with', 1), ('‘purpose’', 1), ('adventures—beginning', 1), ('impatient', 1), ('explanations', 1), ('gained', 1), ('listeners', 1), ('part', 2), ('‘’', 1), ('tis', 1), ('sluggard', 1), ('baked', 1), ('eyelids', 1), ('trims', 1), ('belt', 1), ('buttons', 1), ('editions', 2), ('follows', 3), ('sands', 1), ('gay', 1), ('lark', 1), ('contemptuous', 1), ('tones', 2), ('shark', 1), ('tide', 1), ('rises', 1), ('sharks', 1), ('around', 3), ('tremulous', 1), ('uncommon', 1), ('explained', 1), ('persisted', 2), ('disobey', 1), ('owl', 3), ('panther', 3), ('sharing', 1), ('pie—', 1), ('pie', 2), ('crust', 1), ('gravy', 1), ('meat', 1), ('share', 1), ('treat', 1), ('boon', 1), ('permitted', 1), ('received', 1), ('fork', 1), ('banquet—', 1), ('hm', 1), ('accounting', 1), ('tastes', 1), ('rich', 1), ('tureen', 1), ('dainties', 1), ('evening', 2), ('beau—ootiful', 4), ('soo—oop', 7), ('e—e—evening', 3), ('cares', 2), ('p', 1), ('ennyworth', 1), ('pennyworth', 1), ('beauti—ful', 1), ('trial’s', 3), ('panted', 1), ('faintly', 1), ('breeze', 1), ('seated', 1), ('throne', 1), ('arrived', 1), ('them—all', 1), ('standing', 1), ('chains', 1), ('soldier', 1), ('guard', 1), ('trumpet', 3), ('scroll', 2), ('parchment', 2), ('court', 18), ('refreshments', 1), ('pass', 1), ('justice', 1), ('wig', 2), ('wore', 1), ('frontispiece', 1), ('comfortable', 1), ('becoming', 1), ('jurors', 4), ('rightly', 1), ('men', 1), ('slates', 7), ('indignant', 1), ('spectacles', 3), ('spell', 1), ('neighbour', 1), ('muddle', 1), ('slates’ll', 1), ('pencil', 2), ('squeaked', 1), ('quickly', 2), ('juror', 1), ('slate', 3), ('herald', 1), ('accusation', 1), ('blew', 2), ('blasts', 2), ('summer', 2), ('verdict', 3), ('witness', 10), ('teacup', 3), ('sent', 2), ('fourteenth', 1), ('fifteenth', 1), ('sixteenth', 1), ('wrote', 3), ('dates', 1), ('reduced', 1), ('shillings', 1), ('pence', 1), ('hat', 1), ('stolen', 1), ('memorandum', 1), ('fidgeted', 1), ('spot', 1), ('encourage', 1), ('shifting', 1), ('remain', 1), ('squeeze', 1), ('boldly', 1), ('reasonable', 1), ('pace', 1), ('ridiculous', 1), ('fashion', 2), ('officers', 4), ('list', 3), ('singers', 2), ('tea—not', 1), ('so—and', 1), ('thin—and', 1), ('tea—', 1), ('t', 1), ('dunce', 1), ('twinkled', 1), ('that—only', 1), ('deny', 2), ('denies', 1), ('butter—', 1), ('miserable', 2), ('speaker', 1), ('suppressed', 4), ('canvas', 1), ('bag', 1), ('tied', 1), ('strings', 1), ('newspapers', 1), ('trials', 1), ('attempts', 1), ('applause', 1), ('understood', 1), ('lower', 1), ('officer', 1), ('examine', 2), ('folding', 1), ('collar', 1), ('shrieked', 1), ('behead', 1), ('suppress', 1), ('undertone', 2), ('ache', 1), ('fumbled', 1), ('—for', 1), ('flurry', 1), ('tipped', 1), ('skirt', 1), ('upsetting', 1), ('jurymen', 4), ('sprawling', 1), ('reminding', 1), ('globe', 1), ('goldfish', 2), ('accidentally', 1), ('dismay', 1), ('accident', 2), ('vague', 1), ('die', 1), ('cannot', 1), ('places—', 1), ('emphasis', 1), ('haste', 1), ('downwards', 1), ('unable', 1), ('signifies', 1), ('shock', 1), ('pencils', 1), ('diligently', 1), ('overcome', 1), ('gazing', 1), ('un', 2), ('respectful', 1), ('important—unimportant—unimportant—important—', 1), ('unimportant', 1), ('note', 2), ('cackled', 1), ('forty', 1), ('persons', 1), ('mile', 2), ('invented', 1), ('oldest', 1), ('prisoner', 1), ('to—to', 1), ('directed', 2), ('verses', 4), ('prisoner’s', 1), ('handwriting', 1), ('queerest', 1), ('imitated', 1), ('else’s', 1), ('prove', 1), ('signed', 2), ('sign', 1), ('mischief', 1), ('honest', 1), ('clapping', 1), ('proves', 2), ('guilt', 1), ('character', 1), ('push', 1), ('returned', 2), ('involved', 1), ('affair', 1), ('trusts', 1), ('fit', 3), ('obstacle', 1), ('ourselves', 1), ('secret', 1), ('jury—', 1), ('sixpence', 1), ('atom', 2), ('attempted', 1), ('saves', 1), ('spreading', 1), ('cardboard', 1), ('course—‘', 1), ('clearer', 1), ('again—‘', 1), ('fits', 1), ('furiously', 1), ('inkstand', 1), ('ink', 1), ('trickling', 1), ('pun', 1), ('twentieth', 1), ('first—verdict', 1), ('purple', 1), ('flying', 1), ('brushing', 1), ('fluttered', 1), ('kissed', 1), ('wonderful', 2), ('setting', 1), ('dreaming', 1), ('dreamed', 1), ('clasped', 1), ('hers—she', 1), ('toss', 1), ('eyes—and', 1), ('listened', 1), ('sister’s', 1), ('rustled', 1), ('by—the', 1), ('splashed', 1), ('neighbouring', 1), ('pool—she', 1), ('rattle', 1), ('teacups', 2), ('shared', 1), ('meal', 1), ('execution—once', 1), ('crashed', 1), ('it—once', 1), ('lizard’s', 1), ('choking', 1), ('believed', 1), ('reality—the', 1), ('rustling', 1), ('rippling', 1), ('reeds—the', 1), ('tinkling', 1), ('sheep', 1), ('bells', 1), ('cries', 1), ('shepherd', 1), ('boy—and', 1), ('noises', 1), ('clamour', 1), ('farm', 1), ('yard—while', 1), ('lowing', 1), ('cattle', 1), ('lastly', 1), ('pictured', 1), ('woman', 1), ('riper', 1), ('years', 1), ('loving', 1), ('childhood', 1), ('gather', 1), ('sorrows', 1), ('joys', 1), ('remembering', 1), ('happy', 1), ('project', 1), ('gutenberg', 1), ('ebook', 1), ('11', 1)])\n",
      "Document Count: 985\n",
      "Word Document Frequency: defaultdict(<class 'int'>, {'0': 1, 'fulcrum': 1, '3': 1, 'wonderland': 3, 'the': 699, 'alice’s': 12, 'contents': 1, 'adventures': 5, 'chapter': 23, 'lewis': 1, 'i': 269, 'in': 274, 'by': 52, 'millennium': 1, 'edition': 1, 'carroll': 1, 'down': 87, 'rabbit': 43, 'hole': 5, 'ii': 2, 'pool': 11, 'tears': 12, 'of': 338, 'iii': 2, 'a': 389, 'race': 6, 'tale': 5, 'and': 460, 'iv': 2, 'long': 33, 'caucus': 3, 'sends': 2, 'advice': 3, 'from': 36, 'caterpillar': 26, 'vi': 2, 'v': 2, 'bill': 13, 'little': 112, 'pepper': 9, 'pig': 12, 'vii': 2, 'mad': 12, 'tea': 17, 'viii': 2, 'party': 11, 'croquet': 10, 'ground': 8, 'ix': 2, 'queen’s': 8, 'mock': 53, 'turtle’s': 3, 'story': 9, 'x': 2, 'quadrille': 5, 'xi': 2, 'lobster': 6, 'tarts': 7, 'who': 59, 'stole': 3, 'xii': 2, 'evidence': 8, 'peeped': 3, 'for': 132, 'her': 173, 'when': 67, 'picking': 2, 'making': 8, 'white': 29, 'no': 76, 'whether': 11, 'very': 128, 'sister': 5, 'alice': 351, 'into': 60, 'nothing': 33, 'could': 70, 'it': 326, 'mind': 10, 'use': 18, 'considering': 3, 'book': 9, 'be': 130, 'pleasure': 2, 'on': 163, 'sleepy': 5, 'day': 27, 'made': 29, 'thought': 73, 'what': 114, 'trouble': 6, 'pink': 1, 'get': 44, 'without': 24, 'daisy': 1, 'pictures': 3, 'once': 31, 'twice': 4, 'beginning': 13, 'chain': 1, 'well': 53, 'is': 84, 'with': 148, 'up': 88, 'having': 10, 'as': 179, 'had': 142, 'close': 13, 'eyes': 28, 'so': 134, 'but': 150, 'or': 63, 'bank': 2, 'ran': 14, 'worth': 4, 'suddenly': 12, 'do': 70, 'was': 257, 'to': 458, 'stupid': 5, 'sitting': 10, 'she': 298, 'feel': 8, 'hot': 7, 'own': 10, 'reading': 3, 'tired': 7, 'conversations': 1, 'daisies': 1, 'getting': 21, 'would': 68, 'say': 45, 'oh': 37, 'there': 72, 'itself': 12, 'out': 105, 'think': 49, 'dear': 27, 'did': 59, 'hear': 14, 'way': 46, 'remarkable': 2, 'much': 48, 'that': 220, 'nor': 3, 'at': 179, 'just': 48, 'hedge': 2, 'looked': 43, 'wondered': 1, 'have': 67, 'time': 64, 'afterwards': 2, 'across': 4, 'occurred': 2, 'its': 45, 'take': 19, 'shall': 25, 'after': 43, 'this': 126, 'flashed': 1, 'feet': 17, 'field': 1, 'late': 6, 'pop': 1, 'all': 151, 'took': 24, 'then': 81, 'quite': 45, 'curiosity': 5, 'waistcoat': 1, 'started': 2, 'over': 39, 'watch': 7, 'burning': 1, 'seemed': 27, 'see': 62, 'never': 43, 'seen': 13, 'large': 32, 'actually': 1, 'fortunately': 1, 'under': 16, 'natural': 4, 'pocket': 6, 'before': 36, 'either': 10, 'ought': 13, 'hurried': 11, 'how': 58, 'world': 7, 'moment': 28, 'again': 80, 'another': 22, 'went': 81, 'straight': 2, 'tunnel': 1, 'dipped': 2, 'stopping': 1, 'not': 129, 'about': 90, 'falling': 2, 'deep': 7, 'like': 79, 'some': 46, 'found': 27, 'herself': 74, 'going': 25, 'fell': 6, 'next': 29, 'look': 28, 'plenty': 2, 'wonder': 18, 'happen': 8, 'slowly': 8, 'make': 23, 'coming': 8, 'here': 48, 'shelves': 2, 'tried': 17, 'filled': 3, 'hung': 1, 'they': 99, 'cupboards': 2, 'noticed': 8, 'dark': 3, 'upon': 25, 'sides': 4, 'anything': 19, 'saw': 14, 'maps': 1, 'first': 46, 'too': 24, 'were': 69, 'pegs': 1, 'somebody': 7, 'put': 30, 'great': 36, 'killing': 1, 'empty': 1, 'orange': 1, 'disappointment': 1, 'labelled': 1, 'fear': 4, 'managed': 4, 'jar': 1, 'one': 92, 'marmalade': 1, 'passed': 4, 'underneath': 2, 'past': 3, 'drop': 1, 'tumbling': 2, 'fall': 7, 'such': 37, 'stairs': 3, 'home': 5, 'they’ll': 4, 'brave': 1, 'me': 60, 'likely': 4, 'wouldn’t': 13, 'why': 38, 'even': 17, 'top': 8, 'if': 85, 'house': 17, 'which': 43, 'true': 4, 'off': 65, 'come': 42, 'end': 18, 'an': 53, 'aloud': 5, 'fallen': 4, 'miles': 3, 'many': 12, 'i’ve': 32, 'said': 365, 'earth': 4, 'centre': 1, 'must': 41, 'somewhere': 3, 'near': 15, 'schoolroom': 1, 'opportunity': 8, '—yes': 1, 'grand': 3, 'longitude': 1, 'showing': 2, 'knowledge': 3, 'though': 11, 'idea': 15, 'let': 15, 'several': 4, 'words': 21, 'you': 245, 'good': 26, 'learnt': 2, 'distance—but': 1, 'four': 5, 'things': 26, 'lessons': 10, 'right': 32, 'sort': 20, 'latitude': 1, 'that’s': 33, 'think—': 3, 'practice': 1, 'nice': 6, 'listen': 7, 'still': 12, 'thousand': 2, 'got': 44, 'presently': 2, 'began': 57, 'through': 12, 'their': 43, 'funny': 3, 'seem': 8, 'it’ll': 7, 'among': 11, 'people': 13, 'walk': 5, 'downward': 1, 'heads': 10, 'listening': 3, 'didn’t': 12, 'word': 10, 'ask': 11, 'glad': 11, 'name': 9, 'country': 1, 'sound': 4, 'rather': 25, 'antipathies': 1, 'them': 72, 'know': 72, '—but': 2, 'new': 5, 'ma’am': 1, 'australia': 1, 'please': 18, 'curtsey': 1, 'you’re': 22, 'air': 15, 'curtseying': 1, 'zealand': 1, 'spoke—fancy': 1, 'manage': 7, 'she’ll': 3, 'asking': 5, 'ignorant': 1, 'girl': 4, 'perhaps': 17, 'written': 5, 'else': 10, 'soon': 24, 'talking': 17, 'should': 27, 'cat': 30, 'night': 5, 'dinah': 10, 'dinah’ll': 2, 'miss': 3, 'milk': 2, 'remember': 13, 'hope': 3, 'saucer': 1, 'my': 49, 'wish': 21, 'mice': 3, 'afraid': 12, 'i’m': 51, 'catch': 4, 'bat': 3, 'are': 48, 'might': 24, 'mouse': 33, 'dreamy': 1, 'cats': 8, 'bats': 2, 'eat': 15, 'saying': 15, 'question': 15, 'couldn’t': 8, 'sometimes': 4, 'matter': 9, 'answer': 9, 'truth': 1, 'now': 56, 'begun': 7, 'dozing': 1, 'earnestly': 2, 'tell': 31, 'hand': 19, 'ever': 22, 'thump': 2, 'dream': 4, 'walking': 5, 'felt': 23, 'dry': 8, 'heap': 1, 'came': 38, 'sticks': 1, 'leaves': 6, 'sight': 10, 'passage': 3, 'jumped': 6, 'overhead': 1, 'hurrying': 1, 'hurt': 3, 'bit': 16, 'wind': 2, 'corner': 2, 'ears': 4, 'roof': 6, 'turned': 15, 'hall': 9, 'row': 2, 'away': 24, 'lost': 3, 'lit': 1, 'hanging': 3, 'behind': 13, 'whiskers': 3, 'it’s': 51, 'low': 15, 'lamps': 1, 'longer': 3, 'doors': 2, 'other': 37, 'middle': 7, 'every': 12, 'side': 14, 'locked': 1, 'round': 40, 'trying': 13, 'door': 27, 'been': 35, 'walked': 10, 'sadly': 5, 'wondering': 7, 'alas': 4, 'solid': 1, 'key': 9, 'glass': 10, 'except': 4, 'table': 17, 'belong': 1, 'three': 26, 'tiny': 4, 'legged': 2, 'golden': 7, 'rate': 9, 'open': 7, 'locks': 2, 'any': 36, 'small': 10, 'fitted': 1, 'delight': 3, 'second': 4, 'inches': 5, 'lock': 1, 'however': 20, 'fifteen': 1, 'high': 16, 'curtain': 1, 'larger': 7, 'knelt': 1, 'loveliest': 1, 'rat': 1, 'garden': 14, 'opened': 10, 'than': 23, 'along': 5, 'led': 4, 'longed': 2, 'bright': 8, 'those': 9, 'beds': 2, 'shoulders': 4, 'flowers': 2, 'head': 41, 'doorway': 1, 'poor': 27, 'go': 50, 'fountains': 2, 'cool': 2, 'wander': 1, 'shut': 5, 'telescope': 3, 'only': 49, 'really': 13, 'impossible': 3, 'begin': 13, 'indeed': 16, 'knew': 13, 'few': 9, 'lately': 1, 'happened': 7, 'bottle': 9, 'drink': 7, 'label': 2, 'certainly': 14, 'beautifully': 2, 'rules': 3, 'paper': 4, 'hoping': 3, 'letters': 1, 'shutting': 2, 'printed': 1, 'telescopes': 1, 'back': 36, 'waiting': 9, 'neck': 7, 'half': 21, 'find': 21, 'hurry': 11, 'wise': 2, 'forgotten': 6, 'hold': 10, 'bleeds': 1, 'burnt': 1, 'eaten': 1, 'simple': 3, 'marked': 5, 'poker': 1, 'your': 52, 'children': 10, 'usually': 2, 'sooner': 2, 'almost': 6, 'cut': 4, 'histories': 1, 'taught': 4, 'beasts': 2, '’': 25, 'friends': 2, 'finger': 5, 'read': 11, '‘': 5, 'because': 13, 'will': 24, 'unpleasant': 2, 'later': 3, 'red': 3, 'poison': 2, 'deeply': 4, 'knife': 3, 'disagree': 1, 'i’ll': 26, 'wild': 2, 'burn': 2, 'certain': 3, 'pine': 1, 'taste': 2, 'apple': 1, 'buttered': 1, 'custard': 1, 'mixed': 2, 'toast': 1, 'finished': 11, 'turkey': 1, 'ventured': 4, 'cherry': 1, 'tart': 1, 'roast': 1, 'flavour': 1, 'toffee': 1, 'finding': 3, 'fact': 8, 'curious': 17, 'size': 13, 'feeling': 7, 'ten': 5, 'lovely': 2, 'brightened': 2, 'face': 14, 'minutes': 10, 'waited': 10, 'shrink': 1, 'nervous': 5, 'candle': 2, 'further': 3, 'altogether': 5, 'thing': 43, 'fancy': 5, 'blown': 1, 'flame': 1, 'while': 24, 'more': 43, 'decided': 3, 'slippery': 1, 'climb': 1, 'legs': 3, 'reach': 4, 'best': 12, 'plainly': 1, 'possibly': 3, 'cried': 20, 'sat': 17, 'against': 9, 'remembered': 5, 'scolded': 1, 'child': 11, 'there’s': 23, 'advise': 1, 'cheated': 1, 'fond': 3, 'game': 12, 'crying': 2, 'two': 39, 'bring': 3, 'minute': 21, 'sharply': 4, 'playing': 2, 'box': 9, 'leave': 9, 'gave': 12, 'followed': 8, 'severely': 4, 'pretending': 1, 'seldom': 1, 'generally': 6, 'pretend': 1, 'currants': 1, 'eye': 7, 'enough': 17, 'left': 13, 'person': 4, 'respectable': 1, 'lying': 7, 'cake': 3, 'hardly': 12, 'care': 3, 'creep': 1, 'don’t': 56, 'grow': 10, 'ate': 1, 'smaller': 3, 'makes': 8, 'happens': 5, 'anxiously': 14, 'can': 33, 'eats': 1, 'common': 1, 'same': 20, 'surprised': 7, 'holding': 3, 'remained': 3, 'growing': 10, 'dull': 3, 'expecting': 3, 'sure': 22, 'life': 12, 'set': 14, 'work': 8, 'largest': 1, 'english': 6, 'speak': 14, 'opening': 3, 'curiouser': 1, 'forgot': 2, 'far': 12, 'bye': 2, 'stockings': 1, 'dears': 3, 'shoes': 7, 'able': 1, 'shan’t': 6, 'want': 9, 'myself': 6, 'deal': 12, 'kind': 7, 'won’t': 18, 'boots': 4, 'pair': 5, 'planning': 1, 'christmas': 1, 'give': 12, 'one’s': 1, 'carrier': 1, 'presents': 2, 'sending': 2, 'directions': 3, 'odd': 1, 'esq': 1, 'hearthrug': 1, 'love': 2, 'foot': 10, 'fender': 1, 'nonsense': 7, 'nine': 5, 'struck': 2, 'cry': 3, 'hopeless': 1, 'yourself': 10, 'ashamed': 2, 'reaching': 1, 'stop': 6, 'until': 5, 'shedding': 1, 'gallons': 1, 'distance': 7, 'hastily': 16, 'dried': 1, 'pattering': 3, 'heard': 29, 'dressed': 1, 'fan': 9, 'trotting': 2, 'gloves': 9, 'kid': 5, 'himself': 6, 'muttering': 3, 'splendidly': 1, 'returning': 1, 'he': 90, 'duchess': 37, 'timid': 3, 'desperate': 1, 'savage': 4, 'skurried': 1, 'dropped': 5, 'hard': 8, 'kept': 13, 'help': 9, 'voice': 45, 'ready': 8, 'darkness': 1, 'violently': 4, 'sir—': 1, 'fanning': 1, 'queer': 12, 'everything': 10, 'yesterday': 3, 'usual': 5, 'changed': 8, 'morning': 5, 'different': 9, 'am': 15, 'puzzle': 1, 'thinking': 11, 'ah': 5, 'age': 4, 'doesn’t': 16, 'sorts': 3, 'ringlets': 1, 'goes': 7, 'hair': 7, 'mabel': 4, 'can’t': 25, 'mine': 9, 'ada': 1, 'knows': 2, 'besides': 4, 'she’s': 7, 'and—oh': 2, 'puzzling': 4, 'try': 12, 'used': 12, 'seven': 5, 'six': 2, 'twelve': 4, 'thirteen': 1, 'times': 4, 'is—oh': 1, 'five': 7, 'twenty': 2, 'geography': 1, 'let’s': 5, 'multiplication': 1, 'signify': 1, 'london': 1, 'wrong': 5, 'rome': 1, 'paris': 1, 'rome—no': 1, 'capital': 3, 'tail': 8, 'waters': 1, 'his': 70, 'hands': 12, 'improve': 1, 'pour': 1, 'hoarse': 3, 'scale': 1, '—': 20, 'nile': 1, 'shining': 1, 'repeat': 6, '—’': 3, 'lap': 2, 'strange': 5, 'crocodile': 1, 'doth': 2, 'sounded': 5, 'crossed': 3, 'live': 7, 'play': 8, 'grin': 5, 'poky': 1, 'fishes': 1, 'cheerfully': 1, 'spread': 3, 'seems': 5, 'smiling': 2, 'jaws': 2, 'claws': 2, 'welcome': 1, 'neatly': 2, 'gently': 3, 'toys': 1, 'learn': 7, 'stay': 5, '‘come': 2, '‘who': 1, 'putting': 3, 'till': 20, 'burst': 1, 'being': 18, 'else’—but': 1, 'sudden': 5, 'alone': 4, 'rabbit’s': 3, 'done': 14, 'avoid': 1, 'measure': 1, 'nearly': 11, 'shrinking': 3, 'guess': 3, 'cause': 3, 'rapidly': 2, 'escape': 4, 'existence': 1, 'speed': 1, 'narrow': 2, 'change': 11, 'frightened': 7, 'worse': 3, 'slipped': 3, 'declare': 2, 'splash': 1, 'bad': 2, 'these': 13, 'water': 4, 'salt': 2, 'chin': 6, 'railway': 2, 'somehow': 1, 'sea': 13, 'case': 5, 'spades': 1, 'general': 3, 'station': 1, 'lodging': 1, 'seaside': 1, 'bathing': 1, 'wooden': 1, 'coast': 1, 'houses': 1, 'machines': 1, 'wherever': 2, 'sand': 1, 'number': 5, 'digging': 3, 'conclusion': 2, 'wept': 1, 'swam': 5, 'hadn’t': 8, 'drowned': 1, 'suppose': 14, 'punished': 1, 'something': 18, 'hippopotamus': 1, 'walrus': 1, 'splashing': 2, 'nearer': 5, 'o': 2, 'harm': 1, 'talk': 14, 'brother’s': 1, 'grammar': 1, 'mouse—o': 1, 'latin': 1, 'inquisitively': 1, 'mouse—to': 1, 'mouse—a': 1, 'swimming': 2, 'wink': 2, 'mouse—of': 1, 'speaking': 5, 'conqueror': 2, 'william': 5, 'daresay': 1, 'notion': 3, 'french': 3, 'understand': 6, 'clear': 2, 'history': 7, 'ago': 2, 'où': 1, 'sentence': 6, 'ma': 2, 'lesson': 3, 'est': 1, 'chatte': 1, 'fright': 2, 'leap': 1, 'quiver': 1, 'animal’s': 1, 'beg': 8, 'feelings': 2, 'pardon': 6, 'passionate': 1, 'shrill': 5, 'tone': 40, 'soothing': 1, 'angry': 5, 'you’d': 10, 'show': 3, 'yet': 18, 'our': 8, 'paws': 4, 'purring': 2, 'bristling': 1, 'washing': 3, 'mice—oh': 1, 'fire': 3, 'soft': 1, 'sits': 1, 'lazily': 1, 'catching': 2, 'licking': 1, 'offended': 10, 'face—and': 1, 'nurse—and': 1, 'quiet': 2, 'nicely': 2, 'we': 25, 'trembling': 6, 'subject': 6, 'always': 12, 'vulgar': 1, 'hated': 1, 'family': 1, 'nasty': 1, 'conversation': 9, 'eagerly': 8, 'dog': 2, 'fond—of—of': 1, 'you—are': 1, 'dogs': 2, 'curly': 1, 'terrier': 1, 'brown': 2, 'eyed': 1, 'belongs': 2, 'throw': 3, 'says': 4, 'them—and': 2, 'useful': 2, 'fetch': 7, 'pounds': 1, 'sit': 8, 'hundred': 1, 'dinner': 2, 'farmer': 1, 'things—i': 1, 'commotion': 1, 'kills': 1, 'rats': 1, 'sorrowful': 2, 'softly': 1, 'called': 15, 'birds': 9, 'lory': 6, 'pale': 4, 'creatures': 9, 'dodo': 10, 'passion': 3, 'crowded': 5, 'eaglet': 3, 'duck': 4, 'hate': 1, 'shore': 3, 'you’ll': 6, 'animals': 4, 'us': 13, 'whole': 13, 'draggled': 1, 'cross': 3, 'looking': 31, 'bank—the': 1, 'assembled': 2, 'feathers': 1, 'wet': 2, 'clinging': 1, 'dripping': 1, 'fur': 3, 'uncomfortable': 4, 'course': 23, 'consultation': 1, 'known': 1, 'familiarly': 1, 'last': 33, 'old': 16, 'better': 14, 'allow': 3, 'sulky': 3, 'older': 2, 'knowing': 2, 'refused': 1, 'positively': 1, 'argument': 4, 'authority': 2, 'ring': 2, 'cold': 1, 'fixed': 1, 'important': 7, 'ahem': 1, 'driest': 1, 'silence': 14, 'wanted': 4, 'conquest': 1, '‘william': 1, 'leaders': 1, 'whose': 2, 'accustomed': 1, 'favoured': 1, 'pope': 1, 'submitted': 1, 'usurpation': 1, 'northumbria—’': 1, 'morcar': 2, 'edwin': 1, 'ugh': 2, 'earls': 2, 'shiver': 1, 'mercia': 2, 'politely': 6, 'frowning': 4, '—i': 2, 'proceed': 2, 'patriotic': 1, 'archbishop': 2, 'canterbury': 1, 'declared': 1, '‘edwin': 1, 'advisable—’': 1, 'stigand': 1, 'northumbria': 1, 'him': 34, 'frog': 3, 'crossly': 1, 'worm': 1, 'means': 3, 'replied': 29, '‘it’': 1, 'hurriedly': 2, 'meet': 2, 'edgar': 1, 'crown': 3, 'advisable': 1, 'atheling': 1, 'notice': 5, 'offer': 2, '‘—found': 1, 'william’s': 1, 'moderate': 1, 'conduct': 1, 'spoke': 16, 'turning': 12, 'normans—’': 1, 'insolence': 1, 'continued': 9, 'meeting': 1, 'adoption': 1, 'move': 3, 'immediate': 1, 'melancholy': 6, 'adjourn': 1, 'remedies—': 1, 'solemnly': 4, 'rising': 1, 'energetic': 1, 'what’s': 5, 'tittered': 1, 'audibly': 1, 'hide': 1, 'smile': 2, 'believe': 8, 'meaning': 7, 'bent': 1, 'inclined': 1, 'paused': 1, 'explain': 9, 'winter': 1, 'circle': 1, 'exact': 1, 'placed': 1, 'shape': 1, 'running': 8, 'liked': 5, 'easy': 2, 'rest': 10, 'pressed': 3, 'position': 2, 'won': 2, 'panting': 2, 'has': 6, 'shakespeare': 1, 'forehead': 2, 'hour': 2, 'everybody': 8, 'prizes': 3, 'voices': 2, 'asked': 17, 'chorus': 6, 'confused': 4, 'calling': 1, 'pointing': 4, 'handed': 3, 'comfits': 2, 'despair': 1, 'pulled': 1, 'luckily': 2, 'exactly': 8, 'piece': 6, 'prize': 1, 'gravely': 3, 'thimble': 3, 'acceptance': 1, 'presented': 1, 'cheered': 3, 'speech': 3, 'short': 4, 'elegant': 1, 'absurd': 2, 'grave': 3, 'simply': 2, 'dare': 5, 'solemn': 3, 'bowed': 4, 'laugh': 1, 'noise': 2, 'complained': 1, 'patted': 1, 'caused': 2, 'choked': 3, 'ones': 1, 'confusion': 5, 'theirs': 1, 'begged': 1, 'added': 22, 'whisper': 3, 'promised': 1, 'hate—c': 1, 'd': 1, 'sad': 3, 'sighing': 3, '‘i’ll': 1, 'cunning': 1, 'judge': 2, 'mouse’s': 1, 'law': 2, 'trial': 6, 'fury': 2, 'cur': 1, 'call': 8, '‘let': 1, '‘such': 1, 'jury': 19, 'both': 14, 'wasting': 2, 'denial': 1, 'condemn': 1, 'sir': 6, 'prosecute': 1, 'death': 1, 'attending': 3, '—come': 1, 'breath': 4, 'met': 3, 'angrily': 9, 'bend': 2, 'fifth': 1, 'humbly': 2, 'knot': 2, 'undo': 1, 'mean': 10, 'pleaded': 3, 'insult': 1, 'easily': 3, 'growled': 1, 'reply': 5, 'shook': 9, 'yes': 12, 'finish': 5, 'joined': 3, 'impatiently': 5, 'quicker': 1, 'others': 7, 'crab': 3, 'daughter': 1, 'sighed': 5, 'pity': 3, 'young': 5, 'lose': 1, 'snappishly': 1, 'temper': 5, 'tongue': 4, 'addressing': 1, 'oyster': 1, 'nobody': 8, 'particular': 3, 'patience': 1, 'she’d': 2, 'venture': 3, 'pet': 1, 'dinah’s': 1, 'bird': 2, 'sensation': 2, 'remarking': 3, 'canary': 1, 'throat': 2, 'suit': 3, 'magpie': 1, 'carefully': 3, 'wrapping': 1, 'bed': 1, 'pretexts': 1, 'various': 1, 'moved': 4, 'mentioned': 3, 'lonely': 2, 'spirited': 1, 'footsteps': 2, 'executed': 6, 'ferrets': 1, 'guessed': 3, 'nowhere': 2, 'vanished': 4, 'seen—everything': 1, 'hunting': 3, 'swim': 4, 'naturedly': 1, 'since': 4, 'completely': 1, 'where': 12, 'ann': 4, 'doing': 5, 'mary': 4, 'run': 4, 'mistake': 3, 'pointed': 1, 'direction': 4, 'quick': 2, 'housemaid': 1, 'he’ll': 1, 'finds': 1, 'brass': 1, 'gloves—that': 1, 'plate': 3, 'w': 1, 'neat': 1, 'i’d': 10, 'engraved': 1, 'knocking': 3, 'real': 3, 'upstairs': 1, 'lest': 1, 'messages': 2, 'fancying': 1, '‘miss': 1, '‘coming': 1, 'directly': 2, 'nurse': 2, 'window': 7, 'hoped': 1, 'tidy': 1, 'pairs': 1, 'stood': 7, 'ordering': 2, 'room': 11, 'they’d': 4, 'lips': 1, 'uncorked': 1, 'nevertheless': 1, 'interesting': 5, 'whenever': 1, 'does': 9, 'pressing': 1, 'broken': 6, 'save': 1, 'expected': 1, 'stoop': 2, 'ceiling': 1, 'drunk': 2, 'more—as': 1, 'door—i': 1, 'enough—i': 1, 'effect': 3, 'elbow': 3, 'curled': 2, 'arm': 13, 'kneel': 1, 'floor': 3, 'chimney': 5, 'resource': 1, 'whatever': 3, 'unhappy': 2, 'grew': 1, 'full': 5, 'chance': 4, 'become': 5, 'magic': 1, 'wasn’t': 11, 'pleasanter': 1, 'rabbits': 1, 'ordered': 4, 'yet—and': 1, 'yet—it’s': 1, 'hole—and': 1, 'gone': 13, 'tales': 1, 'fancied': 2, 'fairy': 1, 'grown': 7, 'least': 8, 'write': 6, 'one—but': 1, 'way—never': 1, 'woman—but': 1, 'comfort': 1, 'that’ll': 1, 'then—always': 1, 'shouldn’t': 5, 'foolish': 1, 'answered': 4, 'taking': 5, 'stopped': 3, 'outside': 4, 'books': 2, 'reason': 8, 'forgetting': 3, 'trembled': 2, 'attempt': 1, 'inwards': 1, 'proved': 2, 'failure': 1, 'snatch': 2, 'shriek': 5, 'cucumber': 2, 'possible': 1, 'crash': 3, 'frame': 1, 'concluded': 2, 'voice—the': 1, 'rabbit’s—': 1, 'pat': 3, 'yer': 3, 'honour': 3, 'apples': 1, 'sounds': 4, 'goose': 2, 'arrum': 1, 'pronounced': 1, 'coward': 1, 'fills': 1, 'business': 7, 'whispers': 1, 'shrieks': 1, 'frames': 1, 'other—bill': 1, 'hearing': 4, 'rumbling': 1, '—why': 1, 'ladder': 1, 'cartwheels': 1, 'together': 9, 'bill’s': 3, 'pulling': 1, 'where’s': 1, 'yet—oh': 1, '—here': 1, 'corner—no': 1, 'lad': 1, 'tie': 1, 'first—they': 1, '’em': 2, 'particular—here': 1, 'rope—will': 1, 'slate—oh': 1, 'loose': 1, 'bear': 2, '—mind': 1, '—it': 2, '—nay': 1, 'fancy—who’s': 1, 'below': 3, 'loud': 6, '—bill’s': 1, 'down—here': 1, 'master': 4, 'shy': 1, 'sharp': 6, 'above': 3, 'scratching': 1, 'scrambling': 1, 'animal': 1, 'drew': 5, 'place': 6, 'fireplace': 1, 'kick': 2, 'voices—': 1, 'fellow': 4, 'along—': 1, 'him—how': 1, 'head—brandy': 1, 'choke': 1, 'now—don’t': 1, 'know—no': 1, 'jack': 1, 'thank': 4, 'now—but': 1, 'squeaking': 2, 'feeble': 2, 'ye': 1, 'rocket': 1, 'you—all': 1, 'flustered': 1, 'comes': 2, 'sky': 5, 'instantly': 5, 'dead': 4, 'rattling': 2, 'sense': 3, 'pebbles': 2, 'moving': 3, 'barrowful': 1, 'doubt': 4, 'shower': 2, 'hit': 2, 'produced': 1, 'shouted': 9, 'surprise': 5, 'cakes': 2, 'lay': 4, 'delighted': 2, 'swallowed': 1, 'crowd': 4, 'giving': 2, 'lizard': 5, 'guinea': 6, 'pigs': 6, 'held': 4, 'thick': 1, 'rush': 2, 'safe': 2, 'wood': 7, 'appeared': 8, 'wandered': 2, 'trees': 7, 'plan': 3, 'bark': 2, 'smallest': 2, 'difficulty': 4, 'peering': 1, 'excellent': 2, 'arranged': 1, 'feebly': 1, 'touch': 1, 'paw': 2, 'enormous': 1, 'stretching': 2, 'puppy': 3, 'whistle': 1, 'spite': 1, 'coaxing': 1, 'hungry': 3, 'terribly': 1, 'forwards': 1, 'keep': 10, 'horse': 1, 'charges': 1, 'whereupon': 1, 'worry': 1, 'yelp': 1, 'series': 1, 'each': 8, 'barking': 1, 'heels': 1, 'mouth': 10, 'thistle': 1, 'rushed': 1, 'dodged': 1, 'tumbled': 1, 'stick': 1, 'hoarsely': 1, 'picked': 3, 'trampled': 1, 'cart': 1, 'faint': 1, 'puppy’s': 1, 'fanned': 1, 'tricks': 1, 'buttercup': 1, 'teaching': 1, 'leant': 1, 'if—if': 1, 'see—how': 1, 'grass': 4, 'circumstances': 1, 'blades': 1, 'height': 4, 'mushroom': 8, 'stretched': 2, 'edge': 3, 'blue': 1, 'immediately': 3, 'quietly': 5, 'smoking': 2, 'tiptoe': 2, 'arms': 6, 'folded': 3, 'hookah': 5, 'addressed': 2, 'languid': 1, 'encouraging': 2, 'shyly': 1, 'i—i': 1, 'sternly': 1, 'present—at': 1, 'clearly': 1, 'sizes': 1, 'isn’t': 6, 'confusing': 3, 'know—and': 1, 'butterfly': 1, 'chrysalis—you': 1, 'haven’t': 8, 'turn': 11, 'contemptuously': 2, 'may': 13, 'brought': 3, 'caterpillar’s': 1, 'remarks': 3, 'irritated': 1, 'state': 1, 'promising': 1, 'swallowing': 1, 'anger': 2, 'wait': 1, 'puffed': 1, 'unfolded': 2, 'used—and': 1, 'busy': 2, 'bee': 1, 'father': 3, 'somersault': 2, 'pray': 2, 'eel': 2, 'lasted': 2, 'door—': 1, 'feared': 1, 'son': 1, 'beak—': 1, 'limbs': 1, 'box—': 1, 'steady': 1, 'wife': 1, 'nose—': 1, 'jaw': 1, 'couple': 1, 'weak': 2, 'youth': 1, 'most': 8, 'questions': 4, 'perfectly': 4, 'stand': 6, 'injure': 1, 'sage': 1, 'sell': 2, 'bones': 1, 'shilling': 1, 'ointment—one': 1, 'incessantly': 1, 'clever': 2, 'balanced': 1, 'none': 4, 'strength': 1, 'airs': 1, 'muscular': 1, 'tougher': 1, 'man': 5, 'supple': 1, 'grey': 1, 'head—': 1, 'brain': 1, 'awfully': 1, 'uncommonly': 1, 'suet': 1, 'fat': 1, 'argued': 1, 'stuff': 4, 'decidedly': 4, 'altered': 1, 'timidly': 9, 'often': 5, 'changing': 2, 'contradicted': 1, 'losing': 1, 'content': 1, 'upright': 1, 'rearing': 1, 'wretched': 2, 'piteous': 1, 'patiently': 2, 'chose': 2, 'yawned': 2, 'shorter': 2, 'merely': 2, 'taller': 2, 'crawled': 1, 'difficult': 2, 'thoughtfully': 4, 'broke': 2, 'blow': 2, 'violent': 2, 'nibbled': 2, 'swallow': 1, 'closely': 1, 'lefthand': 2, 'morsel': 1, 'alarm': 2, 'immense': 1, 'length': 1, 'green': 4, 'rise': 1, 'free': 3, 'head’s': 1, 'stalk': 1, 'shaking': 3, 'distant': 2, 'follow': 2, 'result': 1, 'serpent': 7, 'graceful': 1, 'beating': 2, 'dive': 1, 'curving': 1, 'hiss': 1, 'pigeon': 10, 'wings': 1, 'tops': 1, 'draw': 4, 'flown': 1, 'zigzag': 1, 'succeeded': 3, 'wandering': 2, 'screamed': 4, 'indignantly': 4, 'repeated': 10, 'subdued': 1, 'sob': 1, 'hedges': 1, 'banks': 1, 'serpents': 3, 'roots': 2, 'puzzled': 9, 'pleasing': 1, 'hatching': 1, 'eggs': 2, 'annoyed': 1, 'sorry': 1, 'you’ve': 6, 'sleep': 4, 'weeks': 1, 'needs': 1, 'tree': 9, 'wriggling': 1, 'taken': 4, 'highest': 1, 'raising': 1, 'a—': 1, 'a—i’m': 1, 'doubtfully': 2, 'i—i’m': 1, 'changes': 2, 'invent': 1, 'deepest': 1, 'contempt': 1, 'girls': 3, 'denying': 1, 'settled': 3, 'telling': 2, 'yours': 3, 'tasted': 1, 'silent': 7, 'nest': 1, 'adding': 1, 'matters': 2, 'truthful': 1, 'raw': 1, 'egg': 1, 'they’re': 13, 'entangled': 2, 'crouched': 1, 'branches': 2, 'untwist': 1, 'pieces': 3, 'bringing': 3, 'nibbling': 3, 'beautiful': 11, 'garden—how': 1, 'lives': 3, 'whoever': 1, 'wits': 1, 'righthand': 1, 'frighten': 1, 'rapped': 1, 'footman': 12, 'otherwise': 2, 'judging': 1, 'loudly': 3, 'considered': 3, 'wood—': 1, 'livery': 2, 'knuckles': 1, '—and': 3, 'fish': 8, 'powdered': 1, 'footmen': 1, 'crept': 1, 'letter': 3, 'producing': 1, 'invitation': 2, 'order': 3, 'queen': 62, 'curls': 1, 'stupidly': 1, 'staring': 3, 'laughed': 2, 'knocked': 1, 'reasons': 1, 'constant': 2, 'extraordinary': 2, 'howling': 3, 'dish': 4, 'secondly': 2, 'sneezing': 6, 'kettle': 1, 'within—a': 1, 'inside': 2, 'between': 6, 'instance': 3, 'knock': 1, 'uncivil': 1, '—how': 1, 'skimming': 1, 'nose': 6, 'tomorrow—': 1, 'remarked': 10, 'grazed': 1, 'footman’s': 1, 'maybe': 1, '—or': 1, 'louder': 1, 'told': 6, 'dreadful': 2, 'muttered': 2, 'argue': 1, 'crazy': 1, 'variations': 1, 'repeating': 3, 'remark': 10, 'drive': 2, 'days': 3, 'whistling': 1, 'idiotic': 1, 'he’s': 2, 'desperately': 1, 'soup': 15, 'cook': 11, 'kitchen': 4, 'stirring': 2, 'baby': 13, 'smoke': 1, 'leaning': 2, 'nursing': 3, 'cauldron': 2, 'stool': 1, 'alternately': 1, 'occasionally': 1, 'sneezed': 1, 'pause': 2, 'moment’s': 2, 'hearth': 1, 'sneeze': 2, 'grinning': 1, 'ear': 5, 'grins': 1, 'cheshire': 7, 'manners': 1, 'pleased': 7, 'violence': 1, 'grinned': 3, 'courage': 3, 'introduce': 2, 'plates': 2, 'fix': 1, 'within': 1, 'irons': 1, 'baby—the': 1, 'saucepans': 1, 'dishes': 2, 'throwing': 2, 'already': 2, 'blows': 1, 'agony': 1, 'jumping': 4, 'terror': 1, 'carried': 4, 'unusually': 1, 'saucepan': 1, 'precious': 1, 'flew': 1, 'faster': 3, 'advantage': 3, 'growl': 3, 'minded': 1, 'chop': 1, 'hours': 3, 'axes': 1, 'takes': 2, 'axis—': 1, 'glanced': 1, 'hint': 2, 'meant': 5, 'busily': 4, 'roughly': 1, 'teases': 1, 'abide': 1, 'shake': 1, 'annoy': 1, 'line': 2, 'bother': 1, 'beat': 4, 'figures': 1, 'sneezes': 2, 'lullaby': 1, 'singing': 2, 'i—': 1, 'boy': 2, 'wow': 6, 'verse': 4, 'sang': 2, 'thoroughly': 2, 'tossing': 3, 'enjoy': 1, 'howled': 1, 'song': 6, 'pleases': 1, 'flinging': 1, 'pan': 1, 'missed': 2, 'frying': 1, 'threw': 2, 'caught': 3, 'star': 1, 'creature': 4, 'shaped': 3, 'steam': 1, 'straightening': 1, 'doubling': 1, 'engine': 1, 'snorting': 1, 'undoing': 1, 'tight': 1, 'twist': 2, 'proper': 3, 'prevent': 1, 'murder': 1, 'kill': 1, 'grunted': 4, 'expressing': 1, 'grunt': 1, 'also': 2, 'snout': 1, 'extremely': 1, 'sobbing': 3, 'seriously': 1, 'sobbed': 1, 'neither': 2, 'carry': 1, 'less': 4, 'trot': 1, 'relieved': 1, 'startled': 2, 'seeing': 1, 'ugly': 2, 'yards': 1, 'them—': 2, 'handsome': 1, 'bough': 1, 'dreadfully': 6, 'natured': 1, 'teeth': 1, 'treated': 1, 'respect': 1, 'puss': 1, 'wider': 1, 'depends': 1, 'where—': 1, 'explanation': 2, '—so': 2, 'denied': 2, 'hatter': 52, 'waving': 4, 'hare': 29, 'march': 30, 'visit': 1, 'we’re': 2, 'dog’s': 1, 'grant': 1, 'wags': 1, 'growls': 1, 'wag': 1, 'therefore': 1, 'growling': 1, 'invited': 2, 'happening': 1, 'became': 2, 'appear': 2, 'hatters': 1, 'branch': 1, 'mad—at': 1, 'raving': 2, 'fig': 1, 'vanishing': 1, 'ending': 2, 'appearing': 1, 'giddy': 2, 'farther': 1, 'thatched': 1, 'chimneys': 1, 'towards': 1, 'raised': 2, 'instead': 3, 'front': 2, 'dormouse': 36, 'asleep': 8, 'fast': 4, 'resting': 2, 'using': 2, 'elbows': 1, 'cushion': 2, 'chair': 1, 'wine': 2, 'civil': 3, 'cutting': 1, 'wants': 2, 'laid': 2, 'fun': 3, 'raven': 1, 'wide': 2, 'rude': 2, 'desk': 1, 'personal': 2, 'severity': 1, 'writing': 6, 'they’ve': 1, 'riddles': 2, 'least—at': 1, 'say—that’s': 1, 'see’': 1, '‘i': 1, 'desks': 1, 'sleep’': 1, 'ravens': 1, 'like’': 1, 'breathe': 2, 'eat’': 1, 'get’': 1, 'breathe’': 1, 'break': 2, 'uneasily': 2, 'month': 2, 'fourth': 1, 'works': 1, 'butter': 8, 'meekly': 2, 'cup': 2, 'gloomily': 1, 'crumbs': 2, 'grumbled': 1, 'bread': 7, 'shoulder': 4, 'o’clock': 3, 'tells': 2, 'stays': 1, 'readily': 1, 'year': 1, 'hatter’s': 1, 'poured': 1, 'riddle': 1, 'slightest': 1, 'wearily': 1, 'answers': 1, 'waste': 1, 'music': 3, 'cautiously': 3, 'accounts': 1, 'clock': 2, 'terms': 1, 'he’d': 1, 'twinkling': 3, 'then—i': 1, 'mournfully': 1, 'quarrelled': 1, 'given': 1, 'concert': 2, 'hearts': 6, 'march—just': 1, 'twinkle': 2, 'know—': 4, '‘twinkle': 1, 'sing': 4, 'spoon': 2, 'tray': 1, '‘up': 1, 'fly': 3, 'twinkle—’': 1, 'pinch': 2, '‘he’s': 1, 'bawled': 1, 'murdering': 1, 'exclaimed': 6, 'mournful': 1, 'we’ve': 2, 'wash': 2, 'sigh': 4, 'whiles': 1, 'yawning': 2, 'interrupted': 9, 'proposal': 1, 'lady': 3, 'alarmed': 1, 'vote': 1, 'wake': 2, 'pinched': 2, 'fellows': 1, 'well—': 1, 'tillie': 1, 'eating': 1, 'elsie': 1, 'sisters': 1, 'drinking': 1, 'lacie': 1, 'bottom': 4, 'interest': 1, 'lived': 3, 'names': 2, 'treacle': 5, 'living': 2, 'ill': 1, 'opinion': 1, 'who’s': 1, 'triumphantly': 2, 'helped': 1, 'sh': 2, 'sulkily': 2, 'interrupt': 1, 'consented': 1, 'learning': 2, 'sisters—they': 1, 'promise': 1, 'dormouse’s': 1, 'clean': 1, 'unwillingly': 1, 'jug': 1, 'upset': 3, 'offend': 1, 'choosing': 1, 'well—eh': 1, '—well': 1, 'interrupting': 2, 'm—': 2, 'm': 2, 'rubbing': 2, 'things—everything': 1, 'manner': 2, 'begins': 4, 'doze': 1, 'drawing': 1, 'woke': 1, '—that': 1, 'traps': 1, 'moon': 1, 'muchness—you': 1, 'closed': 2, '—did': 1, 'muchness': 1, 'memory': 1, 'teapot': 1, 'rudeness': 1, 'disgust': 1, 'leading': 1, 'stupidest': 1, 'everything’s': 2, 'today': 1, 'unlocking': 1, '—she': 1, 'flower': 2, 'entrance': 1, 'painting': 2, 'roses': 3, 'rose': 5, 'gardeners': 7, 'paint': 1, 'jogged': 1, 'blame': 1, 'beheaded': 3, 'deserved': 1, 'spoken': 1, 'watching': 3, 'him—it': 1, 'onions': 1, 'flung': 1, 'tulip': 1, 'brush': 1, 'unjust': 1, 'checked': 3, 'things—': 1, 'chanced': 1, 'to—': 1, 'afore': 1, 'themselves': 3, 'flat': 2, 'faces': 5, 'eager': 3, 'soldiers': 9, 'carrying': 2, 'ornamented': 2, 'corners': 1, 'clubs': 1, 'courtiers': 2, 'oblong': 1, 'diamonds': 1, 'merrily': 1, 'couples': 1, 'royal': 2, 'mostly': 2, 'queens': 1, 'noticing': 1, 'kings': 1, 'recognised': 1, 'guests': 3, 'king’s': 2, 'procession': 5, 'king': 57, 'crimson': 2, 'velvet': 1, 'knave': 8, 'rule': 4, 'lie': 1, 'doubtful': 2, 'processions': 1, 'opposite': 1, 'smiled': 2, 'cards': 3, 'idiot': 1, 'majesty': 12, 'pack': 4, 'pattern': 1, 'backs': 1, 'needn’t': 3, 'beast': 1, 'glaring': 1, 'off—': 1, 'consider': 4, 'bowing': 1, 'examining': 1, 'trying—': 1, 'meanwhile': 1, 'humble': 1, 'knee': 5, 'remaining': 1, 'execute': 1, 'unfortunate': 3, 'protection': 1, 'pot': 1, 'marched': 1, 'evidently': 1, 'roared': 1, 'fine': 2, 'it’s—it’s': 1, 'peeping': 1, '—where’s': 1, 'hush': 3, 'execution': 2, 'whispered': 5, '‘what': 2, 'boxed': 1, 'ears—': 1, 'laughter': 1, 'scream': 2, 'places': 1, 'said—': 3, 'thunder': 1, 'balls': 1, 'furrows': 1, 'double': 1, 'hedgehogs': 3, 'flamingoes': 2, 'mallets': 1, 'arches': 3, 'ridges': 1, 'comfortably': 1, 'hedgehog': 4, 'parts': 1, 'laughing': 2, 'body': 2, 'doubled': 1, 'send': 1, 'ridge': 1, 'furrow': 1, 'crawling': 1, 'act': 1, 'managing': 1, 'provoking': 1, 'straightened': 1, 'expression': 1, 'bursting': 1, 'chief': 1, 'unrolled': 2, 'flamingo': 5, 'tucked': 3, 'played': 1, 'stamping': 2, 'players': 3, 'fighting': 1, 'turns': 3, 'furious': 1, 'quarrelling': 2, 'shouting': 2, 'dispute': 2, 'uneasy': 1, 'beheading': 1, 'appearance': 1, 'alive': 3, 'nodded': 1, 'account': 1, 'someone': 1, 'ground—and': 1, 'complaining': 1, 'fairly': 1, 'attends': 1, 'speak—and': 1, 'quarrel': 1, 'oneself': 1, 'arch': 1, 'croqueted': 1, 'extremely—': 1, '—likely': 1, 'finishing': 1, 'win': 1, 'cat’s': 2, 'likes': 1, 'kiss': 1, 'mine—a': 1, 'friend': 3, 'impertinent': 1, 'removed': 2, 'passing': 1, 'difficulties': 1, 'settling': 1, 'executioner': 4, 'screaming': 1, 'search': 1, 'helpless': 1, 'fight': 2, 'engaged': 1, 'croqueting': 1, 'collected': 2, 'settle': 1, 'appealed': 1, 'arguments': 1, 'unless': 2, 'executioner’s': 1, 'weren’t': 1, 'anxious': 3, 'prison': 1, 'arrow': 1, 'disappeared': 2, 'wildly': 2, 'entirely': 2, 'fading': 1, 'affectionately': 1, 'pleasant': 1, 'hopeful': 1, 'bitter—and—and': 1, 'tempered': 1, 'sugar': 2, 'barley': 1, 'vinegar': 1, 'without—maybe': 1, 'sweet': 1, 'sour—and': 1, 'camomile': 1, 'stingy': 1, 'forget': 2, 'moral': 7, 'hasn’t': 2, 'tut': 1, 'squeezed': 1, 'closer': 1, 'keeping': 2, 'uncomfortably': 1, 'bore': 1, 'game’s': 1, '’tis': 2, 'minding': 1, 'is—‘oh': 1, 'is—‘take': 1, 'morals': 1, 'waist': 1, 'bite': 2, 'experiment': 1, 'mustard': 3, 'feather': 1, 'is—‘birds': 1, 'flock': 1, 'mineral': 1, 'agree': 2, 'is—‘the': 1, 'vegetable': 1, 'attended': 1, 'be’—or': 1, 'is—‘be': 1, 'simply—‘never': 1, 'imagine': 2, 'present': 1, 'cheap': 1, 'birthday': 1, 'dig': 1, 'worried': 1, 'hers': 3, 'died': 1, 'duchess’s': 3, 'linked': 1, 'favourite': 1, '‘moral': 1, 'tremble': 1, 'thunderstorm': 1, 'fair': 1, 'warning': 1, 'choice': 1, 'absence': 1, 'shade': 1, 'cost': 1, 'delay': 1, 'sentenced': 1, 'whom': 1, 'custody': 1, 'turtle': 50, 'company': 1, 'executions': 2, 'pardoned': 1, 'gryphon': 53, 'sun': 2, 'picture': 1, 'lazy': 1, 'leaving': 1, 'chuckled': 1, 'rubbed': 1, 'watched': 2, 'executes': 1, 'ledge': 1, 'heart': 2, 'rock': 1, 'pitied': 1, 'sorrow': 1, 'hollow': 1, 'exclamation': 1, 'hjckrrh': 1, 'heavy': 2, 'occasional': 1, 'school': 5, 'calmly': 1, 'turtle—we': 1, 'tortoise—': 1, 'tortoise': 2, 'sink': 1, 'it—': 1, 'mayn’t': 1, 'educations—in': 1, 'day—': 1, 'extras': 1, 'proud': 2, 'learned': 1, 'relief': 2, 'ours': 1, '—extra': 1, 'afford': 1, '‘french': 1, 'regular': 2, 'inquired': 1, 'derision': 1, 'distraction': 1, 'uglification': 1, 'reeling': 1, 'writhing': 1, '‘uglification': 1, 'arithmetic—ambition': 1, 'lifted': 1, 'uglifying': 1, 'modern': 1, 'beautify': 1, 'encouraged': 1, 'uglify': 1, 'drawling': 1, 'week': 3, 'simpleton': 1, 'coils': 1, 'drawling—the': 1, 'counting': 1, 'means—to—make—anything—prettier': 1, 'flappers': 1, 'mystery': 1, 'seaography': 1, 'subjects': 1, '—mystery': 1, 'conger': 1, 'ancient': 1, 'fainting': 1, 'stiff': 1, 'classics': 1, 'grief': 1, 'hid': 1, 'lessen': 1, 'eleventh': 1, 'holiday': 1, 'twelfth': 1, 'games': 1, 'flapper': 1, 'sobs': 4, 'punching': 1, 'bone': 1, 'introduced': 1, 'cheeks': 1, 'tasted—': 1, 'lobster—': 1, 'recovered': 2, 'delightful': 2, 'sea—': 1, 'shore—': 1, 'dance': 12, 'form': 1, 'lines': 1, 'turtles': 2, 'seals': 1, 'way—': 1, 'cleared': 1, 'jelly': 1, 'salmon': 1, 'partner': 1, 'advance': 3, '—you': 1, 'twice—': 1, 'retire': 1, 'partners—': 1, 'lobsters': 7, '—change': 1, 'bound': 1, 'the—': 1, 'can—': 1, '—as': 1, 'capering': 1, 'yelled': 1, 'figure': 3, 'dropping': 1, 'land': 1, 'pretty': 1, 'mark': 3, 'dancing': 2, 'forepaws': 1, 'whiting': 7, 'snail': 3, 'treading': 2, 'toes': 3, 'porpoise': 3, 'shingle—will': 1, 'join': 9, 'askance—': 1, 'thanked': 1, 'kindly': 2, 'scaly': 1, 'england': 1, 'france—': 1, 'beloved': 1, 'dinn—': 1, 'they—you’ve': 1, 'dinn': 1, 'tails': 3, 'mouths—and': 1, 'is—': 1, 'mouths': 3, 'thrown': 1, 'shiny': 1, 'blacking': 1, 'thoughts': 2, 'obliged': 3, 'shrimp': 1, '‘keep': 1, 'anywhere': 1, 'soles': 1, 'eels': 1, 'journey': 1, '‘with': 1, '‘purpose’': 1, 'adventures—beginning': 1, 'impatient': 1, 'explanations': 1, 'gained': 1, 'listeners': 1, 'part': 2, 'tis': 1, '‘’': 1, 'sluggard': 1, 'buttons': 1, 'sharks': 1, 'eyelids': 1, 'sands': 1, 'gay': 1, 'tremulous': 1, 'belt': 1, 'follows': 3, 'shark': 1, 'editions': 2, 'around': 3, 'tide': 1, 'baked': 1, 'trims': 1, 'rises': 1, 'contemptuous': 1, 'lark': 1, 'tones': 2, 'uncommon': 1, 'explained': 1, 'persisted': 2, 'panther': 2, 'meat': 1, 'treat': 1, 'pie': 2, 'owl': 2, 'gravy': 1, 'disobey': 1, 'pie—': 1, 'crust': 1, 'sharing': 1, 'share': 1, 'banquet—': 1, 'received': 1, 'permitted': 1, 'fork': 1, 'boon': 1, 'hm': 1, 'accounting': 1, 'tastes': 1, 'rich': 1, 'tureen': 1, 'dainties': 1, 'evening': 2, 'soo—oop': 7, 'beau—ootiful': 4, 'e—e—evening': 3, 'cares': 2, 'ennyworth': 1, 'p': 1, 'pennyworth': 1, 'trial’s': 3, 'beauti—ful': 1, 'faintly': 1, 'breeze': 1, 'panted': 1, 'chains': 1, 'arrived': 1, 'parchment': 2, 'soldier': 1, 'seated': 1, 'them—all': 1, 'throne': 1, 'scroll': 2, 'standing': 1, 'guard': 1, 'trumpet': 3, 'refreshments': 1, 'pass': 1, 'court': 17, 'justice': 1, 'comfortable': 1, 'frontispiece': 1, 'becoming': 1, 'wore': 1, 'wig': 1, 'jurors': 4, 'rightly': 1, 'men': 1, 'slates': 7, 'spectacles': 3, 'indignant': 1, 'neighbour': 1, 'spell': 1, 'muddle': 1, 'slates’ll': 1, 'squeaked': 1, 'pencil': 2, 'quickly': 2, 'slate': 3, 'juror': 1, 'herald': 1, 'accusation': 1, 'blew': 2, 'summer': 2, 'blasts': 2, 'verdict': 3, 'witness': 7, 'teacup': 3, 'sent': 2, 'fourteenth': 1, 'fifteenth': 1, 'sixteenth': 1, 'dates': 1, 'shillings': 1, 'wrote': 3, 'reduced': 1, 'pence': 1, 'hat': 1, 'memorandum': 1, 'stolen': 1, 'fidgeted': 1, 'spot': 1, 'shifting': 1, 'encourage': 1, 'remain': 1, 'squeeze': 1, 'boldly': 1, 'pace': 1, 'reasonable': 1, 'ridiculous': 1, 'fashion': 2, 'list': 3, 'singers': 2, 'officers': 4, 'tea—not': 1, 'tea—': 1, 'thin—and': 1, 'so—and': 1, 't': 1, 'dunce': 1, 'that—only': 1, 'twinkled': 1, 'deny': 2, 'denies': 1, 'butter—': 1, 'miserable': 2, 'speaker': 1, 'suppressed': 4, 'tied': 1, 'bag': 1, 'canvas': 1, 'strings': 1, 'newspapers': 1, 'understood': 1, 'attempts': 1, 'applause': 1, 'trials': 1, 'lower': 1, 'officer': 1, 'folding': 1, 'examine': 2, 'shrieked': 1, 'collar': 1, 'behead': 1, 'suppress': 1, 'undertone': 2, 'ache': 1, 'fumbled': 1, '—for': 1, 'jurymen': 4, 'sprawling': 1, 'goldfish': 2, 'upsetting': 1, 'accidentally': 1, 'tipped': 1, 'globe': 1, 'flurry': 1, 'skirt': 1, 'reminding': 1, 'dismay': 1, 'accident': 2, 'die': 1, 'vague': 1, 'places—': 1, 'emphasis': 1, 'cannot': 1, 'downwards': 1, 'unable': 1, 'haste': 1, 'diligently': 1, 'pencils': 1, 'shock': 1, 'gazing': 1, 'signifies': 1, 'overcome': 1, 'un': 2, 'respectful': 1, 'important—unimportant—unimportant—important—': 1, 'unimportant': 1, 'cackled': 1, 'forty': 1, 'note': 2, 'persons': 1, 'mile': 2, 'oldest': 1, 'invented': 1, 'prisoner': 1, 'to—to': 1, 'directed': 2, 'handwriting': 1, 'prisoner’s': 1, 'verses': 4, 'queerest': 1, 'else’s': 1, 'imitated': 1, 'prove': 1, 'signed': 2, 'sign': 1, 'honest': 1, 'clapping': 1, 'mischief': 1, 'guilt': 1, 'proves': 2, 'character': 1, 'push': 1, 'returned': 2, 'trusts': 1, 'affair': 1, 'involved': 1, 'fit': 3, 'ourselves': 1, 'obstacle': 1, 'jury—': 1, 'secret': 1, 'sixpence': 1, 'atom': 1, 'attempted': 1, 'saves': 1, 'spreading': 1, 'cardboard': 1, 'course—‘': 1, 'clearer': 1, 'again—‘': 1, 'fits': 1, 'furiously': 1, 'inkstand': 1, 'ink': 1, 'trickling': 1, 'pun': 1, 'twentieth': 1, 'first—verdict': 1, 'purple': 1, 'fluttered': 1, 'flying': 1, 'brushing': 1, 'kissed': 1, 'wonderful': 2, 'sister’s': 1, 'toss': 1, 'dreaming': 1, 'clasped': 1, 'setting': 1, 'listened': 1, 'dreamed': 1, 'eyes—and': 1, 'hers—she': 1, 'splashed': 1, 'pool—she': 1, 'meal': 1, 'lizard’s': 1, 'by—the': 1, 'execution—once': 1, 'teacups': 2, 'shared': 1, 'rattle': 1, 'crashed': 1, 'rustled': 1, 'it—once': 1, 'choking': 1, 'neighbouring': 1, 'tinkling': 1, 'sheep': 1, 'cries': 1, 'lowing': 1, 'rustling': 1, 'farm': 1, 'clamour': 1, 'shepherd': 1, 'noises': 1, 'rippling': 1, 'boy—and': 1, 'believed': 1, 'reality—the': 1, 'cattle': 1, 'reeds—the': 1, 'bells': 1, 'yard—while': 1, 'sorrows': 1, 'loving': 1, 'years': 1, 'childhood': 1, 'remembering': 1, 'happy': 1, 'riper': 1, 'woman': 1, 'joys': 1, 'pictured': 1, 'lastly': 1, 'gather': 1, 'project': 1, '11': 1, 'gutenberg': 1, 'ebook': 1})\n"
     ]
    }
   ],
   "source": [
    "print(\"Word Index:\", tokenizer.word_index)\n",
    "print(\"Word Counts:\", tokenizer.word_counts)\n",
    "print(\"Document Count:\", tokenizer.document_count)\n",
    "print(\"Word Document Frequency:\", tokenizer.word_docs)"
   ]
  },
  {
   "cell_type": "code",
   "execution_count": 14,
   "metadata": {},
   "outputs": [
    {
     "name": "stdout",
     "output_type": "stream",
     "text": [
      "Alice thought she might as well wait, as she had nothing else to do,\n",
      "and perhaps after all it might tell her something worth hearing.\n",
      "['Alice', 'thought', 'she', 'might', 'as', 'well', 'wait,', 'as', 'she', 'had', 'nothing', 'else', 'to', 'do,', 'and', 'perhaps', 'after', 'all', 'it', 'might', 'tell', 'her', 'something', 'worth', 'hearing.']\n",
      "[10, 57, 5, 159, 15, 69, 1990, 15, 5, 21, 129, 360, 3, 51, 2, 223, 107, 20, 6, 159, 139, 16, 220, 699, 778]\n",
      "[10, 57, 5, 159, 15, 69, 1990, 15, 5, 21, 129, 360, 3, 51, 2, 223, 107, 20, 6, 159, 139, 16, 220, 699, 778]\n"
     ]
    }
   ],
   "source": [
    "# To understand what is happening;\n",
    "\n",
    "print(sentences[324])  # this is a sentence\n",
    "print(sentences[324].split())\n",
    "print(sequences[324])  # this is the same sentence where words are encoded as numbers.\n",
    "print(list(tokenizer.word_index[word.lower().replace(',', '').replace('.', '').replace('“', '').replace('”', '')] \n",
    "           for word in sentences[324].split()))"
   ]
  },
  {
   "cell_type": "markdown",
   "metadata": {
    "run_control": {
     "frozen": false,
     "read_only": false
    },
    "slideshow": {
     "slide_type": "slide"
    }
   },
   "source": [
    "#### Skipgrams: Generating Input and Output Labels\n",
    "- Now that we have sentences, and word tokenization, we are in good position to create our training set for skipgrams.\n",
    "- Now we need to generate our `X_train` and `y_train`\n",
    "\n",
    "#### In the context of Word2Vec and skip-gram models:\n",
    "- *Target Word* is the word for which you are trying to predict the context words.\n",
    "- *Context words* are the words that appear in the vicinity (context) of the target word.\n",
    "\n",
    "- *couples* This is a list of tuples, where each tuple contains a pair of words (integer indices) representing a skip-gram pair. For example, (2, 45) might represent a target word at index 2 and a context word at index 45. The pairs are generated based on the specified window size around each target word.\n",
    "- *labels* This is a list of binary labels associated with each skip-gram pair. A label of 1 typically indicates that the context word is a true context word (a positive sample), and a label of 0 indicates a negative sample (a randomly selected word that is not the actual context)."
   ]
  },
  {
   "cell_type": "code",
   "execution_count": 15,
   "metadata": {
    "scrolled": true
   },
   "outputs": [
    {
     "name": "stdout",
     "output_type": "stream",
     "text": [
      "Alice thought she might as well wait, as she had nothing else to do,\n",
      "and perhaps after all it might tell her something worth hearing. \n",
      "\n"
     ]
    }
   ],
   "source": [
    "# Let's first see how Keras' skipgrams function works.\n",
    "# The integer indices assigned to actual words start from 1 and padding token at index 0 allows us to represent sequences with variable lengths while still maintaining a consistent input size for the neural network.\n",
    "\n",
    "print(sentences[324], '\\n') \n",
    "couples, labels = skipgrams(sequences[324], len(tokenizer.word_index) + 1,\n",
    "    window_size=2, negative_samples=0, shuffle=True,\n",
    "    categorical=False, sampling_table=None)\n",
    "\n",
    "index_2_word = {val: key for key, val in tokenizer.word_index.items()}\n",
    "\n",
    "for (w1, w2), l in zip(couples, labels):\n",
    "    if w1 == tokenizer.word_index['temper']:\n",
    "        print(f'{index_2_word[w1]:{len(index_2_word[w1])}} - {index_2_word[w2]:10} {l}')"
   ]
  },
  {
   "cell_type": "code",
   "execution_count": 16,
   "metadata": {
    "run_control": {
     "frozen": false,
     "read_only": false
    },
    "slideshow": {
     "slide_type": "fragment"
    }
   },
   "outputs": [],
   "source": [
    "# Function to generate the inputs and outputs for all windows\n",
    "\n",
    "# Vocab size\n",
    "vocab_size = len(tokenizer.word_index) + 1\n",
    "# Dimension to reduce to\n",
    "embedding_dim = 100\n",
    "window_size = 2\n",
    "\n",
    "def generate_data(sequences, window_size, vocab_size):\n",
    "    for seq in sequences:\n",
    "        X, y = [], []\n",
    "        couples, _ = skipgrams(\n",
    "            seq, vocab_size,\n",
    "            window_size=window_size, negative_samples=0, shuffle=True,\n",
    "            categorical=False, sampling_table=None)\n",
    "        if not couples:\n",
    "            continue\n",
    "        for target, context in couples:\n",
    "            X.append(target)\n",
    "            y.append(keras.utils.to_categorical(context, vocab_size))\n",
    "        X, y = np.array(X), np.array(y)\n",
    "        X = X.reshape(len(X), 1)\n",
    "        y = y.reshape(len(X), vocab_size)\n",
    "        yield X, y\n",
    "        \n",
    "data_generator = generate_data(sequences, window_size, vocab_size)"
   ]
  },
  {
   "cell_type": "code",
   "execution_count": 17,
   "metadata": {},
   "outputs": [],
   "source": [
    "X, y = next(data_generator)"
   ]
  },
  {
   "cell_type": "markdown",
   "metadata": {
    "run_control": {
     "frozen": false,
     "read_only": false
    },
    "slideshow": {
     "slide_type": "slide"
    }
   },
   "source": [
    "### Skipgrams: Creating the Model\n",
    "* Lastly, we create the (shallow) network!\n",
    "* In Embedding layer in Keras, \n",
    "  * *input_dim* specifies the size of the vocabulary, i.e., the total number of distinct words in your dataset. It essentially sets the upper limit for the word indices that the layer can expect as input.\n",
    "  * *output_dim* specifies the size of the dense embedding vector for each input word.\n",
    "  * embeddings_initializer=*'glorot_uniform'* (also called Xavier initialization) initializes weights with a uniform distribution in a specific range, ensuring balanced gradient flow. This is useful for stabilizing training.\n",
    "  * *input_length* defines the length of the input sequence (i.e., how many tokens/words are expected in each input sample).\n",
    "Since this is a skip-gram model, each input is a single word, hence input_length=1.\n",
    "* During the training process of the Embedding layer, the updates to the embedding matrix are based on the specific word indices present in the training examples. It's not necessary to train all indices simultaneously.\n",
    "* To get the weights of the Embedding layer:\n",
    "  ```\n",
    "  embedding_weights = model.get_weights()[0]\n",
    "  ```"
   ]
  },
  {
   "cell_type": "code",
   "execution_count": null,
   "metadata": {
    "run_control": {
     "frozen": false,
     "read_only": false
    },
    "scrolled": false,
    "slideshow": {
     "slide_type": "fragment"
    }
   },
   "outputs": [
    {
     "name": "stdout",
     "output_type": "stream",
     "text": [
      "vocab_size: 2837\n",
      "embedding_dim: 100\n",
      "Model: \"sequential_4\"\n",
      "_________________________________________________________________\n",
      " Layer (type)                Output Shape              Param #   \n",
      "=================================================================\n",
      " embedding_4 (Embedding)     (None, 1, 100)            283700    \n",
      "                                                                 \n",
      " reshape_4 (Reshape)         (None, 100)               0         \n",
      "                                                                 \n",
      " dense_4 (Dense)             (None, 2837)              286537    \n",
      "                                                                 \n",
      "=================================================================\n",
      "Total params: 570,237\n",
      "Trainable params: 570,237\n",
      "Non-trainable params: 0\n",
      "_________________________________________________________________\n"
     ]
    },
    {
     "ename": "FileNotFoundError",
     "evalue": "[WinError 2] \"dot\" not found in path.",
     "output_type": "error",
     "traceback": [
      "\u001b[1;31m---------------------------------------------------------------------------\u001b[0m",
      "\u001b[1;31mFileNotFoundError\u001b[0m                         Traceback (most recent call last)",
      "File \u001b[1;32mc:\\Users\\ASUS\\anaconda3\\envs\\dl_env\\lib\\site-packages\\pydot\\core.py:1851\u001b[0m, in \u001b[0;36mDot.create\u001b[1;34m(self, prog, format, encoding)\u001b[0m\n\u001b[0;32m   1850\u001b[0m \u001b[38;5;28;01mtry\u001b[39;00m:\n\u001b[1;32m-> 1851\u001b[0m     stdout_data, stderr_data, process \u001b[38;5;241m=\u001b[39m \u001b[43mcall_graphviz\u001b[49m\u001b[43m(\u001b[49m\n\u001b[0;32m   1852\u001b[0m \u001b[43m        \u001b[49m\u001b[43mprogram\u001b[49m\u001b[38;5;241;43m=\u001b[39;49m\u001b[43mprog\u001b[49m\u001b[43m,\u001b[49m\n\u001b[0;32m   1853\u001b[0m \u001b[43m        \u001b[49m\u001b[43marguments\u001b[49m\u001b[38;5;241;43m=\u001b[39;49m\u001b[43marguments\u001b[49m\u001b[43m,\u001b[49m\n\u001b[0;32m   1854\u001b[0m \u001b[43m        \u001b[49m\u001b[43mworking_dir\u001b[49m\u001b[38;5;241;43m=\u001b[39;49m\u001b[43mtmp_dir\u001b[49m\u001b[43m,\u001b[49m\n\u001b[0;32m   1855\u001b[0m \u001b[43m    \u001b[49m\u001b[43m)\u001b[49m\n\u001b[0;32m   1856\u001b[0m \u001b[38;5;28;01mexcept\u001b[39;00m \u001b[38;5;167;01mOSError\u001b[39;00m \u001b[38;5;28;01mas\u001b[39;00m e:\n",
      "File \u001b[1;32mc:\\Users\\ASUS\\anaconda3\\envs\\dl_env\\lib\\site-packages\\pydot\\core.py:211\u001b[0m, in \u001b[0;36mcall_graphviz\u001b[1;34m(program, arguments, working_dir, **kwargs)\u001b[0m\n\u001b[0;32m    209\u001b[0m program_with_args \u001b[38;5;241m=\u001b[39m [program] \u001b[38;5;241m+\u001b[39m arguments\n\u001b[1;32m--> 211\u001b[0m process \u001b[38;5;241m=\u001b[39m subprocess\u001b[38;5;241m.\u001b[39mPopen(\n\u001b[0;32m    212\u001b[0m     program_with_args,\n\u001b[0;32m    213\u001b[0m     env\u001b[38;5;241m=\u001b[39menv,\n\u001b[0;32m    214\u001b[0m     cwd\u001b[38;5;241m=\u001b[39mworking_dir,\n\u001b[0;32m    215\u001b[0m     shell\u001b[38;5;241m=\u001b[39m\u001b[38;5;28;01mFalse\u001b[39;00m,\n\u001b[0;32m    216\u001b[0m     stderr\u001b[38;5;241m=\u001b[39msubprocess\u001b[38;5;241m.\u001b[39mPIPE,\n\u001b[0;32m    217\u001b[0m     stdout\u001b[38;5;241m=\u001b[39msubprocess\u001b[38;5;241m.\u001b[39mPIPE,\n\u001b[0;32m    218\u001b[0m     \u001b[38;5;241m*\u001b[39m\u001b[38;5;241m*\u001b[39mkwargs,\n\u001b[0;32m    219\u001b[0m )\n\u001b[0;32m    220\u001b[0m stdout_data, stderr_data \u001b[38;5;241m=\u001b[39m process\u001b[38;5;241m.\u001b[39mcommunicate()\n",
      "File \u001b[1;32mc:\\Users\\ASUS\\anaconda3\\envs\\dl_env\\lib\\subprocess.py:971\u001b[0m, in \u001b[0;36mPopen.__init__\u001b[1;34m(self, args, bufsize, executable, stdin, stdout, stderr, preexec_fn, close_fds, shell, cwd, env, universal_newlines, startupinfo, creationflags, restore_signals, start_new_session, pass_fds, user, group, extra_groups, encoding, errors, text, umask, pipesize)\u001b[0m\n\u001b[0;32m    968\u001b[0m             \u001b[38;5;28mself\u001b[39m\u001b[38;5;241m.\u001b[39mstderr \u001b[38;5;241m=\u001b[39m io\u001b[38;5;241m.\u001b[39mTextIOWrapper(\u001b[38;5;28mself\u001b[39m\u001b[38;5;241m.\u001b[39mstderr,\n\u001b[0;32m    969\u001b[0m                     encoding\u001b[38;5;241m=\u001b[39mencoding, errors\u001b[38;5;241m=\u001b[39merrors)\n\u001b[1;32m--> 971\u001b[0m     \u001b[38;5;28;43mself\u001b[39;49m\u001b[38;5;241;43m.\u001b[39;49m\u001b[43m_execute_child\u001b[49m\u001b[43m(\u001b[49m\u001b[43margs\u001b[49m\u001b[43m,\u001b[49m\u001b[43m \u001b[49m\u001b[43mexecutable\u001b[49m\u001b[43m,\u001b[49m\u001b[43m \u001b[49m\u001b[43mpreexec_fn\u001b[49m\u001b[43m,\u001b[49m\u001b[43m \u001b[49m\u001b[43mclose_fds\u001b[49m\u001b[43m,\u001b[49m\n\u001b[0;32m    972\u001b[0m \u001b[43m                        \u001b[49m\u001b[43mpass_fds\u001b[49m\u001b[43m,\u001b[49m\u001b[43m \u001b[49m\u001b[43mcwd\u001b[49m\u001b[43m,\u001b[49m\u001b[43m \u001b[49m\u001b[43menv\u001b[49m\u001b[43m,\u001b[49m\n\u001b[0;32m    973\u001b[0m \u001b[43m                        \u001b[49m\u001b[43mstartupinfo\u001b[49m\u001b[43m,\u001b[49m\u001b[43m \u001b[49m\u001b[43mcreationflags\u001b[49m\u001b[43m,\u001b[49m\u001b[43m \u001b[49m\u001b[43mshell\u001b[49m\u001b[43m,\u001b[49m\n\u001b[0;32m    974\u001b[0m \u001b[43m                        \u001b[49m\u001b[43mp2cread\u001b[49m\u001b[43m,\u001b[49m\u001b[43m \u001b[49m\u001b[43mp2cwrite\u001b[49m\u001b[43m,\u001b[49m\n\u001b[0;32m    975\u001b[0m \u001b[43m                        \u001b[49m\u001b[43mc2pread\u001b[49m\u001b[43m,\u001b[49m\u001b[43m \u001b[49m\u001b[43mc2pwrite\u001b[49m\u001b[43m,\u001b[49m\n\u001b[0;32m    976\u001b[0m \u001b[43m                        \u001b[49m\u001b[43merrread\u001b[49m\u001b[43m,\u001b[49m\u001b[43m \u001b[49m\u001b[43merrwrite\u001b[49m\u001b[43m,\u001b[49m\n\u001b[0;32m    977\u001b[0m \u001b[43m                        \u001b[49m\u001b[43mrestore_signals\u001b[49m\u001b[43m,\u001b[49m\n\u001b[0;32m    978\u001b[0m \u001b[43m                        \u001b[49m\u001b[43mgid\u001b[49m\u001b[43m,\u001b[49m\u001b[43m \u001b[49m\u001b[43mgids\u001b[49m\u001b[43m,\u001b[49m\u001b[43m \u001b[49m\u001b[43muid\u001b[49m\u001b[43m,\u001b[49m\u001b[43m \u001b[49m\u001b[43mumask\u001b[49m\u001b[43m,\u001b[49m\n\u001b[0;32m    979\u001b[0m \u001b[43m                        \u001b[49m\u001b[43mstart_new_session\u001b[49m\u001b[43m)\u001b[49m\n\u001b[0;32m    980\u001b[0m \u001b[38;5;28;01mexcept\u001b[39;00m:\n\u001b[0;32m    981\u001b[0m     \u001b[38;5;66;03m# Cleanup if the child failed starting.\u001b[39;00m\n",
      "File \u001b[1;32mc:\\Users\\ASUS\\anaconda3\\envs\\dl_env\\lib\\subprocess.py:1456\u001b[0m, in \u001b[0;36mPopen._execute_child\u001b[1;34m(self, args, executable, preexec_fn, close_fds, pass_fds, cwd, env, startupinfo, creationflags, shell, p2cread, p2cwrite, c2pread, c2pwrite, errread, errwrite, unused_restore_signals, unused_gid, unused_gids, unused_uid, unused_umask, unused_start_new_session)\u001b[0m\n\u001b[0;32m   1455\u001b[0m \u001b[38;5;28;01mtry\u001b[39;00m:\n\u001b[1;32m-> 1456\u001b[0m     hp, ht, pid, tid \u001b[38;5;241m=\u001b[39m \u001b[43m_winapi\u001b[49m\u001b[38;5;241;43m.\u001b[39;49m\u001b[43mCreateProcess\u001b[49m\u001b[43m(\u001b[49m\u001b[43mexecutable\u001b[49m\u001b[43m,\u001b[49m\u001b[43m \u001b[49m\u001b[43margs\u001b[49m\u001b[43m,\u001b[49m\n\u001b[0;32m   1457\u001b[0m \u001b[43m                             \u001b[49m\u001b[38;5;66;43;03m# no special security\u001b[39;49;00m\n\u001b[0;32m   1458\u001b[0m \u001b[43m                             \u001b[49m\u001b[38;5;28;43;01mNone\u001b[39;49;00m\u001b[43m,\u001b[49m\u001b[43m \u001b[49m\u001b[38;5;28;43;01mNone\u001b[39;49;00m\u001b[43m,\u001b[49m\n\u001b[0;32m   1459\u001b[0m \u001b[43m                             \u001b[49m\u001b[38;5;28;43mint\u001b[39;49m\u001b[43m(\u001b[49m\u001b[38;5;129;43;01mnot\u001b[39;49;00m\u001b[43m \u001b[49m\u001b[43mclose_fds\u001b[49m\u001b[43m)\u001b[49m\u001b[43m,\u001b[49m\n\u001b[0;32m   1460\u001b[0m \u001b[43m                             \u001b[49m\u001b[43mcreationflags\u001b[49m\u001b[43m,\u001b[49m\n\u001b[0;32m   1461\u001b[0m \u001b[43m                             \u001b[49m\u001b[43menv\u001b[49m\u001b[43m,\u001b[49m\n\u001b[0;32m   1462\u001b[0m \u001b[43m                             \u001b[49m\u001b[43mcwd\u001b[49m\u001b[43m,\u001b[49m\n\u001b[0;32m   1463\u001b[0m \u001b[43m                             \u001b[49m\u001b[43mstartupinfo\u001b[49m\u001b[43m)\u001b[49m\n\u001b[0;32m   1464\u001b[0m \u001b[38;5;28;01mfinally\u001b[39;00m:\n\u001b[0;32m   1465\u001b[0m     \u001b[38;5;66;03m# Child is launched. Close the parent's copy of those pipe\u001b[39;00m\n\u001b[0;32m   1466\u001b[0m     \u001b[38;5;66;03m# handles that only the child should have open.  You need\u001b[39;00m\n\u001b[1;32m   (...)\u001b[0m\n\u001b[0;32m   1469\u001b[0m     \u001b[38;5;66;03m# pipe will not close when the child process exits and the\u001b[39;00m\n\u001b[0;32m   1470\u001b[0m     \u001b[38;5;66;03m# ReadFile will hang.\u001b[39;00m\n",
      "\u001b[1;31mFileNotFoundError\u001b[0m: [WinError 2] The system cannot find the file specified",
      "\nDuring handling of the above exception, another exception occurred:\n",
      "\u001b[1;31mFileNotFoundError\u001b[0m                         Traceback (most recent call last)",
      "Cell \u001b[1;32mIn[22], line 11\u001b[0m\n\u001b[0;32m      9\u001b[0m \u001b[38;5;28mprint\u001b[39m(\u001b[38;5;124m'\u001b[39m\u001b[38;5;124membedding_dim:\u001b[39m\u001b[38;5;124m'\u001b[39m, embedding_dim)\n\u001b[0;32m     10\u001b[0m skipgram\u001b[38;5;241m.\u001b[39msummary()\n\u001b[1;32m---> 11\u001b[0m SVG(\u001b[43mmodel_to_dot\u001b[49m\u001b[43m(\u001b[49m\u001b[43mskipgram\u001b[49m\u001b[43m,\u001b[49m\u001b[43m \u001b[49m\u001b[43mshow_shapes\u001b[49m\u001b[38;5;241;43m=\u001b[39;49m\u001b[38;5;28;43;01mTrue\u001b[39;49;00m\u001b[43m,\u001b[49m\u001b[43m \u001b[49m\u001b[43mdpi\u001b[49m\u001b[38;5;241;43m=\u001b[39;49m\u001b[38;5;241;43m65\u001b[39;49m\u001b[43m)\u001b[49m\u001b[38;5;241;43m.\u001b[39;49m\u001b[43mcreate\u001b[49m\u001b[43m(\u001b[49m\u001b[43mprog\u001b[49m\u001b[38;5;241;43m=\u001b[39;49m\u001b[38;5;124;43m'\u001b[39;49m\u001b[38;5;124;43mdot\u001b[39;49m\u001b[38;5;124;43m'\u001b[39;49m\u001b[43m,\u001b[49m\u001b[43m \u001b[49m\u001b[38;5;28;43mformat\u001b[39;49m\u001b[38;5;241;43m=\u001b[39;49m\u001b[38;5;124;43m'\u001b[39;49m\u001b[38;5;124;43msvg\u001b[39;49m\u001b[38;5;124;43m'\u001b[39;49m\u001b[43m)\u001b[49m)\n",
      "File \u001b[1;32mc:\\Users\\ASUS\\anaconda3\\envs\\dl_env\\lib\\site-packages\\pydot\\core.py:1860\u001b[0m, in \u001b[0;36mDot.create\u001b[1;34m(self, prog, format, encoding)\u001b[0m\n\u001b[0;32m   1858\u001b[0m     args \u001b[38;5;241m=\u001b[39m \u001b[38;5;28mlist\u001b[39m(e\u001b[38;5;241m.\u001b[39margs)\n\u001b[0;32m   1859\u001b[0m     args[\u001b[38;5;241m1\u001b[39m] \u001b[38;5;241m=\u001b[39m \u001b[38;5;124mf\u001b[39m\u001b[38;5;124m'\u001b[39m\u001b[38;5;124m\"\u001b[39m\u001b[38;5;132;01m{\u001b[39;00mprog\u001b[38;5;132;01m}\u001b[39;00m\u001b[38;5;124m\"\u001b[39m\u001b[38;5;124m not found in path.\u001b[39m\u001b[38;5;124m'\u001b[39m\n\u001b[1;32m-> 1860\u001b[0m     \u001b[38;5;28;01mraise\u001b[39;00m \u001b[38;5;167;01mOSError\u001b[39;00m(\u001b[38;5;241m*\u001b[39margs)\n\u001b[0;32m   1861\u001b[0m \u001b[38;5;28;01melse\u001b[39;00m:\n\u001b[0;32m   1862\u001b[0m     \u001b[38;5;28;01mraise\u001b[39;00m\n",
      "\u001b[1;31mFileNotFoundError\u001b[0m: [WinError 2] \"dot\" not found in path."
     ]
    }
   ],
   "source": [
    "# Create the Keras model and view it \n",
    "skipgram = Sequential()\n",
    "skipgram.add(Embedding(input_dim=vocab_size, output_dim=embedding_dim, \n",
    "                       embeddings_initializer='glorot_uniform', input_length=1))\n",
    "skipgram.add(Reshape((embedding_dim,)))\n",
    "skipgram.add(Dense(units=vocab_size, activation='softmax'))\n",
    "\n",
    "print('vocab_size:', vocab_size)\n",
    "print('embedding_dim:', embedding_dim)\n",
    "skipgram.summary()\n",
    "SVG(model_to_dot(skipgram, show_shapes=True, dpi=65).create(prog='dot', format='svg'))"
   ]
  },
  {
   "cell_type": "markdown",
   "metadata": {
    "run_control": {
     "frozen": false,
     "read_only": false
    },
    "slideshow": {
     "slide_type": "slide"
    }
   },
   "source": [
    "### Skipgrams: Compiling and Training\n",
    "- Time to compile and train\n",
    "- We use crossentropy, common loss for classification"
   ]
  },
  {
   "cell_type": "code",
   "execution_count": null,
   "metadata": {},
   "outputs": [],
   "source": [
    "# Compile the Keras Model\n",
    "skipgram.compile(loss='categorical_crossentropy', optimizer='adam')\n",
    "\n",
    "# Fit the Skipgrams\n",
    "for iteration in range(1, 11):\n",
    "    loss, cnt = 0, 0\n",
    "    for x, y in generate_data(sequences, window_size, vocab_size):\n",
    "        loss += skipgram.train_on_batch(x, y)\n",
    "        cnt += 1\n",
    "    print('iteration {}, avg. loss is {}'.format(iteration, loss/cnt))"
   ]
  },
  {
   "cell_type": "markdown",
   "metadata": {},
   "source": [
    "### Skipgrams: Looking at the vectors\n",
    "\n",
    "To get word_vectors now, we look at the weights of the first layer.\n",
    "\n",
    "Let's also write functions giving us similarity of two words."
   ]
  },
  {
   "cell_type": "code",
   "execution_count": 11,
   "metadata": {},
   "outputs": [],
   "source": [
    "word_vectors = skipgram.get_weights()[0]\n",
    "\n",
    "def get_similarity(w1, w2):\n",
    "    i1, i2 = tokenizer.word_index[w1], tokenizer.word_index[w2]\n",
    "    v1, v2 = word_vectors[i1], word_vectors[i2]\n",
    "    return np.dot(v1, v2)/(np.linalg.norm(v1)*np.linalg.norm(v2))"
   ]
  },
  {
   "cell_type": "code",
   "execution_count": null,
   "metadata": {},
   "outputs": [],
   "source": [
    "get_similarity('king', 'queen')"
   ]
  },
  {
   "cell_type": "code",
   "execution_count": 17,
   "metadata": {},
   "outputs": [],
   "source": [
    "w1 = 'queen'\n",
    "similar_words  = {word: get_similarity(w1, word) \n",
    "                  for word in tokenizer.word_index.keys() if word != w1}"
   ]
  },
  {
   "cell_type": "code",
   "execution_count": null,
   "metadata": {},
   "outputs": [],
   "source": [
    "sorted(similar_words.items(), key=lambda item: item[1])[-10:]"
   ]
  },
  {
   "cell_type": "markdown",
   "metadata": {},
   "source": [
    "## <span style=\"color:orange\">(100 คะแนน) ปรับจูนโมเดลให้ดีขึ้นเพื่อหาคำที่ใกล้เคียงกับคำที่ระบุ</span>\n",
    "### * (50 คะแนน) ให้แสดงคำ 10 คำแรกที่ใกล้เคียงกับ queen มากที่สุดพร้อมค่าตัววัด\n",
    "### * (50 คะแนน) ให้แสดงคำ 10 คำแรกที่ใกล้เคียงกับ queen น้อยที่สุดพร้อมค่าตัววัด  "
   ]
  },
  {
   "cell_type": "code",
   "execution_count": null,
   "metadata": {},
   "outputs": [],
   "source": []
  }
 ],
 "metadata": {
  "anaconda-cloud": {},
  "kernelspec": {
   "display_name": "dl_env",
   "language": "python",
   "name": "python3"
  },
  "language_info": {
   "codemirror_mode": {
    "name": "ipython",
    "version": 3
   },
   "file_extension": ".py",
   "mimetype": "text/x-python",
   "name": "python",
   "nbconvert_exporter": "python",
   "pygments_lexer": "ipython3",
   "version": "3.10.16"
  },
  "latex_envs": {
   "bibliofile": "biblio.bib",
   "cite_by": "apalike",
   "current_citInitial": 1,
   "eqLabelWithNumbers": true,
   "eqNumInitial": 0
  },
  "livereveal": {
   "height": "100%",
   "margin": 0,
   "maxScale": 1,
   "minScale": 1,
   "scroll": true,
   "start_slideshow_at": "selected",
   "theme": "sky",
   "transition": "zoom",
   "width": "100%"
  },
  "toc": {
   "nav_menu": {
    "height": "369px",
    "width": "252px"
   },
   "navigate_menu": true,
   "number_sections": false,
   "sideBar": true,
   "threshold": 4,
   "toc_cell": false,
   "toc_position": {
    "height": "457px",
    "left": "0px",
    "right": "968px",
    "top": "130px",
    "width": "214px"
   },
   "toc_section_display": "block",
   "toc_window_display": false
  }
 },
 "nbformat": 4,
 "nbformat_minor": 1
}
